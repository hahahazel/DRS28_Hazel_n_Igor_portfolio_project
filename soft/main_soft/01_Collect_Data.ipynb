{
 "cells": [
  {
   "cell_type": "code",
   "execution_count": null,
   "id": "130cadaa",
   "metadata": {},
   "outputs": [],
   "source": [
    "# import os\n",
    "# os._exit(00)"
   ]
  },
  {
   "cell_type": "code",
   "execution_count": null,
   "id": "5b3d715e",
   "metadata": {},
   "outputs": [],
   "source": [
    "## environment preparation\n",
    "##============================\n",
    "\n",
    "%reset -f\n",
    "%connect_info #might be used for \"jupyter-console\""
   ]
  },
  {
   "cell_type": "code",
   "execution_count": null,
   "id": "5b229124",
   "metadata": {},
   "outputs": [],
   "source": [
    "## Hint. (crutch / quick workaround)\n",
    "## HOW TO RESTART THIS NOTEBOOK TO COLLECT A FEW SAMPLES\n",
    "##============================\n",
    "\n",
    "## To restart this notebook for multiple data collection there are two options:\n",
    "\n",
    "## option A\n",
    "##-----------\n",
    "## uncomment the 1st cell of this notebook \n",
    "## with the code \n",
    "##   import os\n",
    "##   os._exit(00)\n",
    "\n",
    "## option B\n",
    "##-----------\n",
    "## use Kernel -> \"Restart & Run All\"\n",
    "## instead of just \"Run All\"\n",
    "\n",
    "\n",
    "## This will ensure that the paths are correct and No error will appear.\n",
    "## Yes, this is an crutch (quick workaround), \n",
    "## but so far there was not found better solution to ensure \n",
    "## that data would be always recorded to a correct dicrectory"
   ]
  },
  {
   "cell_type": "code",
   "execution_count": null,
   "id": "526141bc",
   "metadata": {},
   "outputs": [],
   "source": [
    "## Hint\n",
    "##============================\n",
    "\n",
    "### check the status of the port (linux version)\n",
    "# sudo ls -la /dev/ttyACM*  \n",
    "### must be 666=rw all\n",
    "# !groups your_os_user_name\n",
    "### must be group tty"
   ]
  },
  {
   "cell_type": "code",
   "execution_count": null,
   "id": "3043e047",
   "metadata": {},
   "outputs": [],
   "source": [
    "## Hint\n",
    "##============================\n",
    "\n",
    "### Use in terminal\n",
    "# sudo chmod 666 /dev/ttyACM0\n",
    "### or RUN here\n",
    "# !xfce4-terminal -e \"sudo chmod 666 /dev/ttyACM0 \""
   ]
  },
  {
   "cell_type": "code",
   "execution_count": null,
   "id": "5112cc61",
   "metadata": {},
   "outputs": [],
   "source": [
    "## Hint\n",
    "##============================\n",
    "\n",
    "##### Try this if previos cell does not work\n",
    "###-----------------------\n",
    "### Use in terminal\n",
    "# sudo usermod -a -G tty $USER\n",
    "### or RUN here\n",
    "# !xfce4-terminal -e \"sudo usermod -a -G tty $USER\""
   ]
  },
  {
   "cell_type": "code",
   "execution_count": null,
   "id": "a44f6ec5",
   "metadata": {},
   "outputs": [],
   "source": [
    "#######################################################\n",
    "#######################################################\n",
    "\n",
    "# Reading is done via Arduino Uno via post ttyACMO\n",
    "# The reading frequecny is 10Hz (100ms)\n",
    "# the 1st 7..10 samples should be thrown away \n",
    "# bcoz of bad data format\n",
    "\n",
    "# for each reading change:\n",
    "#     dir_2_save = \"run_A1/\"\n",
    "#     label = \"sampleX\"\n",
    "#     add_label = \"1\"\n",
    "#     env_condition = \"condition1\"\n",
    "#     N_of_readings = 20 #=2sec\n",
    "\n",
    "#######################################################\n",
    "#######################################################"
   ]
  },
  {
   "cell_type": "code",
   "execution_count": null,
   "id": "9dacfc11",
   "metadata": {},
   "outputs": [],
   "source": [
    "## Import libraries\n",
    "##============================\n",
    "\n",
    "import serial\n",
    "from datetime import datetime\n",
    "import time\n",
    "import os\n",
    "from tqdm import tqdm\n",
    "import numpy as np\n",
    "import pandas as pd\n",
    "import matplotlib.pyplot as plt"
   ]
  },
  {
   "cell_type": "code",
   "execution_count": null,
   "id": "8cd1eef3",
   "metadata": {},
   "outputs": [],
   "source": [
    "## Settings to Change\n",
    "##============================\n",
    "\n",
    "dir_2_save = \"run_A1/\"\n",
    "\n",
    "label = \"sampleX1\"\n",
    "add_label = \"1\"\n",
    "env_condition = \"condition1\"\n",
    "\n",
    "reading_duration = 0.2 # in min, 0.2min=12sec"
   ]
  },
  {
   "cell_type": "code",
   "execution_count": null,
   "id": "13ef25e3",
   "metadata": {},
   "outputs": [],
   "source": [
    "## Additional Settings \n",
    "##============================\n",
    "\n",
    "N_of_readings = 10*60*reading_duration #10Hz 60sec\n",
    "\n",
    "serial_port = '/dev/ttyACM0'\n",
    "baud_rate = 9600"
   ]
  },
  {
   "cell_type": "code",
   "execution_count": null,
   "id": "b29f13bd",
   "metadata": {},
   "outputs": [],
   "source": [
    "## Adjusting directory to save data\n",
    "##============================\n",
    "\n",
    "path_ipynb = os.getcwd()\n",
    "path_base = path_ipynb + '/../../data/'\n",
    "path_add_rdbk = 'readback/'\n",
    "path_work = path_base + path_add_rdbk\n",
    "os.chdir(path_work)\n",
    "\n",
    "try:\n",
    "    os.makedirs(dir_2_save)\n",
    "except:\n",
    "    print('folder already exists')\n",
    "    pass\n",
    "        \n",
    "os.chdir(dir_2_save)\n",
    "pathW = os.getcwd()\n",
    "print(pathW)"
   ]
  },
  {
   "cell_type": "code",
   "execution_count": null,
   "id": "c31791fb",
   "metadata": {},
   "outputs": [],
   "source": [
    "## Data Acquisition \n",
    "##============================\n",
    "\n",
    "pbar = tqdm(total=N_of_readings)\n",
    "GGS_list = []\n",
    "init_time = round(time.time(),3)*1000\n",
    "\n",
    "# Main loop for data acquisition\n",
    "## If it breaks first of all try to restart\n",
    "with serial.Serial(serial_port, baud_rate) as ser:\n",
    "    for cc1 in tqdm(range(10)):\n",
    "        line_z = ser.readline();\n",
    "        line_dec_z = line_z.decode(\"utf-8\")\n",
    "    while len(GGS_list) < N_of_readings:\n",
    "        line = ser.readline();\n",
    "        line_dec = line.decode(\"utf-8\") #ser.readline returns a binary, convert to string\n",
    "        lst0 = line_dec.split(\",\")\n",
    "        lst1 = [int(x) for x in lst0]\n",
    "        if len(lst1)==6:\n",
    "            GGS_list += [[int(round(time.time(),3)*1000-init_time)] + lst1]\n",
    "            pbar.update(1)\n",
    "            plt.plot"
   ]
  },
  {
   "cell_type": "code",
   "execution_count": null,
   "id": "a3602146",
   "metadata": {},
   "outputs": [],
   "source": [
    "## Acqusition result\n",
    "##============================\n",
    "\n",
    "GGS_list[0:6]"
   ]
  },
  {
   "cell_type": "code",
   "execution_count": null,
   "id": "82187ead",
   "metadata": {},
   "outputs": [],
   "source": [
    "## Convert to DataFrame\n",
    "##============================\n",
    "\n",
    "GGS_df = pd.DataFrame(GGS_list, columns=\n",
    "                      [\"time_ms\", \"B102NO2\", \"B302C2H5OH\", \"B502VOC\", \"B702CO\", \n",
    "                       \"TdegC\", \"RH\"])"
   ]
  },
  {
   "cell_type": "code",
   "execution_count": null,
   "id": "6a5901a0",
   "metadata": {},
   "outputs": [],
   "source": [
    "## Save to File\n",
    "##============================\n",
    "\n",
    "filename_to_save = \"./%s_%s_%s_%s.csv\" % (label, add_label, env_condition, \n",
    "                                          datetime.now().strftime(\"%Y%m%d_%H%M%S\"))\n",
    "\n",
    "with open(filename_to_save, 'w') as output_file:\n",
    "    GGS_df.to_csv(output_file, index=False)\n",
    "    print(\"Saved to file: \" + filename_to_save)\n",
    "    print(\"Under the path: \" + pathW)"
   ]
  },
  {
   "cell_type": "code",
   "execution_count": null,
   "id": "e5fc1b8e",
   "metadata": {},
   "outputs": [],
   "source": [
    "## Visualisation of the collected data\n",
    "##============================\n",
    "\n",
    "plt.figure(figsize=(10,5))\n",
    "plt.plot(GGS_df.time_ms, GGS_df.drop('time_ms', axis=1))\n",
    "plt.legend(GGS_df.drop('time_ms', axis=1).columns.to_list())\n",
    "plt.tick_params(axis='x', colors='red')\n",
    "plt.tick_params(axis='y', colors='red')\n",
    "plt.grid()"
   ]
  },
  {
   "cell_type": "code",
   "execution_count": null,
   "id": "c9b82456",
   "metadata": {},
   "outputs": [],
   "source": [
    "## The collected data overview\n",
    "##============================\n",
    "\n",
    "GGS_df.head()"
   ]
  }
 ],
 "metadata": {
  "kernelspec": {
   "display_name": "pyAIsense_env",
   "language": "python",
   "name": "pyaisense"
  },
  "language_info": {
   "codemirror_mode": {
    "name": "ipython",
    "version": 3
   },
   "file_extension": ".py",
   "mimetype": "text/x-python",
   "name": "python",
   "nbconvert_exporter": "python",
   "pygments_lexer": "ipython3",
   "version": "3.9.7"
  }
 },
 "nbformat": 4,
 "nbformat_minor": 5
}
