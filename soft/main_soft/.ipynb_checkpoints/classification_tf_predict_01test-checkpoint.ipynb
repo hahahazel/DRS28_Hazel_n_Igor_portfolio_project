{
 "cells": [
  {
   "cell_type": "code",
   "execution_count": 1,
   "metadata": {
    "scrolled": true
   },
   "outputs": [],
   "source": [
    "%reset -f\n",
    "# %connect_info"
   ]
  },
  {
   "cell_type": "code",
   "execution_count": null,
   "metadata": {},
   "outputs": [],
   "source": [
    "import numpy as np\n",
    "import tensorflow as tf\n",
    "import matplotlib.pyplot as plt\n",
    "import pandas as pd"
   ]
  },
  {
   "cell_type": "code",
   "execution_count": null,
   "metadata": {},
   "outputs": [],
   "source": [
    "classes_values = ['air',\n",
    "                  'beer',\n",
    "                  'bread',\n",
    "                  'carrot',\n",
    "                  'cheese',\n",
    "                  'coffee',\n",
    "                  'cola',\n",
    "                  'cucumber',\n",
    "                  'gluehwein',\n",
    "                  'lemon',\n",
    "                  'orange',\n",
    "                  'sprite',\n",
    "                  'tomato']"
   ]
  },
  {
   "cell_type": "code",
   "execution_count": null,
   "metadata": {},
   "outputs": [],
   "source": [
    "## Load into a new model\n",
    "new_model = tf.keras.models.load_model('saved_model/TFNN_model_05')"
   ]
  },
  {
   "cell_type": "code",
   "execution_count": null,
   "metadata": {},
   "outputs": [],
   "source": [
    "## Data to predict\n",
    "# data2predictList = [[327, 90, 208, 134]] #coffee (ggsI)\n",
    "X_init = np.load('x_train.npy')\n",
    "Y_init = np.load('y_train.npy')[:,0]\n",
    "randt_index_X = np.random.randint(low=0, high=X_init.shape[0], size=1, dtype=int)\n",
    "data2predictArr = X_init[randt_index_X, :]\n",
    "# data2predictArr = np.array(data2predictList)\n",
    "data2predictLabel = classes_values[Y_init[randt_index_X][0]-1]\n",
    "\n",
    "## Prediction\n",
    "predictionN = new_model.predict(data2predictArr)"
   ]
  },
  {
   "cell_type": "code",
   "execution_count": 24,
   "metadata": {},
   "outputs": [
    {
     "data": {
      "image/png": "[encoded data removed]",
      "text/plain": [
       "<Figure size 432x288 with 1 Axes>"
      ]
     },
     "metadata": {
      "needs_background": "light"
     },
     "output_type": "display_data"
    }
   ],
   "source": [
    "## Plotting\n",
    "plt.bar(classes_values, predictionN.tolist()[0])\n",
    "plt.title(\"Orig label: \" + data2predictLabel, color='red')\n",
    "plt.tick_params(axis='x', colors='red')\n",
    "plt.tick_params(axis='y', colors='red')\n",
    "plt.grid()"
   ]
  },
  {
   "cell_type": "code",
   "execution_count": 29,
   "metadata": {},
   "outputs": [
    {
     "data": {
      "text/html": [
       "<div>\n",
       "<style scoped>\n",
       "    .dataframe tbody tr th:only-of-type {\n",
       "        vertical-align: middle;\n",
       "    }\n",
       "\n",
       "    .dataframe tbody tr th {\n",
       "        vertical-align: top;\n",
       "    }\n",
       "\n",
       "    .dataframe thead th {\n",
       "        text-align: right;\n",
       "    }\n",
       "</style>\n",
       "<table border=\"1\" class=\"dataframe\">\n",
       "  <thead>\n",
       "    <tr style=\"text-align: right;\">\n",
       "      <th></th>\n",
       "      <th>0</th>\n",
       "    </tr>\n",
       "  </thead>\n",
       "  <tbody>\n",
       "    <tr>\n",
       "      <th>air</th>\n",
       "      <td>3.246079e-05</td>\n",
       "    </tr>\n",
       "    <tr>\n",
       "      <th>beer</th>\n",
       "      <td>0.000000e+00</td>\n",
       "    </tr>\n",
       "    <tr>\n",
       "      <th>bread</th>\n",
       "      <td>9.351583e-27</td>\n",
       "    </tr>\n",
       "    <tr>\n",
       "      <th>carrot</th>\n",
       "      <td>1.608799e-09</td>\n",
       "    </tr>\n",
       "    <tr>\n",
       "      <th>coffee</th>\n",
       "      <td>0.000000e+00</td>\n",
       "    </tr>\n",
       "    <tr>\n",
       "      <th>orange</th>\n",
       "      <td>0.000000e+00</td>\n",
       "    </tr>\n",
       "    <tr>\n",
       "      <th>potato</th>\n",
       "      <td>9.999676e-01</td>\n",
       "    </tr>\n",
       "    <tr>\n",
       "      <th>wheatbread</th>\n",
       "      <td>0.000000e+00</td>\n",
       "    </tr>\n",
       "    <tr>\n",
       "      <th>wine</th>\n",
       "      <td>1.280913e-27</td>\n",
       "    </tr>\n",
       "  </tbody>\n",
       "</table>\n",
       "</div>"
      ],
      "text/plain": [
       "                       0\n",
       "air         3.246079e-05\n",
       "beer        0.000000e+00\n",
       "bread       9.351583e-27\n",
       "carrot      1.608799e-09\n",
       "coffee      0.000000e+00\n",
       "orange      0.000000e+00\n",
       "potato      9.999676e-01\n",
       "wheatbread  0.000000e+00\n",
       "wine        1.280913e-27"
      ]
     },
     "execution_count": 29,
     "metadata": {},
     "output_type": "execute_result"
    }
   ],
   "source": [
    "chart_data = pd.DataFrame(\n",
    "          predictionN.transpose(),\n",
    "          index=classes_values,\n",
    "          )\n",
    "\n",
    "chart_data"
   ]
  },
  {
   "cell_type": "code",
   "execution_count": 31,
   "metadata": {},
   "outputs": [
    {
     "data": {
      "text/plain": [
       "9"
      ]
     },
     "execution_count": 31,
     "metadata": {},
     "output_type": "execute_result"
    }
   ],
   "source": [
    "predictionN.size"
   ]
  }
 ],
 "metadata": {
  "kernelspec": {
   "display_name": "pyAIsense_env",
   "language": "python",
   "name": "pyaisense"
  },
  "language_info": {
   "codemirror_mode": {
    "name": "ipython",
    "version": 3
   },
   "file_extension": ".py",
   "mimetype": "text/x-python",
   "name": "python",
   "nbconvert_exporter": "python",
   "pygments_lexer": "ipython3",
   "version": "3.9.7"
  }
 },
 "nbformat": 4,
 "nbformat_minor": 4
}
