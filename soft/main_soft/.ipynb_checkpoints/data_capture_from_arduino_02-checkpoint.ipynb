{
 "cells": [
  {
   "cell_type": "code",
   "execution_count": 12,
   "id": "5b3d715e",
   "metadata": {},
   "outputs": [
    {
     "name": "stderr",
     "output_type": "stream",
     "text": [
      "  8%|█████▎                                                                | 137/1800 [00:35<07:09,  3.87it/s]\n"
     ]
    }
   ],
   "source": [
    "%reset -f"
   ]
  },
  {
   "cell_type": "code",
   "execution_count": 13,
   "id": "c6c4ee13",
   "metadata": {},
   "outputs": [
    {
     "name": "stdout",
     "output_type": "stream",
     "text": [
      "{\n",
      "  \"shell_port\": 50863,\n",
      "  \"iopub_port\": 33267,\n",
      "  \"stdin_port\": 35729,\n",
      "  \"control_port\": 60513,\n",
      "  \"hb_port\": 45311,\n",
      "  \"ip\": \"127.0.0.1\",\n",
      "  \"key\": \"4fffaaf5-dc7488c80d01394be5126559\",\n",
      "  \"transport\": \"tcp\",\n",
      "  \"signature_scheme\": \"hmac-sha256\",\n",
      "  \"kernel_name\": \"\"\n",
      "}\n",
      "\n",
      "Paste the above JSON into a file, and connect with:\n",
      "    $> jupyter <app> --existing <file>\n",
      "or, if you are local, you can connect with just:\n",
      "    $> jupyter <app> --existing kernel-b318c94d-e574-42b3-80a2-be24cf34ad14.json\n",
      "or even just:\n",
      "    $> jupyter <app> --existing\n",
      "if this is the most recent Jupyter kernel you have started.\n"
     ]
    }
   ],
   "source": [
    "%connect_info"
   ]
  },
  {
   "cell_type": "code",
   "execution_count": 14,
   "id": "526141bc",
   "metadata": {},
   "outputs": [],
   "source": [
    "### check the status of the port\n",
    "# sudo ls -la /dev/ \n",
    "### must be 666=rw all\n",
    "# !groups trix_arch\n",
    "### must be group tty"
   ]
  },
  {
   "cell_type": "code",
   "execution_count": 15,
   "id": "3043e047",
   "metadata": {},
   "outputs": [],
   "source": [
    "### Use in terminal\n",
    "# sudo chmod 666 /dev/ttyACM0\n",
    "### or RUN here\n",
    "# !xfce4-terminal -e \"sudo chmod 666 /dev/ttyACM0 \""
   ]
  },
  {
   "cell_type": "code",
   "execution_count": 16,
   "id": "5112cc61",
   "metadata": {},
   "outputs": [],
   "source": [
    "##### Try this if previos cell does not work\n",
    "###-----------------------\n",
    "### Use in terminal\n",
    "# sudo usermod -a -G tty $USER\n",
    "### or RUN here\n",
    "# !xfce4-terminal -e \"sudo usermod -a -G tty $USER\""
   ]
  },
  {
   "cell_type": "code",
   "execution_count": 17,
   "id": "a44f6ec5",
   "metadata": {},
   "outputs": [],
   "source": [
    "#######################################################\n",
    "#######################################################\n",
    "\n",
    "# Reading is done from arduino Uno via post ttyACMO\n",
    "# The reading frequecny is 5Hz (200ms)\n",
    "# the 1st 7/10 samples should be thruwn away \n",
    "# bcoz of bad data format\n",
    "\n",
    "# for each reading change:\n",
    "#     dir_2_save = \"run0/\"\n",
    "#     label = \"sampleX\"\n",
    "#     add_label = \"1\"\n",
    "#     env_condition = \"room\"\n",
    "#     N_of_readings = 10 #=2sec\n",
    "\n",
    "#######################################################\n",
    "#######################################################"
   ]
  },
  {
   "cell_type": "code",
   "execution_count": 18,
   "id": "9dacfc11",
   "metadata": {},
   "outputs": [],
   "source": [
    "import serial\n",
    "from datetime import datetime\n",
    "import time\n",
    "import os\n",
    "from tqdm import tqdm\n",
    "import numpy as np\n",
    "import pandas as pd\n",
    "import matplotlib.pyplot as plt"
   ]
  },
  {
   "cell_type": "code",
   "execution_count": 19,
   "id": "8cd1eef3",
   "metadata": {},
   "outputs": [],
   "source": [
    "dir_2_save = \"run2_tests/\""
   ]
  },
  {
   "cell_type": "code",
   "execution_count": 20,
   "id": "13ef25e3",
   "metadata": {},
   "outputs": [],
   "source": [
    "# label = \"samplaX\"\n",
    "# add_label = \"1\"\n",
    "# env_condition = \"room\"\n",
    "# N_of_readings = 50 #5Hz=200ms : 10 -> 2sec\n",
    "\n",
    "\n",
    "label = \"orange\"\n",
    "add_label = \"1\"\n",
    "env_condition = \"room_D\"\n",
    "N_of_readings = 1800 #30min 1Hz"
   ]
  },
  {
   "cell_type": "code",
   "execution_count": 21,
   "id": "b29f13bd",
   "metadata": {},
   "outputs": [
    {
     "data": {
      "text/plain": [
       "'/home/igor_trix/IIVspace/DataSc/DataCamp2021/DSR_B28_work/DSR28_portfolio_project/Measurements_n_Tests/GGS_arduino_readings/GGSv2I_complete/run2_tests'"
      ]
     },
     "execution_count": 21,
     "metadata": {},
     "output_type": "execute_result"
    }
   ],
   "source": [
    "path_base = \"/home/trix_arch/IIVspace/DataSc/DataCamp2021/DSR_B28_work/DSR28_portfolio_project/Measurements_n_Tests/GGS_arduino_readings/GGSv2I_complete/\"\n",
    "pathW = path_base + dir_2_save\n",
    "os.chdir(pathW)\n",
    "os.getcwd()"
   ]
  },
  {
   "cell_type": "code",
   "execution_count": null,
   "id": "c31791fb",
   "metadata": {},
   "outputs": [
    {
     "name": "stderr",
     "output_type": "stream",
     "text": [
      "  0%|                                                                                | 0/1800 [00:00<?, ?it/s]\n",
      "  0%|                                                                                  | 0/10 [00:00<?, ?it/s]\u001b[A\n",
      " 70%|███████████████████████████████████████████████████▊                      | 7/10 [00:01<00:00,  4.51it/s]\u001b[A\n",
      " 80%|███████████████████████████████████████████████████████████▏              | 8/10 [00:01<00:00,  4.48it/s]\u001b[A\n",
      " 90%|██████████████████████████████████████████████████████████████████▌       | 9/10 [00:02<00:00,  4.44it/s]\u001b[A\n",
      "100%|█████████████████████████████████████████████████████████████████████████| 10/10 [00:02<00:00,  4.44it/s]\u001b[A\n",
      " 11%|███████▉                                                              | 203/1800 [00:49<06:09,  4.33it/s]"
     ]
    }
   ],
   "source": [
    "serial_port = '/dev/ttyACM0'\n",
    "baud_rate = 9600\n",
    "\n",
    "\n",
    "pbar = tqdm(total=N_of_readings)\n",
    "GGS_list = []\n",
    "init_time = round(time.time(),3)*1000\n",
    "\n",
    "\n",
    "    \n",
    "with serial.Serial(serial_port, baud_rate) as ser:\n",
    "    for cc1 in tqdm(range(10)):\n",
    "        line_z = ser.readline();\n",
    "        line_dec_z = line_z.decode(\"utf-8\")\n",
    "        \n",
    "    while len(GGS_list) < N_of_readings:\n",
    "#         time.sleep(1)\n",
    "        line = ser.readline();\n",
    "        line_dec = line.decode(\"utf-8\") #ser.readline returns a binary, convert to string\n",
    "        lst0 = line_dec.split(\",\")\n",
    "        lst1 = [int(x) for x in lst0]\n",
    "        if len(lst1)==6:\n",
    "            GGS_list += [[int(round(time.time(),3)*1000-init_time)] + lst1]\n",
    "            pbar.update(1)\n",
    "#             print(line_dec);"
   ]
  },
  {
   "cell_type": "code",
   "execution_count": null,
   "id": "a429afe7",
   "metadata": {},
   "outputs": [],
   "source": []
  },
  {
   "cell_type": "code",
   "execution_count": null,
   "id": "a3602146",
   "metadata": {},
   "outputs": [],
   "source": [
    "GGS_list"
   ]
  },
  {
   "cell_type": "code",
   "execution_count": null,
   "id": "a0ad96d7",
   "metadata": {},
   "outputs": [],
   "source": [
    "GGS_list[1087][1] = 434\n",
    "GGS_list[1087]"
   ]
  },
  {
   "cell_type": "code",
   "execution_count": null,
   "id": "82187ead",
   "metadata": {},
   "outputs": [],
   "source": [
    "GGS_df = pd.DataFrame(GGS_list, columns=[\"time_ms\", \"B102NO2\", \"B302C2H5OH\", \"B502VOC\", \"B702CO\", \"TdegC\", \"RH\"])\n"
   ]
  },
  {
   "cell_type": "code",
   "execution_count": null,
   "id": "6a5901a0",
   "metadata": {},
   "outputs": [],
   "source": [
    "# filename_to_save = \"./%s_%s_%s_%s.csv\" % (label, add_label, env_condition, datetime.now().strftime(\"%Y%m%d_%H%M%S\"))\n",
    "\n",
    "# with open(filename_to_save, 'w') as output_file:\n",
    "#     GGS_df.to_csv(output_file, index=False)\n",
    "#     print(\"Saved to file: \" + filename_to_save)\n",
    "#     print(\"Under the path: \" + pathW)"
   ]
  },
  {
   "cell_type": "code",
   "execution_count": null,
   "id": "e5fc1b8e",
   "metadata": {},
   "outputs": [],
   "source": [
    "plt.figure(figsize=(10,5))\n",
    "plt.plot(GGS_df.time_ms, GGS_df.drop('time_ms', axis=1))\n",
    "plt.legend(GGS_df.drop('time_ms', axis=1).columns.to_list())\n",
    "plt.tick_params(axis='x', colors='red')\n",
    "plt.tick_params(axis='y', colors='red')\n",
    "plt.grid()"
   ]
  },
  {
   "cell_type": "code",
   "execution_count": null,
   "id": "c9b82456",
   "metadata": {},
   "outputs": [],
   "source": [
    "GGS_df"
   ]
  }
 ],
 "metadata": {
  "kernelspec": {
   "display_name": "pyAIsense_env",
   "language": "python",
   "name": "pyaisense"
  },
  "language_info": {
   "codemirror_mode": {
    "name": "ipython",
    "version": 3
   },
   "file_extension": ".py",
   "mimetype": "text/x-python",
   "name": "python",
   "nbconvert_exporter": "python",
   "pygments_lexer": "ipython3",
   "version": "3.9.7"
  }
 },
 "nbformat": 4,
 "nbformat_minor": 5
}
