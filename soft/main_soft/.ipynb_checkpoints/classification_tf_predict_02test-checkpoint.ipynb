{
 "cells": [
  {
   "cell_type": "code",
   "execution_count": 30,
   "metadata": {},
   "outputs": [
    {
     "name": "stdout",
     "output_type": "stream",
     "text": [
      "{\n",
      "  \"shell_port\": 41251,\n",
      "  \"iopub_port\": 54729,\n",
      "  \"stdin_port\": 44049,\n",
      "  \"control_port\": 43773,\n",
      "  \"hb_port\": 35813,\n",
      "  \"ip\": \"127.0.0.1\",\n",
      "  \"key\": \"c9ef8973-09913c5b0cf81a812d1a3b1f\",\n",
      "  \"transport\": \"tcp\",\n",
      "  \"signature_scheme\": \"hmac-sha256\",\n",
      "  \"kernel_name\": \"\"\n",
      "}\n",
      "\n",
      "Paste the above JSON into a file, and connect with:\n",
      "    $> jupyter <app> --existing <file>\n",
      "or, if you are local, you can connect with just:\n",
      "    $> jupyter <app> --existing kernel-7a786999-7c16-4b1f-93b0-6ebce3e4b503.json\n",
      "or even just:\n",
      "    $> jupyter <app> --existing\n",
      "if this is the most recent Jupyter kernel you have started.\n"
     ]
    }
   ],
   "source": [
    "%reset -f\n",
    "%connect_info"
   ]
  },
  {
   "cell_type": "code",
   "execution_count": 31,
   "metadata": {},
   "outputs": [],
   "source": [
    "import numpy as np\n",
    "import tensorflow as tf\n",
    "import matplotlib.pyplot as plt\n",
    "import pandas as pd"
   ]
  },
  {
   "cell_type": "code",
   "execution_count": 32,
   "metadata": {},
   "outputs": [],
   "source": [
    "classes_values = ['air',\n",
    "                  'beer',\n",
    "                  'bread',\n",
    "                  'carrot',\n",
    "                  'cheese',\n",
    "                  'coffee',\n",
    "                  'cola',\n",
    "                  'cucumber',\n",
    "                  'gluehwein',\n",
    "                  'lemon',\n",
    "                  'orange',\n",
    "                  'sprite',\n",
    "                  'tomato']"
   ]
  },
  {
   "cell_type": "code",
   "execution_count": 33,
   "metadata": {},
   "outputs": [],
   "source": [
    "#########################\n",
    "## set the paths and load data\n",
    "#########################\n",
    "path_base = \"/home/trix_arch/IIVspace/DataSc/\"+\\\n",
    "            \"DataCamp2021/DSR_B28_work/DSR28_portfolio_project/\"+\\\n",
    "            \"Measurements_n_Tests/GGS_arduino_readings/GGSv2I_complete/\"\n",
    "path_add_folder2readmodel = \"tf_models/\"\n",
    "model_filename = 'model_c1_n20n20n10n10_cle_upsx2_norm'"
   ]
  },
  {
   "cell_type": "code",
   "execution_count": 34,
   "metadata": {},
   "outputs": [
    {
     "name": "stdout",
     "output_type": "stream",
     "text": [
      "Model: \"sequential_2\"\n",
      "_________________________________________________________________\n",
      "Layer (type)                 Output Shape              Param #   \n",
      "=================================================================\n",
      "dense_4 (Dense)              (None, 20)                140       \n",
      "_________________________________________________________________\n",
      "dense_5 (Dense)              (None, 20)                420       \n",
      "_________________________________________________________________\n",
      "dense_6 (Dense)              (None, 10)                210       \n",
      "_________________________________________________________________\n",
      "dense_7 (Dense)              (None, 10)                110       \n",
      "_________________________________________________________________\n",
      "y_pred (Dense)               (None, 13)                143       \n",
      "=================================================================\n",
      "Total params: 1,023\n",
      "Trainable params: 1,023\n",
      "Non-trainable params: 0\n",
      "_________________________________________________________________\n"
     ]
    }
   ],
   "source": [
    "#########################\n",
    "## Load into a new model\n",
    "#########################\n",
    "model_ff = tf.keras.models.load_model((path_base + path_add_folder2readmodel + model_filename))\n",
    "\n",
    "# Check its architecture\n",
    "model_ff.summary()"
   ]
  },
  {
   "cell_type": "code",
   "execution_count": 37,
   "metadata": {},
   "outputs": [
    {
     "data": {
      "text/plain": [
       "array([[8.4850095e-27, 4.6947340e-23, 5.9959423e-02, 4.1186568e-11,\n",
       "        9.4000959e-01, 4.6423589e-15, 2.7750854e-14, 2.8525626e-05,\n",
       "        1.7794754e-37, 2.2141221e-35, 5.3715032e-12, 9.0436005e-32,\n",
       "        2.3791347e-06]], dtype=float32)"
      ]
     },
     "execution_count": 37,
     "metadata": {},
     "output_type": "execute_result"
    }
   ],
   "source": [
    "#########################\n",
    "## Lets predict\n",
    "#########################\n",
    "#### The values are taken from \"classification_tf_train_model1_01.ipynb\"\n",
    "\n",
    "# Values_Train: [[64. 15. 64. 93. 15. 66.]]\n",
    "# Label_Train:  [[0. 0. 0. 0. 1. 0. 0. 0. 0. 0. 0. 0. 0.]]\n",
    "# Label_Text:   [['cheese']]\n",
    "data2predictArr = np.array([[64, 15, 64, 93, 15, 66]])\n",
    "\n",
    "# Values_Train: [[ 82.  27.  70. 106.  22.  56.]]\n",
    "# Label_Train:  [[0. 0. 0. 1. 0. 0. 0. 0. 0. 0. 0. 0. 0.]]\n",
    "# Label_Text:   [['carrot']]\n",
    "# data2predictArr = np.array([[ 82,  27,  70, 106,  22,  56]])\n",
    "    \n",
    "# Values_Test: [[ 60.  32. 154. 288.  25.  45.]]\n",
    "# Label_Test:  [[0. 1. 0. 0. 0. 0. 0. 0. 0. 0. 0. 0. 0.]]\n",
    "# Label_Text:   [['beer']]    \n",
    "# data2predictArr = np.array([[ 60,  32, 154, 288,  25,  45]])    \n",
    "\n",
    "# Values_Test: [[62. 33. 90. 91. 22. 60.]]\n",
    "# Label_Test:  [[0. 0. 0. 0. 0. 0. 0. 0. 0. 0. 0. 1. 0.]]\n",
    "# Label_Text:   [['sprite']]\n",
    "# data2predictArr = np.array([[62, 33, 90, 91, 22, 60]])\n",
    "\n",
    "predictionN = model_ff.predict(data2predictArr)\n",
    "predictionN"
   ]
  },
  {
   "cell_type": "code",
   "execution_count": 38,
   "metadata": {},
   "outputs": [
    {
     "data": {
      "image/png": "[encoded data removed]",
      "text/plain": [
       "<Figure size 432x360 with 1 Axes>"
      ]
     },
     "metadata": {
      "needs_background": "light"
     },
     "output_type": "display_data"
    }
   ],
   "source": [
    "fig = plt.figure(figsize=(6, 5))\n",
    "plt.barh(classes_values, predictionN.tolist()[0])\n",
    "for index, value in zip(classes_values, predictionN.tolist()[0]):\n",
    "    plt.text(0.7, index, str(round(value, 5)))\n",
    "    # plt.text(value, index, str(value))\n",
    "plt.tick_params(axis='x', colors='red')\n",
    "plt.tick_params(axis='y', colors='red')\n",
    "plt.grid()\n",
    "plt.show()"
   ]
  },
  {
   "cell_type": "code",
   "execution_count": null,
   "metadata": {},
   "outputs": [],
   "source": []
  }
 ],
 "metadata": {
  "kernelspec": {
   "display_name": "pyAIsense_env",
   "language": "python",
   "name": "pyaisense"
  },
  "language_info": {
   "codemirror_mode": {
    "name": "ipython",
    "version": 3
   },
   "file_extension": ".py",
   "mimetype": "text/x-python",
   "name": "python",
   "nbconvert_exporter": "python",
   "pygments_lexer": "ipython3",
   "version": "3.9.7"
  }
 },
 "nbformat": 4,
 "nbformat_minor": 4
}
