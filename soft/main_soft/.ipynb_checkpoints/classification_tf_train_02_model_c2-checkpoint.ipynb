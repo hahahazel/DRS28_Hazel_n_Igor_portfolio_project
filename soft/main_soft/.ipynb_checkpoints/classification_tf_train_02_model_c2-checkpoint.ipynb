{
 "cells": [
  {
   "cell_type": "code",
   "execution_count": 10,
   "metadata": {},
   "outputs": [
    {
     "name": "stdout",
     "output_type": "stream",
     "text": [
      "{\n",
      "  \"shell_port\": 39089,\n",
      "  \"iopub_port\": 60687,\n",
      "  \"stdin_port\": 56689,\n",
      "  \"control_port\": 44441,\n",
      "  \"hb_port\": 56979,\n",
      "  \"ip\": \"127.0.0.1\",\n",
      "  \"key\": \"a954d03b-a633495568820faf6dd05d79\",\n",
      "  \"transport\": \"tcp\",\n",
      "  \"signature_scheme\": \"hmac-sha256\",\n",
      "  \"kernel_name\": \"\"\n",
      "}\n",
      "\n",
      "Paste the above JSON into a file, and connect with:\n",
      "    $> jupyter <app> --existing <file>\n",
      "or, if you are local, you can connect with just:\n",
      "    $> jupyter <app> --existing kernel-d371659b-c3e3-4a5b-b804-a40e0f3c6993.json\n",
      "or even just:\n",
      "    $> jupyter <app> --existing\n",
      "if this is the most recent Jupyter kernel you have started.\n"
     ]
    }
   ],
   "source": [
    "%reset -f\n",
    "%connect_info"
   ]
  },
  {
   "cell_type": "code",
   "execution_count": 11,
   "metadata": {},
   "outputs": [],
   "source": [
    "import numpy as np\n",
    "import pandas as pd\n",
    "import sys, os, random\n",
    "import tensorflow as tf\n",
    "from tensorflow.keras.models import Sequential\n",
    "from tensorflow.keras.layers import Dense, InputLayer, Dropout, Conv1D, Conv2D, Flatten, Reshape, MaxPooling1D, MaxPooling2D, BatchNormalization, TimeDistributed\n",
    "from tensorflow.keras.optimizers import Adam\n",
    "from sklearn.model_selection import train_test_split"
   ]
  },
  {
   "cell_type": "code",
   "execution_count": 12,
   "metadata": {},
   "outputs": [],
   "source": [
    "## set the paths and load data\n",
    "path_base = \"/home/trix_arch/IIVspace/DataSc/\"+\\\n",
    "            \"DataCamp2021/DSR_B28_work/DSR28_portfolio_project/\"+\\\n",
    "            \"Measurements_n_Tests/GGS_arduino_readings/GGSv2I_complete/\"\n",
    "path_add = \"df_data/\"\n",
    "path_add_folder2savemodel = \"tf_models/\"\n",
    "model_filename = 'model_c2_n20n10_cle_noCnoA'"
   ]
  },
  {
   "cell_type": "code",
   "execution_count": 13,
   "metadata": {},
   "outputs": [],
   "source": [
    "filename2load = \"xdf_20211218_cle_bal_noCnoA.csv\"\n",
    "Xdf = pd.read_csv(path_base + path_add + filename2load)"
   ]
  },
  {
   "cell_type": "code",
   "execution_count": 14,
   "metadata": {},
   "outputs": [
    {
     "data": {
      "text/html": [
       "<div>\n",
       "<style scoped>\n",
       "    .dataframe tbody tr th:only-of-type {\n",
       "        vertical-align: middle;\n",
       "    }\n",
       "\n",
       "    .dataframe tbody tr th {\n",
       "        vertical-align: top;\n",
       "    }\n",
       "\n",
       "    .dataframe thead th {\n",
       "        text-align: right;\n",
       "    }\n",
       "</style>\n",
       "<table border=\"1\" class=\"dataframe\">\n",
       "  <thead>\n",
       "    <tr style=\"text-align: right;\">\n",
       "      <th></th>\n",
       "      <th>time_ms</th>\n",
       "      <th>B102NO2</th>\n",
       "      <th>B302C2H5OH</th>\n",
       "      <th>B502VOC</th>\n",
       "      <th>B702CO</th>\n",
       "      <th>TdegC</th>\n",
       "      <th>RH</th>\n",
       "      <th>label</th>\n",
       "      <th>add_label</th>\n",
       "      <th>condition</th>\n",
       "    </tr>\n",
       "  </thead>\n",
       "  <tbody>\n",
       "    <tr>\n",
       "      <th>0</th>\n",
       "      <td>68</td>\n",
       "      <td>92</td>\n",
       "      <td>52</td>\n",
       "      <td>200</td>\n",
       "      <td>244</td>\n",
       "      <td>23</td>\n",
       "      <td>52</td>\n",
       "      <td>beer</td>\n",
       "      <td>1pilsner</td>\n",
       "      <td>roomjose</td>\n",
       "    </tr>\n",
       "    <tr>\n",
       "      <th>1</th>\n",
       "      <td>70</td>\n",
       "      <td>91</td>\n",
       "      <td>53</td>\n",
       "      <td>199</td>\n",
       "      <td>242</td>\n",
       "      <td>23</td>\n",
       "      <td>52</td>\n",
       "      <td>beer</td>\n",
       "      <td>1pilsner</td>\n",
       "      <td>roomjose</td>\n",
       "    </tr>\n",
       "    <tr>\n",
       "      <th>2</th>\n",
       "      <td>1561</td>\n",
       "      <td>90</td>\n",
       "      <td>51</td>\n",
       "      <td>197</td>\n",
       "      <td>218</td>\n",
       "      <td>23</td>\n",
       "      <td>52</td>\n",
       "      <td>beer</td>\n",
       "      <td>1pilsner</td>\n",
       "      <td>roomjose</td>\n",
       "    </tr>\n",
       "    <tr>\n",
       "      <th>3</th>\n",
       "      <td>1790</td>\n",
       "      <td>90</td>\n",
       "      <td>52</td>\n",
       "      <td>198</td>\n",
       "      <td>215</td>\n",
       "      <td>23</td>\n",
       "      <td>52</td>\n",
       "      <td>beer</td>\n",
       "      <td>1pilsner</td>\n",
       "      <td>roomjose</td>\n",
       "    </tr>\n",
       "    <tr>\n",
       "      <th>4</th>\n",
       "      <td>2025</td>\n",
       "      <td>90</td>\n",
       "      <td>52</td>\n",
       "      <td>198</td>\n",
       "      <td>213</td>\n",
       "      <td>23</td>\n",
       "      <td>52</td>\n",
       "      <td>beer</td>\n",
       "      <td>1pilsner</td>\n",
       "      <td>roomjose</td>\n",
       "    </tr>\n",
       "  </tbody>\n",
       "</table>\n",
       "</div>"
      ],
      "text/plain": [
       "   time_ms  B102NO2  B302C2H5OH  B502VOC  B702CO  TdegC  RH label add_label  \\\n",
       "0       68       92          52      200     244     23  52  beer  1pilsner   \n",
       "1       70       91          53      199     242     23  52  beer  1pilsner   \n",
       "2     1561       90          51      197     218     23  52  beer  1pilsner   \n",
       "3     1790       90          52      198     215     23  52  beer  1pilsner   \n",
       "4     2025       90          52      198     213     23  52  beer  1pilsner   \n",
       "\n",
       "  condition  \n",
       "0  roomjose  \n",
       "1  roomjose  \n",
       "2  roomjose  \n",
       "3  roomjose  \n",
       "4  roomjose  "
      ]
     },
     "execution_count": 14,
     "metadata": {},
     "output_type": "execute_result"
    }
   ],
   "source": [
    "Xdf.head()"
   ]
  },
  {
   "cell_type": "code",
   "execution_count": 15,
   "metadata": {},
   "outputs": [],
   "source": [
    "X_init = Xdf.iloc[:,1:7]\n",
    "Y_init = Xdf.label"
   ]
  },
  {
   "cell_type": "code",
   "execution_count": 16,
   "metadata": {},
   "outputs": [
    {
     "data": {
      "text/plain": [
       "['beer',\n",
       " 'bread',\n",
       " 'carrot',\n",
       " 'cheese',\n",
       " 'coffee',\n",
       " 'cola',\n",
       " 'cucumber',\n",
       " 'gluehwein',\n",
       " 'lemon',\n",
       " 'orange',\n",
       " 'sprite',\n",
       " 'tomato']"
      ]
     },
     "execution_count": 16,
     "metadata": {},
     "output_type": "execute_result"
    }
   ],
   "source": [
    "classes_values = Xdf.label.unique().tolist()\n",
    "classes_values.sort()\n",
    "classes = len(classes_values)\n",
    "classes_values"
   ]
  },
  {
   "cell_type": "code",
   "execution_count": 17,
   "metadata": {},
   "outputs": [],
   "source": [
    "dict_4labels = {'beer': 1,\n",
    " 'bread': 2,\n",
    " 'carrot': 3,\n",
    " 'cheese': 4,\n",
    " 'coffee': 5,\n",
    " 'cola': 6,\n",
    " 'cucumber': 7,\n",
    " 'gluehwein': 8,\n",
    " 'lemon': 9,\n",
    " 'orange': 10,\n",
    " 'sprite': 11,\n",
    " 'tomato': 12\n",
    " }"
   ]
  },
  {
   "cell_type": "code",
   "execution_count": 18,
   "metadata": {},
   "outputs": [
    {
     "name": "stderr",
     "output_type": "stream",
     "text": [
      "2021-12-20 16:58:10.189871: W tensorflow/stream_executor/platform/default/dso_loader.cc:64] Could not load dynamic library 'libcuda.so.1'; dlerror: libcuda.so.1: cannot open shared object file: No such file or directory\n",
      "2021-12-20 16:58:10.189904: W tensorflow/stream_executor/cuda/cuda_driver.cc:269] failed call to cuInit: UNKNOWN ERROR (303)\n",
      "2021-12-20 16:58:10.189939: I tensorflow/stream_executor/cuda/cuda_diagnostics.cc:156] kernel driver does not appear to be running on this host (ASTRAxfce): /proc/driver/nvidia/version does not exist\n"
     ]
    }
   ],
   "source": [
    "# Set random seeds for repeatable results\n",
    "RANDOM_SEED = 3\n",
    "random.seed(RANDOM_SEED)\n",
    "np.random.seed(RANDOM_SEED)\n",
    "tf.random.set_seed(RANDOM_SEED)\n",
    "\n",
    "\n",
    "\n",
    "\n",
    "Y = tf.keras.utils.to_categorical(Y_init.replace(dict_4labels)-1, classes)\n",
    "X = X_init.to_numpy()\n",
    "\n",
    "X_train, X_test, Y_train, Y_test = train_test_split(X, Y, test_size=0.2, random_state=1)\n",
    "\n",
    "input_length = X_train[0].shape[0]\n",
    "\n",
    "train_dataset = tf.data.Dataset.from_tensor_slices((X_train, Y_train))\n",
    "validation_dataset = tf.data.Dataset.from_tensor_slices((X_test, Y_test))\n",
    "\n",
    "callbacks = []\n"
   ]
  },
  {
   "cell_type": "code",
   "execution_count": 19,
   "metadata": {},
   "outputs": [],
   "source": [
    "# model architecture\n",
    "model = Sequential()\n",
    "model.add(Dense(20, \n",
    "                activation='relu', \n",
    "                activity_regularizer=tf.keras.regularizers.l1(0.00001)))\n",
    "model.add(Dropout(0.3))\n",
    "model.add(Dense(10, \n",
    "                activation='relu',\n",
    "                activity_regularizer=tf.keras.regularizers.l1(0.00001)))\n",
    "model.add(Dropout(0.3))\n",
    "model.add(Dense(classes, \n",
    "                activation='softmax', \n",
    "                name='y_pred'))\n",
    "\n",
    "# this controls the learning rate\n",
    "opt = Adam(learning_rate=0.0005, beta_1=0.9, beta_2=0.999)\n",
    "\n",
    "# this controls the batch size, or you can manipulate the tf.data.Dataset objects yourself\n",
    "BATCH_SIZE = 32\n",
    "train_dataset = train_dataset.batch(BATCH_SIZE, drop_remainder=False)\n",
    "validation_dataset = validation_dataset.batch(BATCH_SIZE, drop_remainder=False)\n",
    "\n",
    "# train the neural network\n",
    "model.compile(loss='categorical_crossentropy', optimizer=opt, metrics=['accuracy'])\n"
   ]
  },
  {
   "cell_type": "code",
   "execution_count": 20,
   "metadata": {
    "scrolled": false
   },
   "outputs": [
    {
     "name": "stdout",
     "output_type": "stream",
     "text": [
      "Epoch 1/50\n"
     ]
    },
    {
     "name": "stderr",
     "output_type": "stream",
     "text": [
      "2021-12-20 16:58:10.828285: I tensorflow/compiler/mlir/mlir_graph_optimization_pass.cc:185] None of the MLIR Optimization Passes are enabled (registered 2)\n"
     ]
    },
    {
     "name": "stdout",
     "output_type": "stream",
     "text": [
      "780/780 - 2s - loss: 7.3081 - accuracy: 0.2342 - val_loss: 2.0303 - val_accuracy: 0.3566\n",
      "Epoch 2/50\n",
      "780/780 - 1s - loss: 1.7308 - accuracy: 0.4752 - val_loss: 1.5090 - val_accuracy: 0.5490\n",
      "Epoch 3/50\n",
      "780/780 - 1s - loss: 1.3812 - accuracy: 0.5823 - val_loss: 1.2312 - val_accuracy: 0.6120\n",
      "Epoch 4/50\n",
      "780/780 - 1s - loss: 0.9886 - accuracy: 0.6468 - val_loss: 0.8646 - val_accuracy: 0.6708\n",
      "Epoch 5/50\n",
      "780/780 - 1s - loss: 0.8127 - accuracy: 0.6799 - val_loss: 0.7314 - val_accuracy: 0.7403\n",
      "Epoch 6/50\n",
      "780/780 - 1s - loss: 0.6808 - accuracy: 0.7772 - val_loss: 0.6102 - val_accuracy: 0.7973\n",
      "Epoch 7/50\n",
      "780/780 - 1s - loss: 0.5738 - accuracy: 0.8061 - val_loss: 0.5273 - val_accuracy: 0.8175\n",
      "Epoch 8/50\n",
      "780/780 - 1s - loss: 0.5059 - accuracy: 0.8274 - val_loss: 0.4591 - val_accuracy: 0.8462\n",
      "Epoch 9/50\n",
      "780/780 - 1s - loss: 0.4400 - accuracy: 0.8605 - val_loss: 0.3973 - val_accuracy: 0.8757\n",
      "Epoch 10/50\n",
      "780/780 - 1s - loss: 0.3864 - accuracy: 0.8869 - val_loss: 0.3555 - val_accuracy: 0.8977\n",
      "Epoch 11/50\n",
      "780/780 - 1s - loss: 0.3496 - accuracy: 0.9037 - val_loss: 0.3230 - val_accuracy: 0.9091\n",
      "Epoch 12/50\n",
      "780/780 - 1s - loss: 0.3211 - accuracy: 0.9109 - val_loss: 0.2974 - val_accuracy: 0.9141\n",
      "Epoch 13/50\n",
      "780/780 - 1s - loss: 0.2983 - accuracy: 0.9138 - val_loss: 0.2770 - val_accuracy: 0.9166\n",
      "Epoch 14/50\n",
      "780/780 - 1s - loss: 0.2792 - accuracy: 0.9145 - val_loss: 0.2618 - val_accuracy: 0.9197\n",
      "Epoch 15/50\n",
      "780/780 - 1s - loss: 0.2633 - accuracy: 0.9163 - val_loss: 0.2458 - val_accuracy: 0.9216\n",
      "Epoch 16/50\n",
      "780/780 - 1s - loss: 0.2494 - accuracy: 0.9184 - val_loss: 0.2324 - val_accuracy: 0.9240\n",
      "Epoch 17/50\n",
      "780/780 - 1s - loss: 0.2359 - accuracy: 0.9205 - val_loss: 0.2186 - val_accuracy: 0.9248\n",
      "Epoch 18/50\n",
      "780/780 - 1s - loss: 0.2227 - accuracy: 0.9247 - val_loss: 0.2063 - val_accuracy: 0.9287\n",
      "Epoch 19/50\n",
      "780/780 - 1s - loss: 0.2100 - accuracy: 0.9319 - val_loss: 0.1961 - val_accuracy: 0.9380\n",
      "Epoch 20/50\n",
      "780/780 - 1s - loss: 0.1981 - accuracy: 0.9393 - val_loss: 0.1852 - val_accuracy: 0.9418\n",
      "Epoch 21/50\n",
      "780/780 - 1s - loss: 0.1868 - accuracy: 0.9434 - val_loss: 0.1775 - val_accuracy: 0.9429\n",
      "Epoch 22/50\n",
      "780/780 - 1s - loss: 0.1743 - accuracy: 0.9460 - val_loss: 0.1671 - val_accuracy: 0.9477\n",
      "Epoch 23/50\n",
      "780/780 - 1s - loss: 0.1604 - accuracy: 0.9507 - val_loss: 0.1510 - val_accuracy: 0.9506\n",
      "Epoch 24/50\n",
      "780/780 - 1s - loss: 0.1498 - accuracy: 0.9534 - val_loss: 0.1406 - val_accuracy: 0.9535\n",
      "Epoch 25/50\n",
      "780/780 - 1s - loss: 0.1414 - accuracy: 0.9554 - val_loss: 0.1326 - val_accuracy: 0.9553\n",
      "Epoch 26/50\n",
      "780/780 - 1s - loss: 0.1343 - accuracy: 0.9569 - val_loss: 0.1254 - val_accuracy: 0.9574\n",
      "Epoch 27/50\n",
      "780/780 - 1s - loss: 0.1280 - accuracy: 0.9587 - val_loss: 0.1187 - val_accuracy: 0.9590\n",
      "Epoch 28/50\n",
      "780/780 - 1s - loss: 0.1224 - accuracy: 0.9604 - val_loss: 0.1135 - val_accuracy: 0.9602\n",
      "Epoch 29/50\n",
      "780/780 - 1s - loss: 0.1176 - accuracy: 0.9618 - val_loss: 0.1092 - val_accuracy: 0.9620\n",
      "Epoch 30/50\n",
      "780/780 - 1s - loss: 0.1136 - accuracy: 0.9628 - val_loss: 0.1046 - val_accuracy: 0.9641\n",
      "Epoch 31/50\n",
      "780/780 - 1s - loss: 0.1098 - accuracy: 0.9637 - val_loss: 0.1012 - val_accuracy: 0.9652\n",
      "Epoch 32/50\n",
      "780/780 - 1s - loss: 0.1060 - accuracy: 0.9640 - val_loss: 0.0978 - val_accuracy: 0.9663\n",
      "Epoch 33/50\n",
      "780/780 - 1s - loss: 0.1029 - accuracy: 0.9646 - val_loss: 0.0951 - val_accuracy: 0.9671\n",
      "Epoch 34/50\n",
      "780/780 - 1s - loss: 0.1001 - accuracy: 0.9650 - val_loss: 0.0928 - val_accuracy: 0.9671\n",
      "Epoch 35/50\n",
      "780/780 - 1s - loss: 0.0976 - accuracy: 0.9652 - val_loss: 0.0904 - val_accuracy: 0.9678\n",
      "Epoch 36/50\n",
      "780/780 - 1s - loss: 0.0954 - accuracy: 0.9655 - val_loss: 0.0887 - val_accuracy: 0.9679\n",
      "Epoch 37/50\n",
      "780/780 - 1s - loss: 0.0934 - accuracy: 0.9656 - val_loss: 0.0879 - val_accuracy: 0.9670\n",
      "Epoch 38/50\n",
      "780/780 - 1s - loss: 0.0915 - accuracy: 0.9659 - val_loss: 0.0860 - val_accuracy: 0.9668\n",
      "Epoch 39/50\n",
      "780/780 - 1s - loss: 0.0898 - accuracy: 0.9664 - val_loss: 0.0840 - val_accuracy: 0.9668\n",
      "Epoch 40/50\n",
      "780/780 - 1s - loss: 0.0881 - accuracy: 0.9668 - val_loss: 0.0823 - val_accuracy: 0.9670\n",
      "Epoch 41/50\n",
      "780/780 - 2s - loss: 0.0865 - accuracy: 0.9669 - val_loss: 0.0872 - val_accuracy: 0.9679\n",
      "Epoch 42/50\n",
      "780/780 - 1s - loss: 0.0856 - accuracy: 0.9670 - val_loss: 0.0834 - val_accuracy: 0.9694\n",
      "Epoch 43/50\n",
      "780/780 - 1s - loss: 0.0842 - accuracy: 0.9679 - val_loss: 0.0821 - val_accuracy: 0.9702\n",
      "Epoch 44/50\n",
      "780/780 - 1s - loss: 0.0828 - accuracy: 0.9684 - val_loss: 0.0813 - val_accuracy: 0.9711\n",
      "Epoch 45/50\n",
      "780/780 - 1s - loss: 0.0818 - accuracy: 0.9687 - val_loss: 0.0792 - val_accuracy: 0.9729\n",
      "Epoch 46/50\n",
      "780/780 - 1s - loss: 0.0811 - accuracy: 0.9690 - val_loss: 0.0780 - val_accuracy: 0.9726\n",
      "Epoch 47/50\n",
      "780/780 - 1s - loss: 0.0796 - accuracy: 0.9703 - val_loss: 0.0771 - val_accuracy: 0.9729\n",
      "Epoch 48/50\n",
      "780/780 - 2s - loss: 0.0791 - accuracy: 0.9705 - val_loss: 0.0764 - val_accuracy: 0.9737\n",
      "Epoch 49/50\n",
      "780/780 - 2s - loss: 0.0792 - accuracy: 0.9706 - val_loss: 0.0727 - val_accuracy: 0.9734\n",
      "Epoch 50/50\n",
      "780/780 - 1s - loss: 0.0768 - accuracy: 0.9717 - val_loss: 0.0731 - val_accuracy: 0.9743\n"
     ]
    },
    {
     "data": {
      "text/plain": [
       "<keras.callbacks.History at 0x7f33ec7db8e0>"
      ]
     },
     "execution_count": 20,
     "metadata": {},
     "output_type": "execute_result"
    }
   ],
   "source": [
    "model.fit(train_dataset, epochs=50, validation_data=validation_dataset, verbose=2, callbacks=callbacks)"
   ]
  },
  {
   "cell_type": "code",
   "execution_count": 21,
   "metadata": {},
   "outputs": [
    {
     "name": "stdout",
     "output_type": "stream",
     "text": [
      "Model: \"sequential\"\n",
      "_________________________________________________________________\n",
      "Layer (type)                 Output Shape              Param #   \n",
      "=================================================================\n",
      "dense (Dense)                (None, 20)                140       \n",
      "_________________________________________________________________\n",
      "dense_1 (Dense)              (None, 10)                210       \n",
      "_________________________________________________________________\n",
      "y_pred (Dense)               (None, 12)                132       \n",
      "=================================================================\n",
      "Total params: 482\n",
      "Trainable params: 482\n",
      "Non-trainable params: 0\n",
      "_________________________________________________________________\n"
     ]
    }
   ],
   "source": [
    "model.summary()"
   ]
  },
  {
   "cell_type": "code",
   "execution_count": 22,
   "metadata": {},
   "outputs": [
    {
     "name": "stdout",
     "output_type": "stream",
     "text": [
      "195/195 - 0s - loss: 0.0731 - accuracy: 0.9743\n",
      "Model, accuracy: 97.43%\n"
     ]
    }
   ],
   "source": [
    "# Evaluate the model\n",
    "loss, acc = model.evaluate(X_test, Y_test, verbose=2)\n",
    "print(\"Model, accuracy: {:5.2f}%\".format(100 * acc))"
   ]
  },
  {
   "cell_type": "code",
   "execution_count": 23,
   "metadata": {},
   "outputs": [
    {
     "name": "stderr",
     "output_type": "stream",
     "text": [
      "2021-12-20 16:59:19.229844: W tensorflow/python/util/util.cc:348] Sets are not currently considered sequences, but this may change in the future, so consider avoiding using them.\n"
     ]
    },
    {
     "name": "stdout",
     "output_type": "stream",
     "text": [
      "INFO:tensorflow:Assets written to: /home/trix_arch/IIVspace/DataSc/DataCamp2021/DSR_B28_work/DSR28_portfolio_project/Measurements_n_Tests/GGS_arduino_readings/GGSv2I_complete/tf_models/model_c2_n20n10_cle_noCnoA/assets\n"
     ]
    }
   ],
   "source": [
    "# Save the model to disk\n",
    "# model.save('saved_model')\n",
    "\n",
    "# !mkdir -p saved_model\n",
    "\n",
    "model.save(path_base + path_add_folder2savemodel + model_filename )"
   ]
  },
  {
   "cell_type": "code",
   "execution_count": 24,
   "metadata": {},
   "outputs": [
    {
     "name": "stdout",
     "output_type": "stream",
     "text": [
      "Model: \"sequential\"\n",
      "_________________________________________________________________\n",
      "Layer (type)                 Output Shape              Param #   \n",
      "=================================================================\n",
      "dense (Dense)                (None, 20)                140       \n",
      "_________________________________________________________________\n",
      "dense_1 (Dense)              (None, 10)                210       \n",
      "_________________________________________________________________\n",
      "y_pred (Dense)               (None, 12)                132       \n",
      "=================================================================\n",
      "Total params: 482\n",
      "Trainable params: 482\n",
      "Non-trainable params: 0\n",
      "_________________________________________________________________\n"
     ]
    }
   ],
   "source": [
    "#########################\n",
    "## Load into a new model\n",
    "#########################\n",
    "new_model = tf.keras.models.load_model(path_base + path_add_folder2savemodel + model_filename )\n",
    "\n",
    "# Check its architecture\n",
    "new_model.summary()"
   ]
  },
  {
   "cell_type": "code",
   "execution_count": 25,
   "metadata": {},
   "outputs": [
    {
     "name": "stdout",
     "output_type": "stream",
     "text": [
      "195/195 - 0s - loss: 0.0731 - accuracy: 0.9743\n",
      "Restored model, accuracy: 97.43%\n",
      "(6237, 12)\n"
     ]
    }
   ],
   "source": [
    "loss, acc = new_model.evaluate(X_test, Y_test, verbose=2)\n",
    "print('Restored model, accuracy: {:5.2f}%'.format(100 * acc))\n",
    "\n",
    "print(new_model.predict(X_test).shape)"
   ]
  },
  {
   "cell_type": "code",
   "execution_count": null,
   "metadata": {},
   "outputs": [],
   "source": []
  },
  {
   "cell_type": "code",
   "execution_count": null,
   "metadata": {},
   "outputs": [],
   "source": []
  },
  {
   "cell_type": "code",
   "execution_count": 26,
   "metadata": {},
   "outputs": [],
   "source": [
    "#########################\n",
    "##### tests\n",
    "#########################"
   ]
  },
  {
   "cell_type": "code",
   "execution_count": 27,
   "metadata": {},
   "outputs": [
    {
     "name": "stdout",
     "output_type": "stream",
     "text": [
      "Values_Train: [[238  36 142 144  23  55]]\n",
      "Label_Train:  [[0. 0. 0. 0. 0. 0. 0. 0. 0. 0. 1. 0.]]\n",
      "Label_Text:   [['sprite']]\n"
     ]
    }
   ],
   "source": [
    "##### random sample from TRAIN set\n",
    "randt_index_X = np.random.randint(low=0, high=X_train.shape[0], size=1, dtype=int)\n",
    "print(f\"Values_Train: {X_train[randt_index_X,:]}\")\n",
    "print(f\"Label_Train:  {Y_train[randt_index_X]}\")\n",
    "print(f\"Label_Text:   {pd.DataFrame(classes_values).loc[[bool(cc) for cc in Y_train[randt_index_X].tolist()[0]],:].values}\")"
   ]
  },
  {
   "cell_type": "code",
   "execution_count": 28,
   "metadata": {},
   "outputs": [
    {
     "name": "stdout",
     "output_type": "stream",
     "text": [
      "Values_Test: [[188  27 131 250  17  74]]\n",
      "Label_Test:  [[0. 0. 0. 0. 0. 0. 0. 1. 0. 0. 0. 0.]]\n",
      "Label_Text:   [['gluehwein']]\n"
     ]
    }
   ],
   "source": [
    "##### random sample from TEST set\n",
    "randt_index_X = np.random.randint(low=0, high=X_test.shape[0], size=1, dtype=int)\n",
    "print(f\"Values_Test: {X_test[randt_index_X,:]}\")\n",
    "print(f\"Label_Test:  {Y_test[randt_index_X]}\")\n",
    "print(f\"Label_Text:   {pd.DataFrame(classes_values).loc[[bool(cc) for cc in Y_test[randt_index_X].tolist()[0]],:].values}\")"
   ]
  },
  {
   "cell_type": "code",
   "execution_count": 29,
   "metadata": {},
   "outputs": [
    {
     "name": "stdout",
     "output_type": "stream",
     "text": [
      "X sample:        B102NO2  B302C2H5OH  B502VOC  B702CO  TdegC  RH\n",
      "11513       94          11       55     111     14  75 \n",
      "Y label: 11513    carrot\n",
      "Name: label, dtype: object\n"
     ]
    }
   ],
   "source": [
    "randt_index_X = np.random.randint(low=0, high=X_init.shape[0], size=1, dtype=int)\n",
    "\n",
    "print(f\"X sample: {X_init.loc[randt_index_X, :]} \\nY label: {Y_init.loc[randt_index_X]}\")"
   ]
  }
 ],
 "metadata": {
  "kernelspec": {
   "display_name": "pyAIsense_env",
   "language": "python",
   "name": "pyaisense"
  },
  "language_info": {
   "codemirror_mode": {
    "name": "ipython",
    "version": 3
   },
   "file_extension": ".py",
   "mimetype": "text/x-python",
   "name": "python",
   "nbconvert_exporter": "python",
   "pygments_lexer": "ipython3",
   "version": "3.9.7"
  }
 },
 "nbformat": 4,
 "nbformat_minor": 4
}
