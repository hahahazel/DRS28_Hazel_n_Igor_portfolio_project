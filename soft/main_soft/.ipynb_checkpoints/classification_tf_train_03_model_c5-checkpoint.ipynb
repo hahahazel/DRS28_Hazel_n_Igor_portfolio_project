{
 "cells": [
  {
   "cell_type": "code",
   "execution_count": 1,
   "metadata": {},
   "outputs": [
    {
     "name": "stdout",
     "output_type": "stream",
     "text": [
      "{\n",
      "  \"shell_port\": 42885,\n",
      "  \"iopub_port\": 34869,\n",
      "  \"stdin_port\": 56511,\n",
      "  \"control_port\": 42995,\n",
      "  \"hb_port\": 54165,\n",
      "  \"ip\": \"127.0.0.1\",\n",
      "  \"key\": \"7f07eead-c8b36f876b431ae45200410c\",\n",
      "  \"transport\": \"tcp\",\n",
      "  \"signature_scheme\": \"hmac-sha256\",\n",
      "  \"kernel_name\": \"\"\n",
      "}\n",
      "\n",
      "Paste the above JSON into a file, and connect with:\n",
      "    $> jupyter <app> --existing <file>\n",
      "or, if you are local, you can connect with just:\n",
      "    $> jupyter <app> --existing kernel-96e5ee1a-6f68-45e5-b3ae-1f48e75e71ee.json\n",
      "or even just:\n",
      "    $> jupyter <app> --existing\n",
      "if this is the most recent Jupyter kernel you have started.\n"
     ]
    }
   ],
   "source": [
    "%reset -f\n",
    "%connect_info"
   ]
  },
  {
   "cell_type": "code",
   "execution_count": 2,
   "metadata": {},
   "outputs": [
    {
     "name": "stderr",
     "output_type": "stream",
     "text": [
      "2021-12-20 17:23:08.907172: W tensorflow/stream_executor/platform/default/dso_loader.cc:64] Could not load dynamic library 'libcudart.so.11.0'; dlerror: libcudart.so.11.0: cannot open shared object file: No such file or directory\n",
      "2021-12-20 17:23:08.907207: I tensorflow/stream_executor/cuda/cudart_stub.cc:29] Ignore above cudart dlerror if you do not have a GPU set up on your machine.\n"
     ]
    }
   ],
   "source": [
    "import numpy as np\n",
    "import pandas as pd\n",
    "import sys, os, random\n",
    "import tensorflow as tf\n",
    "from tensorflow.keras.models import Sequential\n",
    "from tensorflow.keras.layers import Dense, InputLayer, Dropout, Conv1D, Conv2D, Flatten, Reshape, MaxPooling1D, MaxPooling2D, BatchNormalization, TimeDistributed\n",
    "from tensorflow.keras.optimizers import Adam\n",
    "from sklearn.model_selection import train_test_split"
   ]
  },
  {
   "cell_type": "code",
   "execution_count": 3,
   "metadata": {},
   "outputs": [],
   "source": [
    "## set the paths and load data\n",
    "path_base = \"/home/trix_arch/IIVspace/DataSc/\"+\\\n",
    "            \"DataCamp2021/DSR_B28_work/DSR28_portfolio_project/\"+\\\n",
    "            \"Measurements_n_Tests/GGS_arduino_readings/GGSv2I_complete/\"\n",
    "path_add = \"df_data/\"\n",
    "path_add_folder2savemodel = \"tf_models/\"\n",
    "model_filename = 'model_c5_n36d02n24d02_mk1'"
   ]
  },
  {
   "cell_type": "code",
   "execution_count": 4,
   "metadata": {},
   "outputs": [],
   "source": [
    "filename2load = \"xdf_20211221_run5.csv\"\n",
    "Xdf = pd.read_csv(path_base + path_add + filename2load)"
   ]
  },
  {
   "cell_type": "code",
   "execution_count": 5,
   "metadata": {},
   "outputs": [
    {
     "data": {
      "text/html": [
       "<div>\n",
       "<style scoped>\n",
       "    .dataframe tbody tr th:only-of-type {\n",
       "        vertical-align: middle;\n",
       "    }\n",
       "\n",
       "    .dataframe tbody tr th {\n",
       "        vertical-align: top;\n",
       "    }\n",
       "\n",
       "    .dataframe thead th {\n",
       "        text-align: right;\n",
       "    }\n",
       "</style>\n",
       "<table border=\"1\" class=\"dataframe\">\n",
       "  <thead>\n",
       "    <tr style=\"text-align: right;\">\n",
       "      <th></th>\n",
       "      <th>time_ms</th>\n",
       "      <th>B102NO2</th>\n",
       "      <th>B302C2H5OH</th>\n",
       "      <th>B502VOC</th>\n",
       "      <th>B702CO</th>\n",
       "      <th>TdegC</th>\n",
       "      <th>RH</th>\n",
       "      <th>label</th>\n",
       "      <th>add_label</th>\n",
       "      <th>condition</th>\n",
       "    </tr>\n",
       "  </thead>\n",
       "  <tbody>\n",
       "    <tr>\n",
       "      <th>0</th>\n",
       "      <td>68</td>\n",
       "      <td>92</td>\n",
       "      <td>52</td>\n",
       "      <td>200</td>\n",
       "      <td>244</td>\n",
       "      <td>23</td>\n",
       "      <td>52</td>\n",
       "      <td>beer</td>\n",
       "      <td>1pilsner</td>\n",
       "      <td>roomjose</td>\n",
       "    </tr>\n",
       "    <tr>\n",
       "      <th>1</th>\n",
       "      <td>70</td>\n",
       "      <td>91</td>\n",
       "      <td>53</td>\n",
       "      <td>199</td>\n",
       "      <td>242</td>\n",
       "      <td>23</td>\n",
       "      <td>52</td>\n",
       "      <td>beer</td>\n",
       "      <td>1pilsner</td>\n",
       "      <td>roomjose</td>\n",
       "    </tr>\n",
       "    <tr>\n",
       "      <th>2</th>\n",
       "      <td>1561</td>\n",
       "      <td>90</td>\n",
       "      <td>51</td>\n",
       "      <td>197</td>\n",
       "      <td>218</td>\n",
       "      <td>23</td>\n",
       "      <td>52</td>\n",
       "      <td>beer</td>\n",
       "      <td>1pilsner</td>\n",
       "      <td>roomjose</td>\n",
       "    </tr>\n",
       "    <tr>\n",
       "      <th>3</th>\n",
       "      <td>1790</td>\n",
       "      <td>90</td>\n",
       "      <td>52</td>\n",
       "      <td>198</td>\n",
       "      <td>215</td>\n",
       "      <td>23</td>\n",
       "      <td>52</td>\n",
       "      <td>beer</td>\n",
       "      <td>1pilsner</td>\n",
       "      <td>roomjose</td>\n",
       "    </tr>\n",
       "    <tr>\n",
       "      <th>4</th>\n",
       "      <td>2025</td>\n",
       "      <td>90</td>\n",
       "      <td>52</td>\n",
       "      <td>198</td>\n",
       "      <td>213</td>\n",
       "      <td>23</td>\n",
       "      <td>52</td>\n",
       "      <td>beer</td>\n",
       "      <td>1pilsner</td>\n",
       "      <td>roomjose</td>\n",
       "    </tr>\n",
       "  </tbody>\n",
       "</table>\n",
       "</div>"
      ],
      "text/plain": [
       "   time_ms  B102NO2  B302C2H5OH  B502VOC  B702CO  TdegC  RH label add_label  \\\n",
       "0       68       92          52      200     244     23  52  beer  1pilsner   \n",
       "1       70       91          53      199     242     23  52  beer  1pilsner   \n",
       "2     1561       90          51      197     218     23  52  beer  1pilsner   \n",
       "3     1790       90          52      198     215     23  52  beer  1pilsner   \n",
       "4     2025       90          52      198     213     23  52  beer  1pilsner   \n",
       "\n",
       "  condition  \n",
       "0  roomjose  \n",
       "1  roomjose  \n",
       "2  roomjose  \n",
       "3  roomjose  \n",
       "4  roomjose  "
      ]
     },
     "execution_count": 5,
     "metadata": {},
     "output_type": "execute_result"
    }
   ],
   "source": [
    "Xdf.head()"
   ]
  },
  {
   "cell_type": "code",
   "execution_count": 6,
   "metadata": {},
   "outputs": [],
   "source": [
    "X_init = Xdf.iloc[:,1:7]\n",
    "Y_init = Xdf.label"
   ]
  },
  {
   "cell_type": "code",
   "execution_count": 7,
   "metadata": {},
   "outputs": [
    {
     "data": {
      "text/plain": [
       "['beer',\n",
       " 'bread',\n",
       " 'carrot',\n",
       " 'cheese',\n",
       " 'coffee',\n",
       " 'cola',\n",
       " 'cucumber',\n",
       " 'gluehwein',\n",
       " 'lemon',\n",
       " 'orange',\n",
       " 'sprite',\n",
       " 'tomato']"
      ]
     },
     "execution_count": 7,
     "metadata": {},
     "output_type": "execute_result"
    }
   ],
   "source": [
    "classes_values = Xdf.label.unique().tolist()\n",
    "classes_values.sort()\n",
    "classes = len(classes_values)\n",
    "classes_values"
   ]
  },
  {
   "cell_type": "code",
   "execution_count": 8,
   "metadata": {},
   "outputs": [],
   "source": [
    "dict_4labels = {'beer': 1,\n",
    " 'bread': 2,\n",
    " 'carrot': 3,\n",
    " 'cheese': 4,\n",
    " 'coffee': 5,\n",
    " 'cola': 6,\n",
    " 'cucumber': 7,\n",
    " 'gluehwein': 8,\n",
    " 'lemon': 9,\n",
    " 'orange': 10,\n",
    " 'sprite': 11,\n",
    " 'tomato': 12\n",
    " }"
   ]
  },
  {
   "cell_type": "code",
   "execution_count": 9,
   "metadata": {},
   "outputs": [
    {
     "name": "stderr",
     "output_type": "stream",
     "text": [
      "2021-12-20 17:23:11.249305: W tensorflow/stream_executor/platform/default/dso_loader.cc:64] Could not load dynamic library 'libcuda.so.1'; dlerror: libcuda.so.1: cannot open shared object file: No such file or directory\n",
      "2021-12-20 17:23:11.249339: W tensorflow/stream_executor/cuda/cuda_driver.cc:269] failed call to cuInit: UNKNOWN ERROR (303)\n",
      "2021-12-20 17:23:11.249363: I tensorflow/stream_executor/cuda/cuda_diagnostics.cc:156] kernel driver does not appear to be running on this host (ASTRAxfce): /proc/driver/nvidia/version does not exist\n"
     ]
    }
   ],
   "source": [
    "# Set random seeds for repeatable results\n",
    "RANDOM_SEED = 3\n",
    "random.seed(RANDOM_SEED)\n",
    "np.random.seed(RANDOM_SEED)\n",
    "tf.random.set_seed(RANDOM_SEED)\n",
    "\n",
    "\n",
    "\n",
    "\n",
    "Y = tf.keras.utils.to_categorical(Y_init.replace(dict_4labels)-1, classes)\n",
    "X = X_init.to_numpy()\n",
    "\n",
    "X_train, X_test, Y_train, Y_test = train_test_split(X, Y, test_size=0.2, random_state=1)\n",
    "\n",
    "input_length = X_train[0].shape[0]\n",
    "\n",
    "train_dataset = tf.data.Dataset.from_tensor_slices((X_train, Y_train))\n",
    "validation_dataset = tf.data.Dataset.from_tensor_slices((X_test, Y_test))\n",
    "\n",
    "callbacks = []\n"
   ]
  },
  {
   "cell_type": "code",
   "execution_count": 10,
   "metadata": {},
   "outputs": [],
   "source": [
    "# model architecture\n",
    "model = Sequential()\n",
    "model.add(Dense(36, \n",
    "                activation='relu', \n",
    "                activity_regularizer=tf.keras.regularizers.l1(0.00001)))\n",
    "model.add(Dropout(0.2))\n",
    "model.add(Dense(24, \n",
    "                activation='relu',\n",
    "                activity_regularizer=tf.keras.regularizers.l1(0.00001)))\n",
    "model.add(Dropout(0.2))\n",
    "model.add(Dense(classes, \n",
    "                activation='softmax', \n",
    "                name='y_pred'))\n",
    "\n",
    "# this controls the learning rate\n",
    "opt = Adam(learning_rate=0.0005, beta_1=0.9, beta_2=0.999)\n",
    "\n",
    "# this controls the batch size, or you can manipulate the tf.data.Dataset objects yourself\n",
    "BATCH_SIZE = 32\n",
    "train_dataset = train_dataset.batch(BATCH_SIZE, drop_remainder=False)\n",
    "validation_dataset = validation_dataset.batch(BATCH_SIZE, drop_remainder=False)\n",
    "\n",
    "# train the neural network\n",
    "model.compile(loss='categorical_crossentropy', optimizer=opt, metrics=['accuracy'])\n"
   ]
  },
  {
   "cell_type": "code",
   "execution_count": 11,
   "metadata": {
    "scrolled": false
   },
   "outputs": [
    {
     "name": "stdout",
     "output_type": "stream",
     "text": [
      "Epoch 1/45\n"
     ]
    },
    {
     "name": "stderr",
     "output_type": "stream",
     "text": [
      "2021-12-20 17:23:11.960881: I tensorflow/compiler/mlir/mlir_graph_optimization_pass.cc:185] None of the MLIR Optimization Passes are enabled (registered 2)\n"
     ]
    },
    {
     "name": "stdout",
     "output_type": "stream",
     "text": [
      "514/514 - 2s - loss: 11.2155 - accuracy: 0.1529 - val_loss: 2.3124 - val_accuracy: 0.1840\n",
      "Epoch 2/45\n",
      "514/514 - 1s - loss: 2.6131 - accuracy: 0.1758 - val_loss: 2.1770 - val_accuracy: 0.2042\n",
      "Epoch 3/45\n",
      "514/514 - 1s - loss: 2.2412 - accuracy: 0.2251 - val_loss: 1.8263 - val_accuracy: 0.3277\n",
      "Epoch 4/45\n",
      "514/514 - 1s - loss: 2.0060 - accuracy: 0.2663 - val_loss: 1.6901 - val_accuracy: 0.3574\n",
      "Epoch 5/45\n",
      "514/514 - 1s - loss: 1.8278 - accuracy: 0.3204 - val_loss: 1.5095 - val_accuracy: 0.5548\n",
      "Epoch 6/45\n",
      "514/514 - 1s - loss: 1.6474 - accuracy: 0.4062 - val_loss: 1.2422 - val_accuracy: 0.6541\n",
      "Epoch 7/45\n",
      "514/514 - 1s - loss: 1.4406 - accuracy: 0.4757 - val_loss: 1.0356 - val_accuracy: 0.6889\n",
      "Epoch 8/45\n",
      "514/514 - 1s - loss: 1.2541 - accuracy: 0.5190 - val_loss: 0.8587 - val_accuracy: 0.7717\n",
      "Epoch 9/45\n",
      "514/514 - 1s - loss: 1.1028 - accuracy: 0.5768 - val_loss: 0.7535 - val_accuracy: 0.8140\n",
      "Epoch 10/45\n",
      "514/514 - 1s - loss: 0.9782 - accuracy: 0.6308 - val_loss: 0.6184 - val_accuracy: 0.8423\n",
      "Epoch 11/45\n",
      "514/514 - 1s - loss: 0.8888 - accuracy: 0.6700 - val_loss: 0.5149 - val_accuracy: 0.8727\n",
      "Epoch 12/45\n",
      "514/514 - 1s - loss: 0.8135 - accuracy: 0.7004 - val_loss: 0.4533 - val_accuracy: 0.9031\n",
      "Epoch 13/45\n",
      "514/514 - 1s - loss: 0.7496 - accuracy: 0.7239 - val_loss: 0.3857 - val_accuracy: 0.9323\n",
      "Epoch 14/45\n",
      "514/514 - 1s - loss: 0.6821 - accuracy: 0.7495 - val_loss: 0.3359 - val_accuracy: 0.9328\n",
      "Epoch 15/45\n",
      "514/514 - 1s - loss: 0.6441 - accuracy: 0.7642 - val_loss: 0.3029 - val_accuracy: 0.9391\n",
      "Epoch 16/45\n",
      "514/514 - 1s - loss: 0.5799 - accuracy: 0.7853 - val_loss: 0.2698 - val_accuracy: 0.9438\n",
      "Epoch 17/45\n",
      "514/514 - 1s - loss: 0.5598 - accuracy: 0.7940 - val_loss: 0.2384 - val_accuracy: 0.9501\n",
      "Epoch 18/45\n",
      "514/514 - 1s - loss: 0.5305 - accuracy: 0.8066 - val_loss: 0.2223 - val_accuracy: 0.9572\n",
      "Epoch 19/45\n",
      "514/514 - 1s - loss: 0.4970 - accuracy: 0.8187 - val_loss: 0.2078 - val_accuracy: 0.9569\n",
      "Epoch 20/45\n",
      "514/514 - 1s - loss: 0.4664 - accuracy: 0.8273 - val_loss: 0.1861 - val_accuracy: 0.9547\n",
      "Epoch 21/45\n",
      "514/514 - 1s - loss: 0.4538 - accuracy: 0.8317 - val_loss: 0.1772 - val_accuracy: 0.9525\n",
      "Epoch 22/45\n",
      "514/514 - 1s - loss: 0.4372 - accuracy: 0.8388 - val_loss: 0.1603 - val_accuracy: 0.9574\n",
      "Epoch 23/45\n",
      "514/514 - 1s - loss: 0.4081 - accuracy: 0.8531 - val_loss: 0.1547 - val_accuracy: 0.9754\n",
      "Epoch 24/45\n",
      "514/514 - 1s - loss: 0.3909 - accuracy: 0.8558 - val_loss: 0.1463 - val_accuracy: 0.9640\n",
      "Epoch 25/45\n",
      "514/514 - 1s - loss: 0.3890 - accuracy: 0.8634 - val_loss: 0.1363 - val_accuracy: 0.9813\n",
      "Epoch 26/45\n",
      "514/514 - 1s - loss: 0.3719 - accuracy: 0.8660 - val_loss: 0.1267 - val_accuracy: 0.9849\n",
      "Epoch 27/45\n",
      "514/514 - 1s - loss: 0.3572 - accuracy: 0.8722 - val_loss: 0.1160 - val_accuracy: 0.9808\n",
      "Epoch 28/45\n",
      "514/514 - 1s - loss: 0.3623 - accuracy: 0.8696 - val_loss: 0.1188 - val_accuracy: 0.9791\n",
      "Epoch 29/45\n",
      "514/514 - 1s - loss: 0.3430 - accuracy: 0.8798 - val_loss: 0.1166 - val_accuracy: 0.9815\n",
      "Epoch 30/45\n",
      "514/514 - 1s - loss: 0.3392 - accuracy: 0.8816 - val_loss: 0.1121 - val_accuracy: 0.9815\n",
      "Epoch 31/45\n",
      "514/514 - 1s - loss: 0.3341 - accuracy: 0.8858 - val_loss: 0.1019 - val_accuracy: 0.9856\n",
      "Epoch 32/45\n",
      "514/514 - 1s - loss: 0.3259 - accuracy: 0.8841 - val_loss: 0.0969 - val_accuracy: 0.9859\n",
      "Epoch 33/45\n",
      "514/514 - 1s - loss: 0.3193 - accuracy: 0.8874 - val_loss: 0.0984 - val_accuracy: 0.9847\n",
      "Epoch 34/45\n",
      "514/514 - 1s - loss: 0.3150 - accuracy: 0.8882 - val_loss: 0.0953 - val_accuracy: 0.9842\n",
      "Epoch 35/45\n",
      "514/514 - 1s - loss: 0.3114 - accuracy: 0.8875 - val_loss: 0.0899 - val_accuracy: 0.9832\n",
      "Epoch 36/45\n",
      "514/514 - 1s - loss: 0.3081 - accuracy: 0.8891 - val_loss: 0.0923 - val_accuracy: 0.9830\n",
      "Epoch 37/45\n",
      "514/514 - 1s - loss: 0.2919 - accuracy: 0.8970 - val_loss: 0.0843 - val_accuracy: 0.9852\n",
      "Epoch 38/45\n",
      "514/514 - 1s - loss: 0.2959 - accuracy: 0.8959 - val_loss: 0.0862 - val_accuracy: 0.9869\n",
      "Epoch 39/45\n",
      "514/514 - 1s - loss: 0.2909 - accuracy: 0.8968 - val_loss: 0.0832 - val_accuracy: 0.9844\n",
      "Epoch 40/45\n",
      "514/514 - 1s - loss: 0.2884 - accuracy: 0.8967 - val_loss: 0.0806 - val_accuracy: 0.9895\n",
      "Epoch 41/45\n",
      "514/514 - 1s - loss: 0.2857 - accuracy: 0.9007 - val_loss: 0.0847 - val_accuracy: 0.9844\n",
      "Epoch 42/45\n",
      "514/514 - 1s - loss: 0.2765 - accuracy: 0.9024 - val_loss: 0.0713 - val_accuracy: 0.9890\n",
      "Epoch 43/45\n",
      "514/514 - 1s - loss: 0.2817 - accuracy: 0.9030 - val_loss: 0.0801 - val_accuracy: 0.9847\n",
      "Epoch 44/45\n",
      "514/514 - 1s - loss: 0.2773 - accuracy: 0.9010 - val_loss: 0.0739 - val_accuracy: 0.9895\n",
      "Epoch 45/45\n",
      "514/514 - 1s - loss: 0.2709 - accuracy: 0.9069 - val_loss: 0.0759 - val_accuracy: 0.9859\n"
     ]
    },
    {
     "data": {
      "text/plain": [
       "<keras.callbacks.History at 0x7f5dbe7eae50>"
      ]
     },
     "execution_count": 11,
     "metadata": {},
     "output_type": "execute_result"
    }
   ],
   "source": [
    "model.fit(train_dataset, epochs=45, validation_data=validation_dataset, verbose=2, callbacks=callbacks)"
   ]
  },
  {
   "cell_type": "code",
   "execution_count": 12,
   "metadata": {},
   "outputs": [
    {
     "name": "stdout",
     "output_type": "stream",
     "text": [
      "Model: \"sequential\"\n",
      "_________________________________________________________________\n",
      "Layer (type)                 Output Shape              Param #   \n",
      "=================================================================\n",
      "dense (Dense)                (None, 36)                252       \n",
      "_________________________________________________________________\n",
      "dropout (Dropout)            (None, 36)                0         \n",
      "_________________________________________________________________\n",
      "dense_1 (Dense)              (None, 24)                888       \n",
      "_________________________________________________________________\n",
      "dropout_1 (Dropout)          (None, 24)                0         \n",
      "_________________________________________________________________\n",
      "y_pred (Dense)               (None, 12)                300       \n",
      "=================================================================\n",
      "Total params: 1,440\n",
      "Trainable params: 1,440\n",
      "Non-trainable params: 0\n",
      "_________________________________________________________________\n"
     ]
    }
   ],
   "source": [
    "model.summary()"
   ]
  },
  {
   "cell_type": "code",
   "execution_count": 13,
   "metadata": {},
   "outputs": [
    {
     "name": "stdout",
     "output_type": "stream",
     "text": [
      "129/129 - 0s - loss: 0.0759 - accuracy: 0.9859\n",
      "Model, accuracy: 98.59%\n"
     ]
    }
   ],
   "source": [
    "# Evaluate the model\n",
    "loss, acc = model.evaluate(X_test, Y_test, verbose=2)\n",
    "print(\"Model, accuracy: {:5.2f}%\".format(100 * acc))"
   ]
  },
  {
   "cell_type": "code",
   "execution_count": 14,
   "metadata": {},
   "outputs": [
    {
     "name": "stderr",
     "output_type": "stream",
     "text": [
      "2021-12-20 17:23:55.526529: W tensorflow/python/util/util.cc:348] Sets are not currently considered sequences, but this may change in the future, so consider avoiding using them.\n"
     ]
    },
    {
     "name": "stdout",
     "output_type": "stream",
     "text": [
      "INFO:tensorflow:Assets written to: /home/trix_arch/IIVspace/DataSc/DataCamp2021/DSR_B28_work/DSR28_portfolio_project/Measurements_n_Tests/GGS_arduino_readings/GGSv2I_complete/tf_models/model_c3_n36d02n24d02_cle_noCnoA_no3/assets\n"
     ]
    }
   ],
   "source": [
    "# Save the model to disk\n",
    "# model.save('saved_model')\n",
    "\n",
    "# !mkdir -p saved_model\n",
    "\n",
    "model.save(path_base + path_add_folder2savemodel + model_filename )"
   ]
  },
  {
   "cell_type": "code",
   "execution_count": 15,
   "metadata": {},
   "outputs": [
    {
     "name": "stdout",
     "output_type": "stream",
     "text": [
      "Model: \"sequential\"\n",
      "_________________________________________________________________\n",
      "Layer (type)                 Output Shape              Param #   \n",
      "=================================================================\n",
      "dense (Dense)                (None, 36)                252       \n",
      "_________________________________________________________________\n",
      "dropout (Dropout)            (None, 36)                0         \n",
      "_________________________________________________________________\n",
      "dense_1 (Dense)              (None, 24)                888       \n",
      "_________________________________________________________________\n",
      "dropout_1 (Dropout)          (None, 24)                0         \n",
      "_________________________________________________________________\n",
      "y_pred (Dense)               (None, 12)                300       \n",
      "=================================================================\n",
      "Total params: 1,440\n",
      "Trainable params: 1,440\n",
      "Non-trainable params: 0\n",
      "_________________________________________________________________\n"
     ]
    }
   ],
   "source": [
    "#########################\n",
    "## Load into a new model\n",
    "#########################\n",
    "new_model = tf.keras.models.load_model(path_base + path_add_folder2savemodel + model_filename )\n",
    "\n",
    "# Check its architecture\n",
    "new_model.summary()"
   ]
  },
  {
   "cell_type": "code",
   "execution_count": 16,
   "metadata": {},
   "outputs": [
    {
     "name": "stdout",
     "output_type": "stream",
     "text": [
      "129/129 - 0s - loss: 0.0759 - accuracy: 0.9859\n",
      "Restored model, accuracy: 98.59%\n",
      "(4108, 12)\n"
     ]
    }
   ],
   "source": [
    "loss, acc = new_model.evaluate(X_test, Y_test, verbose=2)\n",
    "print('Restored model, accuracy: {:5.2f}%'.format(100 * acc))\n",
    "\n",
    "print(new_model.predict(X_test).shape)"
   ]
  },
  {
   "cell_type": "code",
   "execution_count": null,
   "metadata": {},
   "outputs": [],
   "source": []
  },
  {
   "cell_type": "code",
   "execution_count": null,
   "metadata": {},
   "outputs": [],
   "source": []
  },
  {
   "cell_type": "code",
   "execution_count": 17,
   "metadata": {},
   "outputs": [],
   "source": [
    "#########################\n",
    "##### tests\n",
    "#########################"
   ]
  },
  {
   "cell_type": "code",
   "execution_count": 18,
   "metadata": {},
   "outputs": [
    {
     "name": "stdout",
     "output_type": "stream",
     "text": [
      "Values_Train: [[79 25 97 94 22 61]]\n",
      "Label_Train:  [[0. 0. 0. 0. 0. 0. 0. 0. 0. 1. 0. 0.]]\n",
      "Label_Text:   [['orange']]\n"
     ]
    }
   ],
   "source": [
    "##### random sample from TRAIN set\n",
    "randt_index_X = np.random.randint(low=0, high=X_train.shape[0], size=1, dtype=int)\n",
    "print(f\"Values_Train: {X_train[randt_index_X,:]}\")\n",
    "print(f\"Label_Train:  {Y_train[randt_index_X]}\")\n",
    "print(f\"Label_Text:   {pd.DataFrame(classes_values).loc[[bool(cc) for cc in Y_train[randt_index_X].tolist()[0]],:].values}\")"
   ]
  },
  {
   "cell_type": "code",
   "execution_count": 19,
   "metadata": {},
   "outputs": [
    {
     "name": "stdout",
     "output_type": "stream",
     "text": [
      "Values_Test: [[37 32 62 94 22 55]]\n",
      "Label_Test:  [[0. 0. 0. 0. 0. 0. 0. 0. 0. 0. 0. 1.]]\n",
      "Label_Text:   [['tomato']]\n"
     ]
    }
   ],
   "source": [
    "##### random sample from TEST set\n",
    "randt_index_X = np.random.randint(low=0, high=X_test.shape[0], size=1, dtype=int)\n",
    "print(f\"Values_Test: {X_test[randt_index_X,:]}\")\n",
    "print(f\"Label_Test:  {Y_test[randt_index_X]}\")\n",
    "print(f\"Label_Text:   {pd.DataFrame(classes_values).loc[[bool(cc) for cc in Y_test[randt_index_X].tolist()[0]],:].values}\")"
   ]
  },
  {
   "cell_type": "code",
   "execution_count": 20,
   "metadata": {},
   "outputs": [
    {
     "name": "stdout",
     "output_type": "stream",
     "text": [
      "X sample:        B102NO2  B302C2H5OH  B502VOC  B702CO  TdegC  RH\n",
      "11513      142          29      151      99     23  51 \n",
      "Y label: 11513    cucumber\n",
      "Name: label, dtype: object\n"
     ]
    }
   ],
   "source": [
    "randt_index_X = np.random.randint(low=0, high=X_init.shape[0], size=1, dtype=int)\n",
    "\n",
    "print(f\"X sample: {X_init.loc[randt_index_X, :]} \\nY label: {Y_init.loc[randt_index_X]}\")"
   ]
  }
 ],
 "metadata": {
  "kernelspec": {
   "display_name": "pyAIsense_env",
   "language": "python",
   "name": "pyaisense"
  },
  "language_info": {
   "codemirror_mode": {
    "name": "ipython",
    "version": 3
   },
   "file_extension": ".py",
   "mimetype": "text/x-python",
   "name": "python",
   "nbconvert_exporter": "python",
   "pygments_lexer": "ipython3",
   "version": "3.9.7"
  }
 },
 "nbformat": 4,
 "nbformat_minor": 4
}
