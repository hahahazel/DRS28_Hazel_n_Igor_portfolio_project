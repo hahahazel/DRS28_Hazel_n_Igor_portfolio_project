{
 "cells": [
  {
   "cell_type": "code",
   "execution_count": 62,
   "metadata": {},
   "outputs": [
    {
     "name": "stdout",
     "output_type": "stream",
     "text": [
      "{\n",
      "  \"shell_port\": 58339,\n",
      "  \"iopub_port\": 36973,\n",
      "  \"stdin_port\": 42245,\n",
      "  \"control_port\": 42507,\n",
      "  \"hb_port\": 60351,\n",
      "  \"ip\": \"127.0.0.1\",\n",
      "  \"key\": \"e7469cb1-f40cad1b4970659273a9cfde\",\n",
      "  \"transport\": \"tcp\",\n",
      "  \"signature_scheme\": \"hmac-sha256\",\n",
      "  \"kernel_name\": \"\"\n",
      "}\n",
      "\n",
      "Paste the above JSON into a file, and connect with:\n",
      "    $> jupyter <app> --existing <file>\n",
      "or, if you are local, you can connect with just:\n",
      "    $> jupyter <app> --existing kernel-22de5991-ad8e-4f62-a297-7f6ad2c64de5.json\n",
      "or even just:\n",
      "    $> jupyter <app> --existing\n",
      "if this is the most recent Jupyter kernel you have started.\n"
     ]
    }
   ],
   "source": [
    "%reset -f\n",
    "%connect_info"
   ]
  },
  {
   "cell_type": "code",
   "execution_count": 63,
   "metadata": {},
   "outputs": [],
   "source": [
    "import numpy as np\n",
    "import pandas as pd\n",
    "import sys, os, random\n",
    "import tensorflow as tf\n",
    "from tensorflow.keras.models import Sequential\n",
    "from tensorflow.keras.layers import Dense, InputLayer, Dropout, Conv1D, Conv2D, Flatten, Reshape, MaxPooling1D, MaxPooling2D, BatchNormalization, TimeDistributed\n",
    "from tensorflow.keras.optimizers import Adam\n",
    "from sklearn.model_selection import train_test_split"
   ]
  },
  {
   "cell_type": "code",
   "execution_count": 64,
   "metadata": {},
   "outputs": [],
   "source": [
    "## set the paths and load data\n",
    "path_base = \"/home/trix_arch/IIVspace/DataSc/\"+\\\n",
    "            \"DataCamp2021/DSR_B28_work/DSR28_portfolio_project/\"+\\\n",
    "            \"Measurements_n_Tests/GGS_arduino_readings/GGSv2I_complete/\"\n",
    "path_add = \"df_data/\"\n",
    "path_add_folder2savemodel = \"tf_models/\"\n",
    "model_filename = 'model_c5_n36d02n24d02_mk1'"
   ]
  },
  {
   "cell_type": "code",
   "execution_count": 65,
   "metadata": {},
   "outputs": [],
   "source": [
    "filename2load = \"xdf_20211221_run5.csv\"\n",
    "Xdf = pd.read_csv(path_base + path_add + filename2load)"
   ]
  },
  {
   "cell_type": "code",
   "execution_count": 66,
   "metadata": {},
   "outputs": [
    {
     "data": {
      "text/html": [
       "<div>\n",
       "<style scoped>\n",
       "    .dataframe tbody tr th:only-of-type {\n",
       "        vertical-align: middle;\n",
       "    }\n",
       "\n",
       "    .dataframe tbody tr th {\n",
       "        vertical-align: top;\n",
       "    }\n",
       "\n",
       "    .dataframe thead th {\n",
       "        text-align: right;\n",
       "    }\n",
       "</style>\n",
       "<table border=\"1\" class=\"dataframe\">\n",
       "  <thead>\n",
       "    <tr style=\"text-align: right;\">\n",
       "      <th></th>\n",
       "      <th>time_ms</th>\n",
       "      <th>B102NO2</th>\n",
       "      <th>B302C2H5OH</th>\n",
       "      <th>B502VOC</th>\n",
       "      <th>B702CO</th>\n",
       "      <th>TdegC</th>\n",
       "      <th>RH</th>\n",
       "      <th>label</th>\n",
       "      <th>add_label</th>\n",
       "      <th>condition</th>\n",
       "    </tr>\n",
       "  </thead>\n",
       "  <tbody>\n",
       "    <tr>\n",
       "      <th>0</th>\n",
       "      <td>15</td>\n",
       "      <td>549</td>\n",
       "      <td>153</td>\n",
       "      <td>514</td>\n",
       "      <td>318</td>\n",
       "      <td>25</td>\n",
       "      <td>34</td>\n",
       "      <td>beer</td>\n",
       "      <td>1</td>\n",
       "      <td>roomoffice</td>\n",
       "    </tr>\n",
       "    <tr>\n",
       "      <th>1</th>\n",
       "      <td>16</td>\n",
       "      <td>548</td>\n",
       "      <td>154</td>\n",
       "      <td>515</td>\n",
       "      <td>318</td>\n",
       "      <td>25</td>\n",
       "      <td>34</td>\n",
       "      <td>beer</td>\n",
       "      <td>1</td>\n",
       "      <td>roomoffice</td>\n",
       "    </tr>\n",
       "    <tr>\n",
       "      <th>2</th>\n",
       "      <td>16</td>\n",
       "      <td>549</td>\n",
       "      <td>153</td>\n",
       "      <td>515</td>\n",
       "      <td>319</td>\n",
       "      <td>25</td>\n",
       "      <td>34</td>\n",
       "      <td>beer</td>\n",
       "      <td>1</td>\n",
       "      <td>roomoffice</td>\n",
       "    </tr>\n",
       "    <tr>\n",
       "      <th>3</th>\n",
       "      <td>16</td>\n",
       "      <td>549</td>\n",
       "      <td>154</td>\n",
       "      <td>515</td>\n",
       "      <td>318</td>\n",
       "      <td>25</td>\n",
       "      <td>34</td>\n",
       "      <td>beer</td>\n",
       "      <td>1</td>\n",
       "      <td>roomoffice</td>\n",
       "    </tr>\n",
       "    <tr>\n",
       "      <th>4</th>\n",
       "      <td>17</td>\n",
       "      <td>549</td>\n",
       "      <td>154</td>\n",
       "      <td>515</td>\n",
       "      <td>319</td>\n",
       "      <td>25</td>\n",
       "      <td>34</td>\n",
       "      <td>beer</td>\n",
       "      <td>1</td>\n",
       "      <td>roomoffice</td>\n",
       "    </tr>\n",
       "  </tbody>\n",
       "</table>\n",
       "</div>"
      ],
      "text/plain": [
       "   time_ms  B102NO2  B302C2H5OH  B502VOC  B702CO  TdegC  RH label  add_label  \\\n",
       "0       15      549         153      514     318     25  34  beer          1   \n",
       "1       16      548         154      515     318     25  34  beer          1   \n",
       "2       16      549         153      515     319     25  34  beer          1   \n",
       "3       16      549         154      515     318     25  34  beer          1   \n",
       "4       17      549         154      515     319     25  34  beer          1   \n",
       "\n",
       "    condition  \n",
       "0  roomoffice  \n",
       "1  roomoffice  \n",
       "2  roomoffice  \n",
       "3  roomoffice  \n",
       "4  roomoffice  "
      ]
     },
     "execution_count": 66,
     "metadata": {},
     "output_type": "execute_result"
    }
   ],
   "source": [
    "Xdf.head()"
   ]
  },
  {
   "cell_type": "code",
   "execution_count": 67,
   "metadata": {},
   "outputs": [],
   "source": [
    "X_init = Xdf.iloc[:,1:7]\n",
    "Y_init = Xdf.label"
   ]
  },
  {
   "cell_type": "code",
   "execution_count": 68,
   "metadata": {},
   "outputs": [
    {
     "data": {
      "text/plain": [
       "['beer', 'coffee', 'orange']"
      ]
     },
     "execution_count": 68,
     "metadata": {},
     "output_type": "execute_result"
    }
   ],
   "source": [
    "classes_values = Xdf.label.unique().tolist()\n",
    "classes_values.sort()\n",
    "classes = len(classes_values)\n",
    "classes_values"
   ]
  },
  {
   "cell_type": "code",
   "execution_count": 69,
   "metadata": {},
   "outputs": [],
   "source": [
    "dict_4labels = {'beer': 1,\n",
    " 'coffee': 2,\n",
    " 'orange': 3\n",
    " }"
   ]
  },
  {
   "cell_type": "code",
   "execution_count": 70,
   "metadata": {},
   "outputs": [],
   "source": [
    "# Set random seeds for repeatable results\n",
    "RANDOM_SEED = 3\n",
    "random.seed(RANDOM_SEED)\n",
    "np.random.seed(RANDOM_SEED)\n",
    "tf.random.set_seed(RANDOM_SEED)\n",
    "\n",
    "\n",
    "\n",
    "\n",
    "Y = tf.keras.utils.to_categorical(Y_init.replace(dict_4labels)-1, classes)\n",
    "X = X_init.to_numpy()\n",
    "\n",
    "X_train, X_test, Y_train, Y_test = train_test_split(X, Y, test_size=0.2, random_state=1)\n",
    "\n",
    "input_length = X_train[0].shape[0]\n",
    "\n",
    "train_dataset = tf.data.Dataset.from_tensor_slices((X_train, Y_train))\n",
    "validation_dataset = tf.data.Dataset.from_tensor_slices((X_test, Y_test))\n",
    "\n",
    "callbacks = []\n"
   ]
  },
  {
   "cell_type": "code",
   "execution_count": 71,
   "metadata": {},
   "outputs": [],
   "source": [
    "# model architecture\n",
    "model = Sequential()\n",
    "model.add(Dense(36, \n",
    "                activation='relu', \n",
    "                activity_regularizer=tf.keras.regularizers.l1(0.00001)))\n",
    "model.add(Dropout(0.2))\n",
    "model.add(Dense(24, \n",
    "                activation='relu',\n",
    "                activity_regularizer=tf.keras.regularizers.l1(0.00001)))\n",
    "model.add(Dropout(0.2))\n",
    "model.add(Dense(classes, \n",
    "                activation='softmax', \n",
    "                name='y_pred'))\n",
    "\n",
    "# this controls the learning rate\n",
    "opt = Adam(learning_rate=0.0005, beta_1=0.9, beta_2=0.999)\n",
    "\n",
    "# this controls the batch size, or you can manipulate the tf.data.Dataset objects yourself\n",
    "BATCH_SIZE = 32\n",
    "train_dataset = train_dataset.batch(BATCH_SIZE, drop_remainder=False)\n",
    "validation_dataset = validation_dataset.batch(BATCH_SIZE, drop_remainder=False)\n",
    "\n",
    "# train the neural network\n",
    "model.compile(loss='categorical_crossentropy', optimizer=opt, metrics=['accuracy'])\n"
   ]
  },
  {
   "cell_type": "code",
   "execution_count": 72,
   "metadata": {
    "scrolled": false
   },
   "outputs": [
    {
     "name": "stdout",
     "output_type": "stream",
     "text": [
      "Epoch 1/15\n",
      "360/360 - 1s - loss: 33.3161 - accuracy: 0.6095 - val_loss: 0.0445 - val_accuracy: 0.9997\n",
      "Epoch 2/15\n",
      "360/360 - 0s - loss: 4.8296 - accuracy: 0.8156 - val_loss: 0.0262 - val_accuracy: 1.0000\n",
      "Epoch 3/15\n",
      "360/360 - 0s - loss: 1.6314 - accuracy: 0.8893 - val_loss: 0.0227 - val_accuracy: 1.0000\n",
      "Epoch 4/15\n",
      "360/360 - 1s - loss: 0.7658 - accuracy: 0.9220 - val_loss: 0.0206 - val_accuracy: 1.0000\n",
      "Epoch 5/15\n",
      "360/360 - 1s - loss: 0.4320 - accuracy: 0.9458 - val_loss: 0.0190 - val_accuracy: 1.0000\n",
      "Epoch 6/15\n",
      "360/360 - 1s - loss: 0.2779 - accuracy: 0.9577 - val_loss: 0.0181 - val_accuracy: 1.0000\n",
      "Epoch 7/15\n",
      "360/360 - 1s - loss: 0.1988 - accuracy: 0.9680 - val_loss: 0.0172 - val_accuracy: 1.0000\n",
      "Epoch 8/15\n",
      "360/360 - 1s - loss: 0.1427 - accuracy: 0.9745 - val_loss: 0.0163 - val_accuracy: 1.0000\n",
      "Epoch 9/15\n",
      "360/360 - 1s - loss: 0.0969 - accuracy: 0.9799 - val_loss: 0.0157 - val_accuracy: 1.0000\n",
      "Epoch 10/15\n",
      "360/360 - 1s - loss: 0.0861 - accuracy: 0.9829 - val_loss: 0.0151 - val_accuracy: 1.0000\n",
      "Epoch 11/15\n",
      "360/360 - 1s - loss: 0.0652 - accuracy: 0.9856 - val_loss: 0.0143 - val_accuracy: 1.0000\n",
      "Epoch 12/15\n",
      "360/360 - 1s - loss: 0.0640 - accuracy: 0.9885 - val_loss: 0.0135 - val_accuracy: 1.0000\n",
      "Epoch 13/15\n",
      "360/360 - 1s - loss: 0.0472 - accuracy: 0.9920 - val_loss: 0.0133 - val_accuracy: 1.0000\n",
      "Epoch 14/15\n",
      "360/360 - 1s - loss: 0.0462 - accuracy: 0.9905 - val_loss: 0.0125 - val_accuracy: 1.0000\n",
      "Epoch 15/15\n",
      "360/360 - 1s - loss: 0.0316 - accuracy: 0.9942 - val_loss: 0.0122 - val_accuracy: 1.0000\n"
     ]
    },
    {
     "data": {
      "text/plain": [
       "<keras.callbacks.History at 0x7f130d75ae50>"
      ]
     },
     "execution_count": 72,
     "metadata": {},
     "output_type": "execute_result"
    }
   ],
   "source": [
    "model.fit(train_dataset, epochs=15, validation_data=validation_dataset, verbose=2, callbacks=callbacks)"
   ]
  },
  {
   "cell_type": "code",
   "execution_count": 73,
   "metadata": {},
   "outputs": [
    {
     "name": "stdout",
     "output_type": "stream",
     "text": [
      "Model: \"sequential_3\"\n",
      "_________________________________________________________________\n",
      "Layer (type)                 Output Shape              Param #   \n",
      "=================================================================\n",
      "dense_6 (Dense)              (None, 36)                252       \n",
      "_________________________________________________________________\n",
      "dropout_6 (Dropout)          (None, 36)                0         \n",
      "_________________________________________________________________\n",
      "dense_7 (Dense)              (None, 24)                888       \n",
      "_________________________________________________________________\n",
      "dropout_7 (Dropout)          (None, 24)                0         \n",
      "_________________________________________________________________\n",
      "y_pred (Dense)               (None, 3)                 75        \n",
      "=================================================================\n",
      "Total params: 1,215\n",
      "Trainable params: 1,215\n",
      "Non-trainable params: 0\n",
      "_________________________________________________________________\n"
     ]
    }
   ],
   "source": [
    "model.summary()"
   ]
  },
  {
   "cell_type": "code",
   "execution_count": 74,
   "metadata": {},
   "outputs": [
    {
     "name": "stdout",
     "output_type": "stream",
     "text": [
      "90/90 - 0s - loss: 0.0122 - accuracy: 1.0000\n",
      "Model, accuracy: 100.00%\n"
     ]
    }
   ],
   "source": [
    "# Evaluate the model\n",
    "loss, acc = model.evaluate(X_test, Y_test, verbose=2)\n",
    "print(\"Model, accuracy: {:5.2f}%\".format(100 * acc))"
   ]
  },
  {
   "cell_type": "code",
   "execution_count": 75,
   "metadata": {},
   "outputs": [
    {
     "name": "stdout",
     "output_type": "stream",
     "text": [
      "INFO:tensorflow:Assets written to: /home/trix_arch/IIVspace/DataSc/DataCamp2021/DSR_B28_work/DSR28_portfolio_project/Measurements_n_Tests/GGS_arduino_readings/GGSv2I_complete/tf_models/model_c5_n36d02n24d02_mk1/assets\n"
     ]
    }
   ],
   "source": [
    "# Save the model to disk\n",
    "# model.save('saved_model')\n",
    "\n",
    "# !mkdir -p saved_model\n",
    "\n",
    "model.save(path_base + path_add_folder2savemodel + model_filename )"
   ]
  },
  {
   "cell_type": "code",
   "execution_count": 76,
   "metadata": {},
   "outputs": [
    {
     "name": "stdout",
     "output_type": "stream",
     "text": [
      "Model: \"sequential_3\"\n",
      "_________________________________________________________________\n",
      "Layer (type)                 Output Shape              Param #   \n",
      "=================================================================\n",
      "dense_6 (Dense)              (None, 36)                252       \n",
      "_________________________________________________________________\n",
      "dropout_6 (Dropout)          (None, 36)                0         \n",
      "_________________________________________________________________\n",
      "dense_7 (Dense)              (None, 24)                888       \n",
      "_________________________________________________________________\n",
      "dropout_7 (Dropout)          (None, 24)                0         \n",
      "_________________________________________________________________\n",
      "y_pred (Dense)               (None, 3)                 75        \n",
      "=================================================================\n",
      "Total params: 1,215\n",
      "Trainable params: 1,215\n",
      "Non-trainable params: 0\n",
      "_________________________________________________________________\n"
     ]
    }
   ],
   "source": [
    "#########################\n",
    "## Load into a new model\n",
    "#########################\n",
    "new_model = tf.keras.models.load_model(path_base + path_add_folder2savemodel + model_filename )\n",
    "\n",
    "# Check its architecture\n",
    "new_model.summary()"
   ]
  },
  {
   "cell_type": "code",
   "execution_count": 77,
   "metadata": {},
   "outputs": [
    {
     "name": "stdout",
     "output_type": "stream",
     "text": [
      "90/90 - 0s - loss: 0.0122 - accuracy: 1.0000\n",
      "Restored model, accuracy: 100.00%\n",
      "(2880, 3)\n"
     ]
    }
   ],
   "source": [
    "loss, acc = new_model.evaluate(X_test, Y_test, verbose=2)\n",
    "print('Restored model, accuracy: {:5.2f}%'.format(100 * acc))\n",
    "\n",
    "print(new_model.predict(X_test).shape)"
   ]
  },
  {
   "cell_type": "code",
   "execution_count": null,
   "metadata": {},
   "outputs": [],
   "source": []
  },
  {
   "cell_type": "code",
   "execution_count": null,
   "metadata": {},
   "outputs": [],
   "source": []
  },
  {
   "cell_type": "code",
   "execution_count": 78,
   "metadata": {},
   "outputs": [],
   "source": [
    "#########################\n",
    "##### tests\n",
    "#########################"
   ]
  },
  {
   "cell_type": "code",
   "execution_count": 79,
   "metadata": {},
   "outputs": [
    {
     "name": "stdout",
     "output_type": "stream",
     "text": [
      "Values_Train: [[728 642 540 210  25  34]]\n",
      "Label_Train:  [[0. 1. 0.]]\n",
      "Label_Text:   [['coffee']]\n"
     ]
    }
   ],
   "source": [
    "##### random sample from TRAIN set\n",
    "randt_index_X = np.random.randint(low=0, high=X_train.shape[0], size=1, dtype=int)\n",
    "print(f\"Values_Train: {X_train[randt_index_X,:]}\")\n",
    "print(f\"Label_Train:  {Y_train[randt_index_X]}\")\n",
    "print(f\"Label_Text:   {pd.DataFrame(classes_values).loc[[bool(cc) for cc in Y_train[randt_index_X].tolist()[0]],:].values}\")"
   ]
  },
  {
   "cell_type": "code",
   "execution_count": 80,
   "metadata": {},
   "outputs": [
    {
     "name": "stdout",
     "output_type": "stream",
     "text": [
      "Values_Test: [[548 153 514 318  25  34]]\n",
      "Label_Test:  [[1. 0. 0.]]\n",
      "Label_Text:   [['beer']]\n"
     ]
    }
   ],
   "source": [
    "##### random sample from TEST set\n",
    "randt_index_X = np.random.randint(low=0, high=X_test.shape[0], size=1, dtype=int)\n",
    "print(f\"Values_Test: {X_test[randt_index_X,:]}\")\n",
    "print(f\"Label_Test:  {Y_test[randt_index_X]}\")\n",
    "print(f\"Label_Text:   {pd.DataFrame(classes_values).loc[[bool(cc) for cc in Y_test[randt_index_X].tolist()[0]],:].values}\")"
   ]
  },
  {
   "cell_type": "code",
   "execution_count": 83,
   "metadata": {},
   "outputs": [
    {
     "name": "stdout",
     "output_type": "stream",
     "text": [
      "Values_Test: [[900 372 804 359  26  33]]\n",
      "Label_Test:  [[0. 0. 1.]]\n",
      "Label_Text:   [['orange']]\n"
     ]
    }
   ],
   "source": [
    "##### random sample from TEST set\n",
    "randt_index_X = np.random.randint(low=0, high=X_test.shape[0], size=1, dtype=int)\n",
    "print(f\"Values_Test: {X_test[randt_index_X,:]}\")\n",
    "print(f\"Label_Test:  {Y_test[randt_index_X]}\")\n",
    "print(f\"Label_Text:   {pd.DataFrame(classes_values).loc[[bool(cc) for cc in Y_test[randt_index_X].tolist()[0]],:].values}\")"
   ]
  },
  {
   "cell_type": "code",
   "execution_count": 81,
   "metadata": {},
   "outputs": [
    {
     "name": "stdout",
     "output_type": "stream",
     "text": [
      "X sample:        B102NO2  B302C2H5OH  B502VOC  B702CO  TdegC  RH\n",
      "11513      920         427      840     449     25  34 \n",
      "Y label: 11513    orange\n",
      "Name: label, dtype: object\n"
     ]
    }
   ],
   "source": [
    "randt_index_X = np.random.randint(low=0, high=X_init.shape[0], size=1, dtype=int)\n",
    "\n",
    "print(f\"X sample: {X_init.loc[randt_index_X, :]} \\nY label: {Y_init.loc[randt_index_X]}\")"
   ]
  }
 ],
 "metadata": {
  "kernelspec": {
   "display_name": "pyAIsense_env",
   "language": "python",
   "name": "pyaisense"
  },
  "language_info": {
   "codemirror_mode": {
    "name": "ipython",
    "version": 3
   },
   "file_extension": ".py",
   "mimetype": "text/x-python",
   "name": "python",
   "nbconvert_exporter": "python",
   "pygments_lexer": "ipython3",
   "version": "3.9.7"
  }
 },
 "nbformat": 4,
 "nbformat_minor": 4
}
