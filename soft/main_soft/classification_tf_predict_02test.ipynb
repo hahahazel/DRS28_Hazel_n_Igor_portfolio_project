{
 "cells": [
  {
   "cell_type": "code",
   "execution_count": 1,
   "metadata": {},
   "outputs": [
    {
     "name": "stdout",
     "output_type": "stream",
     "text": [
      "{\n",
      "  \"shell_port\": 57909,\n",
      "  \"iopub_port\": 47093,\n",
      "  \"stdin_port\": 46205,\n",
      "  \"control_port\": 37647,\n",
      "  \"hb_port\": 51827,\n",
      "  \"ip\": \"127.0.0.1\",\n",
      "  \"key\": \"0ba08366-00dea7cc611b56727a80d291\",\n",
      "  \"transport\": \"tcp\",\n",
      "  \"signature_scheme\": \"hmac-sha256\",\n",
      "  \"kernel_name\": \"\"\n",
      "}\n",
      "\n",
      "Paste the above JSON into a file, and connect with:\n",
      "    $> jupyter <app> --existing <file>\n",
      "or, if you are local, you can connect with just:\n",
      "    $> jupyter <app> --existing kernel-ca285b67-44e3-442a-8255-3227b3fc94df.json\n",
      "or even just:\n",
      "    $> jupyter <app> --existing\n",
      "if this is the most recent Jupyter kernel you have started.\n"
     ]
    }
   ],
   "source": [
    "%reset -f\n",
    "%connect_info"
   ]
  },
  {
   "cell_type": "code",
   "execution_count": 2,
   "metadata": {},
   "outputs": [
    {
     "name": "stderr",
     "output_type": "stream",
     "text": [
      "2021-12-21 12:06:23.398988: W tensorflow/stream_executor/platform/default/dso_loader.cc:64] Could not load dynamic library 'libcudart.so.11.0'; dlerror: libcudart.so.11.0: cannot open shared object file: No such file or directory\n",
      "2021-12-21 12:06:23.399024: I tensorflow/stream_executor/cuda/cudart_stub.cc:29] Ignore above cudart dlerror if you do not have a GPU set up on your machine.\n"
     ]
    }
   ],
   "source": [
    "import numpy as np\n",
    "import tensorflow as tf\n",
    "import matplotlib.pyplot as plt\n",
    "import pandas as pd"
   ]
  },
  {
   "cell_type": "code",
   "execution_count": 3,
   "metadata": {},
   "outputs": [],
   "source": [
    "classes_values = ['beer',\n",
    "                  'coffee',\n",
    "                  'orange'\n",
    "                  ]"
   ]
  },
  {
   "cell_type": "code",
   "execution_count": 4,
   "metadata": {},
   "outputs": [],
   "source": [
    "#########################\n",
    "## set the paths and load data\n",
    "#########################\n",
    "path_base = \"/home/trix_arch/IIVspace/DataSc/\"+\\\n",
    "            \"DataCamp2021/DSR_B28_work/DSR28_portfolio_project/\"+\\\n",
    "            \"Measurements_n_Tests/GGS_arduino_readings/GGSv2I_complete/\"\n",
    "path_add_folder2readmodel = \"tf_models/\"\n",
    "model_filename = 'model_c5_n36d02n24d02_mk1'"
   ]
  },
  {
   "cell_type": "code",
   "execution_count": 5,
   "metadata": {},
   "outputs": [
    {
     "name": "stderr",
     "output_type": "stream",
     "text": [
      "2021-12-21 12:06:26.020792: W tensorflow/stream_executor/platform/default/dso_loader.cc:64] Could not load dynamic library 'libcuda.so.1'; dlerror: libcuda.so.1: cannot open shared object file: No such file or directory\n",
      "2021-12-21 12:06:26.020864: W tensorflow/stream_executor/cuda/cuda_driver.cc:269] failed call to cuInit: UNKNOWN ERROR (303)\n",
      "2021-12-21 12:06:26.020890: I tensorflow/stream_executor/cuda/cuda_diagnostics.cc:156] kernel driver does not appear to be running on this host (ASTRAxfce): /proc/driver/nvidia/version does not exist\n"
     ]
    },
    {
     "name": "stdout",
     "output_type": "stream",
     "text": [
      "Model: \"sequential_3\"\n",
      "_________________________________________________________________\n",
      "Layer (type)                 Output Shape              Param #   \n",
      "=================================================================\n",
      "dense_6 (Dense)              (None, 36)                252       \n",
      "_________________________________________________________________\n",
      "dropout_6 (Dropout)          (None, 36)                0         \n",
      "_________________________________________________________________\n",
      "dense_7 (Dense)              (None, 24)                888       \n",
      "_________________________________________________________________\n",
      "dropout_7 (Dropout)          (None, 24)                0         \n",
      "_________________________________________________________________\n",
      "y_pred (Dense)               (None, 3)                 75        \n",
      "=================================================================\n",
      "Total params: 1,215\n",
      "Trainable params: 1,215\n",
      "Non-trainable params: 0\n",
      "_________________________________________________________________\n"
     ]
    }
   ],
   "source": [
    "#########################\n",
    "## Load into a new model\n",
    "#########################\n",
    "model_ff = tf.keras.models.load_model((path_base + path_add_folder2readmodel + model_filename))\n",
    "\n",
    "# Check its architecture\n",
    "model_ff.summary()"
   ]
  },
  {
   "cell_type": "code",
   "execution_count": 12,
   "metadata": {},
   "outputs": [
    {
     "data": {
      "text/plain": [
       "array([[3.3993344e-22, 6.1197325e-10, 1.0000000e+00]], dtype=float32)"
      ]
     },
     "execution_count": 12,
     "metadata": {},
     "output_type": "execute_result"
    }
   ],
   "source": [
    "#########################\n",
    "## Lets predict\n",
    "#########################\n",
    "#### The values are taken from \"classification_tf_train_model1_01.ipynb\"\n",
    "\n",
    "# Values_Train: [[728 642 540 210  25  34]]\n",
    "# Label_Train:  [[0. 1. 0.]]\n",
    "# Label_Text:   [['coffee']]\n",
    "data2predictArr = np.array([[728, 642, 540, 210,  25,  34]])\n",
    "\n",
    "# Values_Test: [[548 153 514 318  25  34]]\n",
    "# Label_Test:  [[1. 0. 0.]]\n",
    "# Label_Text:   [['beer']]\n",
    "data2predictArr = np.array([[ 548, 153, 514, 318 , 25 , 34]])\n",
    "\n",
    "# Values_Test: [[900 372 804 359  26  33]]\n",
    "# Label_Test:  [[0. 0. 1.]]\n",
    "# Label_Text:   [['orange']]\n",
    "data2predictArr = np.array([[ 900, 372, 804, 359,  26,  33]])\n",
    "\n",
    "predictionN = model_ff.predict(data2predictArr)\n",
    "predictionN"
   ]
  },
  {
   "cell_type": "code",
   "execution_count": 13,
   "metadata": {},
   "outputs": [
    {
     "data": {
      "image/png": "[encoded data removed]",
      "text/plain": [
       "<Figure size 432x360 with 1 Axes>"
      ]
     },
     "metadata": {
      "needs_background": "light"
     },
     "output_type": "display_data"
    }
   ],
   "source": [
    "fig = plt.figure(figsize=(6, 5))\n",
    "plt.barh(classes_values, predictionN.tolist()[0])\n",
    "for index, value in zip(classes_values, predictionN.tolist()[0]):\n",
    "    plt.text(0.7, index, str(round(value, 5)))\n",
    "    # plt.text(value, index, str(value))\n",
    "plt.tick_params(axis='x', colors='red')\n",
    "plt.tick_params(axis='y', colors='red')\n",
    "plt.grid()\n",
    "plt.show()"
   ]
  },
  {
   "cell_type": "code",
   "execution_count": null,
   "metadata": {},
   "outputs": [],
   "source": []
  }
 ],
 "metadata": {
  "kernelspec": {
   "display_name": "pyAIsense_env",
   "language": "python",
   "name": "pyaisense"
  },
  "language_info": {
   "codemirror_mode": {
    "name": "ipython",
    "version": 3
   },
   "file_extension": ".py",
   "mimetype": "text/x-python",
   "name": "python",
   "nbconvert_exporter": "python",
   "pygments_lexer": "ipython3",
   "version": "3.9.7"
  }
 },
 "nbformat": 4,
 "nbformat_minor": 4
}
