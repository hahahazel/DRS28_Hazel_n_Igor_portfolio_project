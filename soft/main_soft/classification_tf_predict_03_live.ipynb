{
 "cells": [
  {
   "cell_type": "code",
   "execution_count": 188,
   "metadata": {},
   "outputs": [
    {
     "name": "stderr",
     "output_type": "stream",
     "text": [
      "\r",
      "100%|███████████████████████████████████████████████████████████████████████| 500/500 [01:12<00:00,  6.85it/s]"
     ]
    },
    {
     "name": "stdout",
     "output_type": "stream",
     "text": [
      "{\n",
      "  \"shell_port\": 36083,\n",
      "  \"iopub_port\": 60927,\n",
      "  \"stdin_port\": 40357,\n",
      "  \"control_port\": 35243,\n",
      "  \"hb_port\": 43457,\n",
      "  \"ip\": \"127.0.0.1\",\n",
      "  \"key\": \"2caae89e-f474266c4c4bb6da23630d98\",\n",
      "  \"transport\": \"tcp\",\n",
      "  \"signature_scheme\": \"hmac-sha256\",\n",
      "  \"kernel_name\": \"\"\n",
      "}\n",
      "\n",
      "Paste the above JSON into a file, and connect with:\n",
      "    $> jupyter <app> --existing <file>\n",
      "or, if you are local, you can connect with just:\n",
      "    $> jupyter <app> --existing kernel-3256413f-4fbf-4be8-86f7-947e898fd2ab.json\n",
      "or even just:\n",
      "    $> jupyter <app> --existing\n",
      "if this is the most recent Jupyter kernel you have started.\n"
     ]
    },
    {
     "name": "stderr",
     "output_type": "stream",
     "text": [
      "\n"
     ]
    }
   ],
   "source": [
    "%reset -f\n",
    "%connect_info"
   ]
  },
  {
   "cell_type": "code",
   "execution_count": 189,
   "metadata": {},
   "outputs": [],
   "source": [
    "import numpy as np\n",
    "import tensorflow as tf\n",
    "import matplotlib.pyplot as plt\n",
    "import pandas as pd\n",
    "import serial\n",
    "import time\n",
    "from tqdm import tqdm # progressbar in for loop\n",
    "from collections import Counter # to sum dict values up\n",
    "from datetime import datetime\n",
    "import os"
   ]
  },
  {
   "cell_type": "code",
   "execution_count": 190,
   "metadata": {},
   "outputs": [],
   "source": [
    "classes_values = ['beer',\n",
    "                  'coffee',\n",
    "                  'orange'\n",
    "                  ]"
   ]
  },
  {
   "cell_type": "code",
   "execution_count": 191,
   "metadata": {},
   "outputs": [],
   "source": [
    "#########################\n",
    "## set the paths and load data\n",
    "#########################\n",
    "path_base = \"/home/trix_arch/IIVspace/DataSc/\"+\\\n",
    "            \"DataCamp2021/DSR_B28_work/DSR28_portfolio_project/\"+\\\n",
    "            \"Measurements_n_Tests/GGS_arduino_readings/GGSv2I_complete/\"\n",
    "path_add_folder2readmodel = \"tf_models/\"\n",
    "model_filename = 'model_c5_n36d02n24d02_mk1'"
   ]
  },
  {
   "cell_type": "code",
   "execution_count": 192,
   "metadata": {},
   "outputs": [
    {
     "name": "stdout",
     "output_type": "stream",
     "text": [
      "Model: \"sequential_3\"\n",
      "_________________________________________________________________\n",
      "Layer (type)                 Output Shape              Param #   \n",
      "=================================================================\n",
      "dense_6 (Dense)              (None, 36)                252       \n",
      "_________________________________________________________________\n",
      "dropout_6 (Dropout)          (None, 36)                0         \n",
      "_________________________________________________________________\n",
      "dense_7 (Dense)              (None, 24)                888       \n",
      "_________________________________________________________________\n",
      "dropout_7 (Dropout)          (None, 24)                0         \n",
      "_________________________________________________________________\n",
      "y_pred (Dense)               (None, 3)                 75        \n",
      "=================================================================\n",
      "Total params: 1,215\n",
      "Trainable params: 1,215\n",
      "Non-trainable params: 0\n",
      "_________________________________________________________________\n"
     ]
    }
   ],
   "source": [
    "#########################\n",
    "## Load into a new model\n",
    "#########################\n",
    "model_ff = tf.keras.models.load_model((path_base + path_add_folder2readmodel + model_filename))\n",
    "\n",
    "# Check its architecture\n",
    "model_ff.summary()"
   ]
  },
  {
   "cell_type": "code",
   "execution_count": 193,
   "metadata": {},
   "outputs": [
    {
     "data": {
      "text/plain": [
       "array([[1.0000000e+00, 3.6632976e-28, 1.0758644e-14]], dtype=float32)"
      ]
     },
     "execution_count": 193,
     "metadata": {},
     "output_type": "execute_result"
    }
   ],
   "source": [
    "#########################\n",
    "## Lets predict\n",
    "#########################\n",
    "#### The values are taken from \"classification_tf_train_model1_01.ipynb\"\n",
    "\n",
    "# Values_Train: [[64. 15. 64. 93. 15. 66.]]\n",
    "# Label_Train:  [[0. 0. 0. 0. 1. 0. 0. 0. 0. 0. 0. 0. 0.]]\n",
    "# Label_Text:   [['cheese']]\n",
    "data2predictArr = np.array([[64, 15, 64, 93, 15, 66]])\n",
    "\n",
    "# Values_Train: [[ 82.  27.  70. 106.  22.  56.]]\n",
    "# Label_Train:  [[0. 0. 0. 1. 0. 0. 0. 0. 0. 0. 0. 0. 0.]]\n",
    "# Label_Text:   [['carrot']]\n",
    "# data2predictArr = np.array([[ 82,  27,  70, 106,  22,  56]])\n",
    "    \n",
    "# Values_Test: [[ 60.  32. 154. 288.  25.  45.]]\n",
    "# Label_Test:  [[0. 1. 0. 0. 0. 0. 0. 0. 0. 0. 0. 0. 0.]]\n",
    "# Label_Text:   [['beer']]    \n",
    "# data2predictArr = np.array([[ 60,  32, 154, 288,  25,  45]])    \n",
    "\n",
    "# Values_Test: [[62. 33. 90. 91. 22. 60.]]\n",
    "# Label_Test:  [[0. 0. 0. 0. 0. 0. 0. 0. 0. 0. 0. 1. 0.]]\n",
    "# Label_Text:   [['sprite']]\n",
    "# data2predictArr = np.array([[62, 33, 90, 91, 22, 60]])\n",
    "\n",
    "predictionN = model_ff.predict(data2predictArr)\n",
    "predictionN"
   ]
  },
  {
   "cell_type": "code",
   "execution_count": 194,
   "metadata": {},
   "outputs": [
    {
     "data": {
      "text/plain": [
       "6"
      ]
     },
     "execution_count": 194,
     "metadata": {},
     "output_type": "execute_result"
    }
   ],
   "source": [
    "data2predictArr.size"
   ]
  },
  {
   "cell_type": "code",
   "execution_count": 195,
   "metadata": {},
   "outputs": [],
   "source": [
    "# fig = plt.figure(figsize=(6, 5))\n",
    "# plt.barh(classes_values, predictionN.tolist()[0])\n",
    "# for index, value in zip(classes_values, predictionN.tolist()[0]):\n",
    "#     plt.text(0.7, index, str(round(value, 5)))\n",
    "#     # plt.text(value, index, str(value))\n",
    "# plt.tick_params(axis='x', colors='red')\n",
    "# plt.tick_params(axis='y', colors='red')\n",
    "# plt.grid()\n",
    "# plt.show()"
   ]
  },
  {
   "cell_type": "code",
   "execution_count": 196,
   "metadata": {
    "scrolled": true
   },
   "outputs": [
    {
     "name": "stderr",
     "output_type": "stream",
     "text": [
      "  0%|                                                                                 | 0/500 [00:00<?, ?it/s]\n",
      "  0%|                                                                                  | 0/10 [00:00<?, ?it/s]\u001b[A\n",
      " 90%|██████████████████████████████████████████████████████████████████▌       | 9/10 [00:00<00:00,  9.51it/s]\u001b[A\n",
      "100%|█████████████████████████████████████████████████████████████████████████| 10/10 [00:01<00:00,  9.26it/s]\u001b[A\n",
      "100%|███████████████████████████████████████████████████████████████████████| 500/500 [01:06<00:00,  7.70it/s]"
     ]
    },
    {
     "data": {
      "text/html": [
       "<div>\n",
       "<style scoped>\n",
       "    .dataframe tbody tr th:only-of-type {\n",
       "        vertical-align: middle;\n",
       "    }\n",
       "\n",
       "    .dataframe tbody tr th {\n",
       "        vertical-align: top;\n",
       "    }\n",
       "\n",
       "    .dataframe thead th {\n",
       "        text-align: right;\n",
       "    }\n",
       "</style>\n",
       "<table border=\"1\" class=\"dataframe\">\n",
       "  <thead>\n",
       "    <tr style=\"text-align: right;\">\n",
       "      <th></th>\n",
       "      <th>time_ms</th>\n",
       "      <th>B102NO2</th>\n",
       "      <th>B302C2H5OH</th>\n",
       "      <th>B502VOC</th>\n",
       "      <th>B702CO</th>\n",
       "      <th>TdegC</th>\n",
       "      <th>RH</th>\n",
       "    </tr>\n",
       "  </thead>\n",
       "  <tbody>\n",
       "    <tr>\n",
       "      <th>0</th>\n",
       "      <td>1217</td>\n",
       "      <td>741</td>\n",
       "      <td>407</td>\n",
       "      <td>522</td>\n",
       "      <td>156</td>\n",
       "      <td>24</td>\n",
       "      <td>33</td>\n",
       "    </tr>\n",
       "    <tr>\n",
       "      <th>1</th>\n",
       "      <td>1348</td>\n",
       "      <td>741</td>\n",
       "      <td>407</td>\n",
       "      <td>522</td>\n",
       "      <td>156</td>\n",
       "      <td>24</td>\n",
       "      <td>33</td>\n",
       "    </tr>\n",
       "    <tr>\n",
       "      <th>2</th>\n",
       "      <td>1479</td>\n",
       "      <td>741</td>\n",
       "      <td>407</td>\n",
       "      <td>522</td>\n",
       "      <td>156</td>\n",
       "      <td>24</td>\n",
       "      <td>33</td>\n",
       "    </tr>\n",
       "    <tr>\n",
       "      <th>3</th>\n",
       "      <td>1610</td>\n",
       "      <td>741</td>\n",
       "      <td>407</td>\n",
       "      <td>522</td>\n",
       "      <td>156</td>\n",
       "      <td>24</td>\n",
       "      <td>33</td>\n",
       "    </tr>\n",
       "    <tr>\n",
       "      <th>4</th>\n",
       "      <td>1737</td>\n",
       "      <td>741</td>\n",
       "      <td>408</td>\n",
       "      <td>522</td>\n",
       "      <td>156</td>\n",
       "      <td>24</td>\n",
       "      <td>33</td>\n",
       "    </tr>\n",
       "    <tr>\n",
       "      <th>...</th>\n",
       "      <td>...</td>\n",
       "      <td>...</td>\n",
       "      <td>...</td>\n",
       "      <td>...</td>\n",
       "      <td>...</td>\n",
       "      <td>...</td>\n",
       "      <td>...</td>\n",
       "    </tr>\n",
       "    <tr>\n",
       "      <th>495</th>\n",
       "      <td>66075</td>\n",
       "      <td>760</td>\n",
       "      <td>504</td>\n",
       "      <td>533</td>\n",
       "      <td>178</td>\n",
       "      <td>24</td>\n",
       "      <td>33</td>\n",
       "    </tr>\n",
       "    <tr>\n",
       "      <th>496</th>\n",
       "      <td>66206</td>\n",
       "      <td>760</td>\n",
       "      <td>504</td>\n",
       "      <td>533</td>\n",
       "      <td>178</td>\n",
       "      <td>24</td>\n",
       "      <td>33</td>\n",
       "    </tr>\n",
       "    <tr>\n",
       "      <th>497</th>\n",
       "      <td>66337</td>\n",
       "      <td>760</td>\n",
       "      <td>505</td>\n",
       "      <td>533</td>\n",
       "      <td>178</td>\n",
       "      <td>24</td>\n",
       "      <td>33</td>\n",
       "    </tr>\n",
       "    <tr>\n",
       "      <th>498</th>\n",
       "      <td>66468</td>\n",
       "      <td>760</td>\n",
       "      <td>505</td>\n",
       "      <td>533</td>\n",
       "      <td>178</td>\n",
       "      <td>24</td>\n",
       "      <td>33</td>\n",
       "    </tr>\n",
       "    <tr>\n",
       "      <th>499</th>\n",
       "      <td>66595</td>\n",
       "      <td>760</td>\n",
       "      <td>505</td>\n",
       "      <td>533</td>\n",
       "      <td>178</td>\n",
       "      <td>24</td>\n",
       "      <td>33</td>\n",
       "    </tr>\n",
       "  </tbody>\n",
       "</table>\n",
       "<p>500 rows × 7 columns</p>\n",
       "</div>"
      ],
      "text/plain": [
       "     time_ms  B102NO2  B302C2H5OH  B502VOC  B702CO  TdegC  RH\n",
       "0       1217      741         407      522     156     24  33\n",
       "1       1348      741         407      522     156     24  33\n",
       "2       1479      741         407      522     156     24  33\n",
       "3       1610      741         407      522     156     24  33\n",
       "4       1737      741         408      522     156     24  33\n",
       "..       ...      ...         ...      ...     ...    ...  ..\n",
       "495    66075      760         504      533     178     24  33\n",
       "496    66206      760         504      533     178     24  33\n",
       "497    66337      760         505      533     178     24  33\n",
       "498    66468      760         505      533     178     24  33\n",
       "499    66595      760         505      533     178     24  33\n",
       "\n",
       "[500 rows x 7 columns]"
      ]
     },
     "execution_count": 196,
     "metadata": {},
     "output_type": "execute_result"
    }
   ],
   "source": [
    "#########################\n",
    "## Live predict\n",
    "#########################\n",
    "N_of_readings = 500 #10Hz=100ms : 10 -> 1sec\n",
    "\n",
    "serial_port = '/dev/ttyACM0'\n",
    "baud_rate = 9600\n",
    "\n",
    "\n",
    "pbar = tqdm(total=N_of_readings)\n",
    "GGS_list = []\n",
    "init_time = round(time.time(),3)*1000\n",
    "\n",
    "\n",
    "    \n",
    "with serial.Serial(serial_port, baud_rate) as ser:\n",
    "    for cc1 in tqdm(range(10)):\n",
    "        line_z = ser.readline();\n",
    "        line_dec_z = line_z.decode(\"utf-8\")\n",
    "        \n",
    "    while len(GGS_list) < N_of_readings:\n",
    "        line = ser.readline();\n",
    "        line_dec = line.decode(\"utf-8\") #ser.readline returns a binary, convert to string\n",
    "        lst0 = line_dec.split(\",\")\n",
    "        lst1 = [int(x) for x in lst0]\n",
    "        if len(lst1)==6:\n",
    "            GGS_list += [[int(round(time.time(),3)*1000-init_time)] + lst1]\n",
    "            pbar.update(1)\n",
    "#             print(line_dec);\n",
    "\n",
    "GGS_df = pd.DataFrame(GGS_list, columns=[\"time_ms\", \"B102NO2\", \"B302C2H5OH\", \"B502VOC\", \"B702CO\", \"TdegC\", \"RH\"])\n",
    "GGS_df"
   ]
  },
  {
   "cell_type": "code",
   "execution_count": 197,
   "metadata": {},
   "outputs": [
    {
     "data": {
      "text/plain": [
       "False"
      ]
     },
     "execution_count": 197,
     "metadata": {},
     "output_type": "execute_result"
    }
   ],
   "source": [
    "GGS_df.shape == (50,7)"
   ]
  },
  {
   "cell_type": "code",
   "execution_count": 198,
   "metadata": {},
   "outputs": [
    {
     "data": {
      "image/png": "[encoded data removed]",
      "text/plain": [
       "<Figure size 432x288 with 1 Axes>"
      ]
     },
     "metadata": {
      "needs_background": "light"
     },
     "output_type": "display_data"
    }
   ],
   "source": [
    "plt.plot(GGS_df.time_ms, GGS_df.iloc[:,1:7])\n",
    "plt.legend(GGS_df.iloc[:,1:7].columns.to_list())\n",
    "plt.tick_params(axis='x', colors='red')\n",
    "plt.tick_params(axis='y', colors='red')\n",
    "plt.grid()"
   ]
  },
  {
   "cell_type": "code",
   "execution_count": 199,
   "metadata": {
    "scrolled": true
   },
   "outputs": [
    {
     "name": "stdout",
     "output_type": "stream",
     "text": [
      "[[4.7007073e-38 1.2679881e-04 9.9987316e-01]\n",
      " [4.7007073e-38 1.2679881e-04 9.9987316e-01]\n",
      " [4.7007073e-38 1.2679881e-04 9.9987316e-01]\n",
      " ...\n",
      " [0.0000000e+00 1.0000000e+00 8.7834992e-14]\n",
      " [0.0000000e+00 1.0000000e+00 8.7834999e-14]\n",
      " [0.0000000e+00 1.0000000e+00 8.7834999e-14]]\n",
      "[1.9941834e-38 7.6822740e-01 2.3177257e-01]\n"
     ]
    }
   ],
   "source": [
    "data2predictArr = GGS_df.iloc[:,1:].to_numpy()\n",
    "data2predictArr.shape=(data2predictArr.shape[0],6)\n",
    "predictionN = model_ff.predict(data2predictArr)\n",
    "print(predictionN)\n",
    "data2predictArrAver = predictionN.mean(axis=0)\n",
    "print(data2predictArrAver)"
   ]
  },
  {
   "cell_type": "code",
   "execution_count": 200,
   "metadata": {
    "scrolled": false
   },
   "outputs": [
    {
     "data": {
      "image/png": "[encoded data removed]",
      "text/plain": [
       "<Figure size 432x360 with 1 Axes>"
      ]
     },
     "metadata": {
      "needs_background": "light"
     },
     "output_type": "display_data"
    }
   ],
   "source": [
    "fig = plt.figure(figsize=(6, 5))\n",
    "plt.barh(classes_values, data2predictArrAver.tolist())\n",
    "for index, value in zip(classes_values, predictionN.tolist()[0]):\n",
    "    plt.text(0.7, index, str(round(value, 5)))\n",
    "    # plt.text(value, index, str(value))\n",
    "plt.tick_params(axis='x', colors='red')\n",
    "plt.tick_params(axis='y', colors='red')\n",
    "plt.grid()\n",
    "plt.show()"
   ]
  },
  {
   "cell_type": "code",
   "execution_count": null,
   "metadata": {},
   "outputs": [],
   "source": []
  }
 ],
 "metadata": {
  "kernelspec": {
   "display_name": "pyAIsense_env",
   "language": "python",
   "name": "pyaisense"
  },
  "language_info": {
   "codemirror_mode": {
    "name": "ipython",
    "version": 3
   },
   "file_extension": ".py",
   "mimetype": "text/x-python",
   "name": "python",
   "nbconvert_exporter": "python",
   "pygments_lexer": "ipython3",
   "version": "3.9.7"
  }
 },
 "nbformat": 4,
 "nbformat_minor": 4
}
