{
 "cells": [
  {
   "cell_type": "code",
   "execution_count": null,
   "id": "da05cee5",
   "metadata": {
    "scrolled": true
   },
   "outputs": [],
   "source": [
    "## environment preparation\n",
    "##============================\n",
    "%reset -f\n",
    "%connect_info #might be used for \"jupyter-console\""
   ]
  },
  {
   "cell_type": "code",
   "execution_count": null,
   "id": "591b7a43",
   "metadata": {},
   "outputs": [],
   "source": [
    "## Import libraries\n",
    "##============================\n",
    "\n",
    "import matplotlib.pyplot as plt\n",
    "import pandas as pd\n",
    "import os"
   ]
  },
  {
   "cell_type": "code",
   "execution_count": null,
   "id": "6552c417",
   "metadata": {},
   "outputs": [],
   "source": [
    "## Change to the directory with data\n",
    "##============================\n",
    "\n",
    "#Change the directory here:\n",
    "dir_data = \"demo_run/\"\n",
    "\n",
    "path_ipynb = os.getcwd()\n",
    "path_base = path_ipynb + '/../../data/readback/'\n",
    "pathW = path_base + dir_data\n",
    "os.chdir(pathW)\n",
    "print(os.getcwd())\n",
    "\n",
    "files_list = os.listdir(pathW)\n",
    "files_list.sort()"
   ]
  },
  {
   "cell_type": "code",
   "execution_count": null,
   "id": "3e2f5c72",
   "metadata": {},
   "outputs": [],
   "source": [
    "## Lets see the files with data\n",
    "##============================\n",
    "\n",
    "files_list"
   ]
  },
  {
   "cell_type": "code",
   "execution_count": null,
   "id": "d6de051c",
   "metadata": {},
   "outputs": [],
   "source": [
    "## Aggregate data from different \n",
    "## files into a single DataFrame\n",
    "##============================\n",
    "\n",
    "Xdf = pd.DataFrame([], columns=[\"time_ms\", \n",
    "                                \"B102NO2\", \"B302C2H5OH\", \"B502VOC\", \"B702CO\", \n",
    "                                \"TdegC\", \"RH\", \n",
    "                                \"label\", \"add_label\", \"condition\"])\n",
    "\n",
    "for fileN in files_list:\n",
    "    file_info = fileN.split(\"_\")\n",
    "    label_c = file_info[0]\n",
    "    add_label_c = file_info[1]\n",
    "    condition_c = file_info[2]\n",
    "    \n",
    "    df_c = pd.read_csv(fileN)\n",
    "    \n",
    "    feature_add_dict = {\n",
    "        \"label\": label_c,\n",
    "        \"add_label\": add_label_c,\n",
    "        \"condition\": condition_c,\n",
    "    } \n",
    "    df_c_upd = pd.concat([df_c, pd.DataFrame(feature_add_dict, index=df_c.index)], axis=1)\n",
    "    Xdf = pd.concat([Xdf, df_c_upd], axis=0)\n"
   ]
  },
  {
   "cell_type": "code",
   "execution_count": null,
   "id": "e3c3e1f5",
   "metadata": {
    "scrolled": true
   },
   "outputs": [],
   "source": [
    "## Lets see the DataFrame\n",
    "##============================\n",
    "\n",
    "Xdf.head()"
   ]
  },
  {
   "cell_type": "code",
   "execution_count": null,
   "id": "070ee01a",
   "metadata": {},
   "outputs": [],
   "source": [
    "## The labels we have\n",
    "##============================\n",
    "\n",
    "Xdf.label.unique().tolist()"
   ]
  },
  {
   "cell_type": "code",
   "execution_count": null,
   "id": "f2c2c4ea",
   "metadata": {},
   "outputs": [],
   "source": [
    "## Aggregate labels to make plots\n",
    "##============================\n",
    "\n",
    "Xdf[\"label_label\"] = Xdf[[\"label\",\"add_label\"]]\\\n",
    "                        .agg(\"_\".join, axis=1)\\\n",
    "                        .replace(\"[0-9]\", \"\", regex=True)"
   ]
  },
  {
   "cell_type": "code",
   "execution_count": null,
   "id": "ac135536",
   "metadata": {},
   "outputs": [],
   "source": [
    "## See a sample of it\n",
    "##============================\n",
    "\n",
    "Xdf.sample()"
   ]
  },
  {
   "cell_type": "code",
   "execution_count": null,
   "id": "0adfb79d",
   "metadata": {
    "scrolled": false
   },
   "outputs": [],
   "source": [
    "## Plot the data\n",
    "##============================\n",
    "\n",
    "labels = Xdf.label_label.unique().tolist()\n",
    "conditions = Xdf.condition.unique().tolist()\n",
    "figure_scale = 1\n",
    "plt.figure(figsize=(figure_scale*15, figure_scale*len(labels)*4))\n",
    "plot_c = 0\n",
    "\n",
    "for label_c in labels:\n",
    "    for condition_c in conditions:\n",
    "        Xplot = Xdf.loc[\n",
    "            (Xdf.label_label==label_c) & (Xdf.condition==condition_c),\n",
    "            :]\n",
    "        plot_c += 1\n",
    "        plt.subplot(len(labels), len(conditions), plot_c)\n",
    "        plt.plot(Xplot.time_ms, Xplot.iloc[:,1:7], '.')\n",
    "        plt.legend(Xplot.iloc[:,1:7].columns.to_list())\n",
    "        plt.title(\" \".join([label_c, condition_c]), color=\"red\")\n",
    "        plt.tick_params(axis='x', colors='red')\n",
    "        plt.tick_params(axis='y', colors='red')\n",
    "        plt.grid()"
   ]
  }
 ],
 "metadata": {
  "kernelspec": {
   "display_name": "pyAIsense_env",
   "language": "python",
   "name": "pyaisense"
  },
  "language_info": {
   "codemirror_mode": {
    "name": "ipython",
    "version": 3
   },
   "file_extension": ".py",
   "mimetype": "text/x-python",
   "name": "python",
   "nbconvert_exporter": "python",
   "pygments_lexer": "ipython3",
   "version": "3.9.7"
  }
 },
 "nbformat": 4,
 "nbformat_minor": 5
}
