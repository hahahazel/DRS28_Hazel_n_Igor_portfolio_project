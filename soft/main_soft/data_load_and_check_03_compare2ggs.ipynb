{
 "cells": [
  {
   "cell_type": "code",
   "execution_count": 1,
   "id": "da05cee5",
   "metadata": {},
   "outputs": [],
   "source": [
    "%reset -f"
   ]
  },
  {
   "cell_type": "code",
   "execution_count": 2,
   "id": "076e4879",
   "metadata": {},
   "outputs": [
    {
     "name": "stdout",
     "output_type": "stream",
     "text": [
      "{\n",
      "  \"shell_port\": 44337,\n",
      "  \"iopub_port\": 50163,\n",
      "  \"stdin_port\": 36207,\n",
      "  \"control_port\": 36911,\n",
      "  \"hb_port\": 34099,\n",
      "  \"ip\": \"127.0.0.1\",\n",
      "  \"key\": \"07503706-7653cb2fe8c88c88e5f66cc3\",\n",
      "  \"transport\": \"tcp\",\n",
      "  \"signature_scheme\": \"hmac-sha256\",\n",
      "  \"kernel_name\": \"\"\n",
      "}\n",
      "\n",
      "Paste the above JSON into a file, and connect with:\n",
      "    $> jupyter <app> --existing <file>\n",
      "or, if you are local, you can connect with just:\n",
      "    $> jupyter <app> --existing kernel-c55dbc09-590d-4434-9b75-4b1524816c8c.json\n",
      "or even just:\n",
      "    $> jupyter <app> --existing\n",
      "if this is the most recent Jupyter kernel you have started.\n"
     ]
    }
   ],
   "source": [
    "%connect_info"
   ]
  },
  {
   "cell_type": "code",
   "execution_count": 3,
   "id": "591b7a43",
   "metadata": {},
   "outputs": [],
   "source": [
    "import matplotlib.pyplot as plt\n",
    "import numpy as np\n",
    "import pandas as pd\n",
    "import os\n",
    "import itertools"
   ]
  },
  {
   "cell_type": "code",
   "execution_count": 4,
   "id": "93da9d2f",
   "metadata": {},
   "outputs": [],
   "source": [
    "# path_base = \"/home/trix_arch/IIVspace/DataSc/DataCamp2021/DSR_B28_work/\"+\\\n",
    "\n",
    "\n",
    "path_base = \"/home/pine64/IgorD\"+\\\n",
    "            \"/DSR28_portfolio_project\"+\\\n",
    "            \"/Measurements_n_Tests/GGS_arduino_readings/GGSv2I_complete\"\n",
    "path_add = \"/run3_two_sensors/\"\n",
    "filename_to_load_H = \"ggsH_lemon_20211221_083211.csv\"\n",
    "filename_to_load_I = \"ggsI_lemon_20211221_083211.csv\"\n",
    "\n",
    "Xdf_H = pd.read_csv(path_base + path_add + filename_to_load_H, \n",
    "                 dtype={'time_ms': np.int64,\n",
    "                        'B102NO2': np.float32,\n",
    "                        'B302C2H5OH': np.float32,\n",
    "                        'B502VOC': np.float32,\n",
    "                        'B702CO': np.float32,\n",
    "                        'TdegC': np.float32,\n",
    "                        'RH': np.float32\n",
    "                       })\n",
    "\n",
    "Xdf_I = pd.read_csv(path_base + path_add + filename_to_load_I, \n",
    "                 dtype={'time_ms': np.int64,\n",
    "                        'B102NO2': np.float32,\n",
    "                        'B302C2H5OH': np.float32,\n",
    "                        'B502VOC': np.float32,\n",
    "                        'B702CO': np.float32,\n",
    "                        'TdegC': np.float32,\n",
    "                        'RH': np.float32\n",
    "                       })"
   ]
  },
  {
   "cell_type": "code",
   "execution_count": 5,
   "id": "e3c3e1f5",
   "metadata": {
    "scrolled": true
   },
   "outputs": [
    {
     "data": {
      "text/html": [
       "<div>\n",
       "<style scoped>\n",
       "    .dataframe tbody tr th:only-of-type {\n",
       "        vertical-align: middle;\n",
       "    }\n",
       "\n",
       "    .dataframe tbody tr th {\n",
       "        vertical-align: top;\n",
       "    }\n",
       "\n",
       "    .dataframe thead th {\n",
       "        text-align: right;\n",
       "    }\n",
       "</style>\n",
       "<table border=\"1\" class=\"dataframe\">\n",
       "  <thead>\n",
       "    <tr style=\"text-align: right;\">\n",
       "      <th></th>\n",
       "      <th>time_ms</th>\n",
       "      <th>B102NO2</th>\n",
       "      <th>B302C2H5OH</th>\n",
       "      <th>B502VOC</th>\n",
       "      <th>B702CO</th>\n",
       "      <th>TdegC</th>\n",
       "      <th>RH</th>\n",
       "    </tr>\n",
       "  </thead>\n",
       "  <tbody>\n",
       "    <tr>\n",
       "      <th>0</th>\n",
       "      <td>1995</td>\n",
       "      <td>628.0</td>\n",
       "      <td>377.0</td>\n",
       "      <td>487.0</td>\n",
       "      <td>173.0</td>\n",
       "      <td>25.0</td>\n",
       "      <td>36.0</td>\n",
       "    </tr>\n",
       "    <tr>\n",
       "      <th>1</th>\n",
       "      <td>2122</td>\n",
       "      <td>628.0</td>\n",
       "      <td>377.0</td>\n",
       "      <td>487.0</td>\n",
       "      <td>173.0</td>\n",
       "      <td>25.0</td>\n",
       "      <td>36.0</td>\n",
       "    </tr>\n",
       "    <tr>\n",
       "      <th>2</th>\n",
       "      <td>2254</td>\n",
       "      <td>627.0</td>\n",
       "      <td>376.0</td>\n",
       "      <td>486.0</td>\n",
       "      <td>173.0</td>\n",
       "      <td>25.0</td>\n",
       "      <td>36.0</td>\n",
       "    </tr>\n",
       "    <tr>\n",
       "      <th>3</th>\n",
       "      <td>2385</td>\n",
       "      <td>627.0</td>\n",
       "      <td>376.0</td>\n",
       "      <td>487.0</td>\n",
       "      <td>172.0</td>\n",
       "      <td>25.0</td>\n",
       "      <td>36.0</td>\n",
       "    </tr>\n",
       "    <tr>\n",
       "      <th>4</th>\n",
       "      <td>2516</td>\n",
       "      <td>629.0</td>\n",
       "      <td>376.0</td>\n",
       "      <td>486.0</td>\n",
       "      <td>173.0</td>\n",
       "      <td>25.0</td>\n",
       "      <td>36.0</td>\n",
       "    </tr>\n",
       "  </tbody>\n",
       "</table>\n",
       "</div>"
      ],
      "text/plain": [
       "   time_ms  B102NO2  B302C2H5OH  B502VOC  B702CO  TdegC    RH\n",
       "0     1995    628.0       377.0    487.0   173.0   25.0  36.0\n",
       "1     2122    628.0       377.0    487.0   173.0   25.0  36.0\n",
       "2     2254    627.0       376.0    486.0   173.0   25.0  36.0\n",
       "3     2385    627.0       376.0    487.0   172.0   25.0  36.0\n",
       "4     2516    629.0       376.0    486.0   173.0   25.0  36.0"
      ]
     },
     "execution_count": 5,
     "metadata": {},
     "output_type": "execute_result"
    }
   ],
   "source": [
    "Xdf_H.head()"
   ]
  },
  {
   "cell_type": "code",
   "execution_count": 6,
   "id": "bd433e28",
   "metadata": {},
   "outputs": [
    {
     "data": {
      "text/html": [
       "<div>\n",
       "<style scoped>\n",
       "    .dataframe tbody tr th:only-of-type {\n",
       "        vertical-align: middle;\n",
       "    }\n",
       "\n",
       "    .dataframe tbody tr th {\n",
       "        vertical-align: top;\n",
       "    }\n",
       "\n",
       "    .dataframe thead th {\n",
       "        text-align: right;\n",
       "    }\n",
       "</style>\n",
       "<table border=\"1\" class=\"dataframe\">\n",
       "  <thead>\n",
       "    <tr style=\"text-align: right;\">\n",
       "      <th></th>\n",
       "      <th>time_ms</th>\n",
       "      <th>B102NO2</th>\n",
       "      <th>B302C2H5OH</th>\n",
       "      <th>B502VOC</th>\n",
       "      <th>B702CO</th>\n",
       "      <th>TdegC</th>\n",
       "      <th>RH</th>\n",
       "    </tr>\n",
       "  </thead>\n",
       "  <tbody>\n",
       "    <tr>\n",
       "      <th>0</th>\n",
       "      <td>1995</td>\n",
       "      <td>251.0</td>\n",
       "      <td>102.0</td>\n",
       "      <td>262.0</td>\n",
       "      <td>233.0</td>\n",
       "      <td>25.0</td>\n",
       "      <td>34.0</td>\n",
       "    </tr>\n",
       "    <tr>\n",
       "      <th>1</th>\n",
       "      <td>2122</td>\n",
       "      <td>251.0</td>\n",
       "      <td>102.0</td>\n",
       "      <td>262.0</td>\n",
       "      <td>231.0</td>\n",
       "      <td>25.0</td>\n",
       "      <td>34.0</td>\n",
       "    </tr>\n",
       "    <tr>\n",
       "      <th>2</th>\n",
       "      <td>2254</td>\n",
       "      <td>252.0</td>\n",
       "      <td>102.0</td>\n",
       "      <td>262.0</td>\n",
       "      <td>233.0</td>\n",
       "      <td>25.0</td>\n",
       "      <td>34.0</td>\n",
       "    </tr>\n",
       "    <tr>\n",
       "      <th>3</th>\n",
       "      <td>2385</td>\n",
       "      <td>252.0</td>\n",
       "      <td>101.0</td>\n",
       "      <td>262.0</td>\n",
       "      <td>233.0</td>\n",
       "      <td>25.0</td>\n",
       "      <td>34.0</td>\n",
       "    </tr>\n",
       "    <tr>\n",
       "      <th>4</th>\n",
       "      <td>2516</td>\n",
       "      <td>251.0</td>\n",
       "      <td>102.0</td>\n",
       "      <td>262.0</td>\n",
       "      <td>232.0</td>\n",
       "      <td>25.0</td>\n",
       "      <td>34.0</td>\n",
       "    </tr>\n",
       "  </tbody>\n",
       "</table>\n",
       "</div>"
      ],
      "text/plain": [
       "   time_ms  B102NO2  B302C2H5OH  B502VOC  B702CO  TdegC    RH\n",
       "0     1995    251.0       102.0    262.0   233.0   25.0  34.0\n",
       "1     2122    251.0       102.0    262.0   231.0   25.0  34.0\n",
       "2     2254    252.0       102.0    262.0   233.0   25.0  34.0\n",
       "3     2385    252.0       101.0    262.0   233.0   25.0  34.0\n",
       "4     2516    251.0       102.0    262.0   232.0   25.0  34.0"
      ]
     },
     "execution_count": 6,
     "metadata": {},
     "output_type": "execute_result"
    }
   ],
   "source": [
    "Xdf_I.head()"
   ]
  },
  {
   "cell_type": "code",
   "execution_count": null,
   "id": "acdb8f03",
   "metadata": {},
   "outputs": [],
   "source": []
  },
  {
   "cell_type": "code",
   "execution_count": 12,
   "id": "0adfb79d",
   "metadata": {
    "scrolled": false
   },
   "outputs": [
    {
     "data": {
      "image/png": "[encoded data removed]",
      "text/plain": [
       "<Figure size 1080x288 with 2 Axes>"
      ]
     },
     "metadata": {
      "needs_background": "light"
     },
     "output_type": "display_data"
    }
   ],
   "source": [
    "figure_scale = 1 # <=== parameter to tune\n",
    "plt.figure(figsize=(figure_scale*15, figure_scale*4))\n",
    "\n",
    "\n",
    "plt.subplot(1,2,1)\n",
    "plt.plot(Xdf_H.index, Xdf_H.iloc[:,1:7])\n",
    "plt.legend(Xdf_H.iloc[:,1:7].columns.to_list())\n",
    "plt.title(\"ggsH\", color=\"red\")\n",
    "plt.ylim((0,1000))\n",
    "plt.tick_params(axis='x', colors='red')\n",
    "plt.tick_params(axis='y', colors='red')\n",
    "plt.grid()\n",
    "\n",
    "plt.subplot(1,2,2)\n",
    "plt.plot(Xdf_I.index, Xdf_I.iloc[:,1:7])\n",
    "plt.legend(Xdf_I.iloc[:,1:7].columns.to_list())\n",
    "plt.title(\"ggsI\", color=\"red\")\n",
    "plt.ylim((0,400))\n",
    "plt.tick_params(axis='x', colors='red')\n",
    "plt.tick_params(axis='y', colors='red')\n",
    "plt.grid()"
   ]
  }
 ],
 "metadata": {
  "kernelspec": {
   "display_name": "Python 3 (ipykernel)",
   "language": "python",
   "name": "python3"
  },
  "language_info": {
   "codemirror_mode": {
    "name": "ipython",
    "version": 3
   },
   "file_extension": ".py",
   "mimetype": "text/x-python",
   "name": "python",
   "nbconvert_exporter": "python",
   "pygments_lexer": "ipython3",
   "version": "3.9.7"
  }
 },
 "nbformat": 4,
 "nbformat_minor": 5
}
