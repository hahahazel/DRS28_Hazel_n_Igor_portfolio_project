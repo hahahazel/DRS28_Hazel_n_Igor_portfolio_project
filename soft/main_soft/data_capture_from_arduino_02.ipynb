{
 "cells": [
  {
   "cell_type": "code",
   "execution_count": 30,
   "id": "5b3d715e",
   "metadata": {},
   "outputs": [
    {
     "name": "stderr",
     "output_type": "stream",
     "text": [
      "100%|█████████████████████████████████████████████████████████████████████| 1800/1800 [20:10<00:00,  1.49it/s]\n"
     ]
    }
   ],
   "source": [
    "%reset -f"
   ]
  },
  {
   "cell_type": "code",
   "execution_count": 31,
   "id": "c6c4ee13",
   "metadata": {},
   "outputs": [
    {
     "name": "stdout",
     "output_type": "stream",
     "text": [
      "{\n",
      "  \"shell_port\": 50863,\n",
      "  \"iopub_port\": 33267,\n",
      "  \"stdin_port\": 35729,\n",
      "  \"control_port\": 60513,\n",
      "  \"hb_port\": 45311,\n",
      "  \"ip\": \"127.0.0.1\",\n",
      "  \"key\": \"4fffaaf5-dc7488c80d01394be5126559\",\n",
      "  \"transport\": \"tcp\",\n",
      "  \"signature_scheme\": \"hmac-sha256\",\n",
      "  \"kernel_name\": \"\"\n",
      "}\n",
      "\n",
      "Paste the above JSON into a file, and connect with:\n",
      "    $> jupyter <app> --existing <file>\n",
      "or, if you are local, you can connect with just:\n",
      "    $> jupyter <app> --existing kernel-b318c94d-e574-42b3-80a2-be24cf34ad14.json\n",
      "or even just:\n",
      "    $> jupyter <app> --existing\n",
      "if this is the most recent Jupyter kernel you have started.\n"
     ]
    }
   ],
   "source": [
    "%connect_info"
   ]
  },
  {
   "cell_type": "code",
   "execution_count": 32,
   "id": "526141bc",
   "metadata": {},
   "outputs": [],
   "source": [
    "### check the status of the port\n",
    "# sudo ls -la /dev/ \n",
    "### must be 666=rw all\n",
    "# !groups trix_arch\n",
    "### must be group tty"
   ]
  },
  {
   "cell_type": "code",
   "execution_count": 33,
   "id": "3043e047",
   "metadata": {},
   "outputs": [],
   "source": [
    "### Use in terminal\n",
    "# sudo chmod 666 /dev/ttyACM0\n",
    "### or RUN here\n",
    "# !xfce4-terminal -e \"sudo chmod 666 /dev/ttyACM0 \""
   ]
  },
  {
   "cell_type": "code",
   "execution_count": 34,
   "id": "5112cc61",
   "metadata": {},
   "outputs": [],
   "source": [
    "##### Try this if previos cell does not work\n",
    "###-----------------------\n",
    "### Use in terminal\n",
    "# sudo usermod -a -G tty $USER\n",
    "### or RUN here\n",
    "# !xfce4-terminal -e \"sudo usermod -a -G tty $USER\""
   ]
  },
  {
   "cell_type": "code",
   "execution_count": 35,
   "id": "a44f6ec5",
   "metadata": {},
   "outputs": [],
   "source": [
    "#######################################################\n",
    "#######################################################\n",
    "\n",
    "# Reading is done from arduino Uno via post ttyACMO\n",
    "# The reading frequecny is 5Hz (200ms)\n",
    "# the 1st 7/10 samples should be thruwn away \n",
    "# bcoz of bad data format\n",
    "\n",
    "# for each reading change:\n",
    "#     dir_2_save = \"run0/\"\n",
    "#     label = \"sampleX\"\n",
    "#     add_label = \"1\"\n",
    "#     env_condition = \"room\"\n",
    "#     N_of_readings = 10 #=2sec\n",
    "\n",
    "#######################################################\n",
    "#######################################################"
   ]
  },
  {
   "cell_type": "code",
   "execution_count": 36,
   "id": "9dacfc11",
   "metadata": {},
   "outputs": [],
   "source": [
    "import serial\n",
    "from datetime import datetime\n",
    "import time\n",
    "import os\n",
    "from tqdm import tqdm\n",
    "import numpy as np\n",
    "import pandas as pd\n",
    "import matplotlib.pyplot as plt"
   ]
  },
  {
   "cell_type": "code",
   "execution_count": 37,
   "id": "8cd1eef3",
   "metadata": {},
   "outputs": [],
   "source": [
    "dir_2_save = \"run2_tests/\""
   ]
  },
  {
   "cell_type": "code",
   "execution_count": 38,
   "id": "13ef25e3",
   "metadata": {},
   "outputs": [],
   "source": [
    "# label = \"samplaX\"\n",
    "# add_label = \"1\"\n",
    "# env_condition = \"room\"\n",
    "# N_of_readings = 50 #5Hz=200ms : 10 -> 2sec\n",
    "\n",
    "### ALSO delay time.sleep() is added\n",
    "label = \"sample\"\n",
    "add_label = \"1\"\n",
    "env_condition = \"room_D\"\n",
    "N_of_readings = 60*10 #30min 1Hz"
   ]
  },
  {
   "cell_type": "code",
   "execution_count": 39,
   "id": "b29f13bd",
   "metadata": {},
   "outputs": [
    {
     "data": {
      "text/plain": [
       "'/home/igor_trix/IIVspace/DataSc/DataCamp2021/DSR_B28_work/DSR28_portfolio_project/Measurements_n_Tests/GGS_arduino_readings/GGSv2I_complete/run2_tests'"
      ]
     },
     "execution_count": 39,
     "metadata": {},
     "output_type": "execute_result"
    }
   ],
   "source": [
    "path_base = \"/home/trix_arch/IIVspace/DataSc/DataCamp2021/DSR_B28_work/DSR28_portfolio_project/Measurements_n_Tests/GGS_arduino_readings/GGSv2I_complete/\"\n",
    "pathW = path_base + dir_2_save\n",
    "os.chdir(pathW)\n",
    "os.getcwd()"
   ]
  },
  {
   "cell_type": "code",
   "execution_count": 40,
   "id": "c31791fb",
   "metadata": {},
   "outputs": [
    {
     "name": "stderr",
     "output_type": "stream",
     "text": [
      "  0%|                                                                                 | 0/600 [00:00<?, ?it/s]\n",
      "  0%|                                                                                  | 0/10 [00:00<?, ?it/s]\u001b[A\n",
      " 60%|████████████████████████████████████████████▍                             | 6/10 [00:01<00:01,  3.87it/s]\u001b[A\n",
      " 70%|███████████████████████████████████████████████████▊                      | 7/10 [00:01<00:00,  3.94it/s]\u001b[A\n",
      " 80%|███████████████████████████████████████████████████████████▏              | 8/10 [00:02<00:00,  4.02it/s]\u001b[A\n",
      " 90%|██████████████████████████████████████████████████████████████████▌       | 9/10 [00:02<00:00,  4.10it/s]\u001b[A\n",
      "100%|█████████████████████████████████████████████████████████████████████████| 10/10 [00:02<00:00,  4.03it/s]\u001b[A\n",
      " 45%|████████████████████████████████▏                                      | 272/600 [04:35<05:29,  1.00s/it]"
     ]
    },
    {
     "ename": "ValueError",
     "evalue": "invalid literal for int() with base 10: ''",
     "output_type": "error",
     "traceback": [
      "\u001b[0;31m---------------------------------------------------------------------------\u001b[0m",
      "\u001b[0;31mValueError\u001b[0m                                Traceback (most recent call last)",
      "\u001b[0;32m/tmp/ipykernel_58512/679232803.py\u001b[0m in \u001b[0;36m<module>\u001b[0;34m\u001b[0m\n\u001b[1;32m     19\u001b[0m         \u001b[0mline_dec\u001b[0m \u001b[0;34m=\u001b[0m \u001b[0mline\u001b[0m\u001b[0;34m.\u001b[0m\u001b[0mdecode\u001b[0m\u001b[0;34m(\u001b[0m\u001b[0;34m\"utf-8\"\u001b[0m\u001b[0;34m)\u001b[0m \u001b[0;31m#ser.readline returns a binary, convert to string\u001b[0m\u001b[0;34m\u001b[0m\u001b[0;34m\u001b[0m\u001b[0m\n\u001b[1;32m     20\u001b[0m         \u001b[0mlst0\u001b[0m \u001b[0;34m=\u001b[0m \u001b[0mline_dec\u001b[0m\u001b[0;34m.\u001b[0m\u001b[0msplit\u001b[0m\u001b[0;34m(\u001b[0m\u001b[0;34m\",\"\u001b[0m\u001b[0;34m)\u001b[0m\u001b[0;34m\u001b[0m\u001b[0;34m\u001b[0m\u001b[0m\n\u001b[0;32m---> 21\u001b[0;31m         \u001b[0mlst1\u001b[0m \u001b[0;34m=\u001b[0m \u001b[0;34m[\u001b[0m\u001b[0mint\u001b[0m\u001b[0;34m(\u001b[0m\u001b[0mx\u001b[0m\u001b[0;34m)\u001b[0m \u001b[0;32mfor\u001b[0m \u001b[0mx\u001b[0m \u001b[0;32min\u001b[0m \u001b[0mlst0\u001b[0m\u001b[0;34m]\u001b[0m\u001b[0;34m\u001b[0m\u001b[0;34m\u001b[0m\u001b[0m\n\u001b[0m\u001b[1;32m     22\u001b[0m         \u001b[0;32mif\u001b[0m \u001b[0mlen\u001b[0m\u001b[0;34m(\u001b[0m\u001b[0mlst1\u001b[0m\u001b[0;34m)\u001b[0m\u001b[0;34m==\u001b[0m\u001b[0;36m6\u001b[0m\u001b[0;34m:\u001b[0m\u001b[0;34m\u001b[0m\u001b[0;34m\u001b[0m\u001b[0m\n\u001b[1;32m     23\u001b[0m             \u001b[0mGGS_list\u001b[0m \u001b[0;34m+=\u001b[0m \u001b[0;34m[\u001b[0m\u001b[0;34m[\u001b[0m\u001b[0mint\u001b[0m\u001b[0;34m(\u001b[0m\u001b[0mround\u001b[0m\u001b[0;34m(\u001b[0m\u001b[0mtime\u001b[0m\u001b[0;34m.\u001b[0m\u001b[0mtime\u001b[0m\u001b[0;34m(\u001b[0m\u001b[0;34m)\u001b[0m\u001b[0;34m,\u001b[0m\u001b[0;36m3\u001b[0m\u001b[0;34m)\u001b[0m\u001b[0;34m*\u001b[0m\u001b[0;36m1000\u001b[0m\u001b[0;34m-\u001b[0m\u001b[0minit_time\u001b[0m\u001b[0;34m)\u001b[0m\u001b[0;34m]\u001b[0m \u001b[0;34m+\u001b[0m \u001b[0mlst1\u001b[0m\u001b[0;34m]\u001b[0m\u001b[0;34m\u001b[0m\u001b[0;34m\u001b[0m\u001b[0m\n",
      "\u001b[0;32m/tmp/ipykernel_58512/679232803.py\u001b[0m in \u001b[0;36m<listcomp>\u001b[0;34m(.0)\u001b[0m\n\u001b[1;32m     19\u001b[0m         \u001b[0mline_dec\u001b[0m \u001b[0;34m=\u001b[0m \u001b[0mline\u001b[0m\u001b[0;34m.\u001b[0m\u001b[0mdecode\u001b[0m\u001b[0;34m(\u001b[0m\u001b[0;34m\"utf-8\"\u001b[0m\u001b[0;34m)\u001b[0m \u001b[0;31m#ser.readline returns a binary, convert to string\u001b[0m\u001b[0;34m\u001b[0m\u001b[0;34m\u001b[0m\u001b[0m\n\u001b[1;32m     20\u001b[0m         \u001b[0mlst0\u001b[0m \u001b[0;34m=\u001b[0m \u001b[0mline_dec\u001b[0m\u001b[0;34m.\u001b[0m\u001b[0msplit\u001b[0m\u001b[0;34m(\u001b[0m\u001b[0;34m\",\"\u001b[0m\u001b[0;34m)\u001b[0m\u001b[0;34m\u001b[0m\u001b[0;34m\u001b[0m\u001b[0m\n\u001b[0;32m---> 21\u001b[0;31m         \u001b[0mlst1\u001b[0m \u001b[0;34m=\u001b[0m \u001b[0;34m[\u001b[0m\u001b[0mint\u001b[0m\u001b[0;34m(\u001b[0m\u001b[0mx\u001b[0m\u001b[0;34m)\u001b[0m \u001b[0;32mfor\u001b[0m \u001b[0mx\u001b[0m \u001b[0;32min\u001b[0m \u001b[0mlst0\u001b[0m\u001b[0;34m]\u001b[0m\u001b[0;34m\u001b[0m\u001b[0;34m\u001b[0m\u001b[0m\n\u001b[0m\u001b[1;32m     22\u001b[0m         \u001b[0;32mif\u001b[0m \u001b[0mlen\u001b[0m\u001b[0;34m(\u001b[0m\u001b[0mlst1\u001b[0m\u001b[0;34m)\u001b[0m\u001b[0;34m==\u001b[0m\u001b[0;36m6\u001b[0m\u001b[0;34m:\u001b[0m\u001b[0;34m\u001b[0m\u001b[0;34m\u001b[0m\u001b[0m\n\u001b[1;32m     23\u001b[0m             \u001b[0mGGS_list\u001b[0m \u001b[0;34m+=\u001b[0m \u001b[0;34m[\u001b[0m\u001b[0;34m[\u001b[0m\u001b[0mint\u001b[0m\u001b[0;34m(\u001b[0m\u001b[0mround\u001b[0m\u001b[0;34m(\u001b[0m\u001b[0mtime\u001b[0m\u001b[0;34m.\u001b[0m\u001b[0mtime\u001b[0m\u001b[0;34m(\u001b[0m\u001b[0;34m)\u001b[0m\u001b[0;34m,\u001b[0m\u001b[0;36m3\u001b[0m\u001b[0;34m)\u001b[0m\u001b[0;34m*\u001b[0m\u001b[0;36m1000\u001b[0m\u001b[0;34m-\u001b[0m\u001b[0minit_time\u001b[0m\u001b[0;34m)\u001b[0m\u001b[0;34m]\u001b[0m \u001b[0;34m+\u001b[0m \u001b[0mlst1\u001b[0m\u001b[0;34m]\u001b[0m\u001b[0;34m\u001b[0m\u001b[0;34m\u001b[0m\u001b[0m\n",
      "\u001b[0;31mValueError\u001b[0m: invalid literal for int() with base 10: ''"
     ]
    }
   ],
   "source": [
    "serial_port = '/dev/ttyACM0'\n",
    "baud_rate = 9600\n",
    "\n",
    "\n",
    "pbar = tqdm(total=N_of_readings)\n",
    "GGS_list = []\n",
    "init_time = round(time.time(),3)*1000\n",
    "\n",
    "\n",
    "    \n",
    "with serial.Serial(serial_port, baud_rate) as ser:\n",
    "    for cc1 in tqdm(range(10)):\n",
    "        line_z = ser.readline();\n",
    "        line_dec_z = line_z.decode(\"utf-8\")\n",
    "        \n",
    "    while len(GGS_list) < N_of_readings:\n",
    "        time.sleep(1)\n",
    "        line = ser.readline();\n",
    "        line_dec = line.decode(\"utf-8\") #ser.readline returns a binary, convert to string\n",
    "        lst0 = line_dec.split(\",\")\n",
    "        lst1 = [int(x) for x in lst0]\n",
    "        if len(lst1)==6:\n",
    "            GGS_list += [[int(round(time.time(),3)*1000-init_time)] + lst1]\n",
    "            pbar.update(1)\n",
    "#             print(line_dec);"
   ]
  },
  {
   "cell_type": "code",
   "execution_count": 42,
   "id": "a429afe7",
   "metadata": {},
   "outputs": [
    {
     "data": {
      "text/plain": [
       "'42,22,68,,21,66,96,28,27\\r\\n'"
      ]
     },
     "execution_count": 42,
     "metadata": {},
     "output_type": "execute_result"
    }
   ],
   "source": [
    "line_dec"
   ]
  },
  {
   "cell_type": "code",
   "execution_count": 41,
   "id": "a3602146",
   "metadata": {},
   "outputs": [
    {
     "data": {
      "text/plain": [
       "[[3488, 42, 22, 69, 94, 28, 27],\n",
       " [4492, 42, 22, 69, 95, 28, 27],\n",
       " [5496, 42, 21, 69, 95, 28, 27],\n",
       " [6499, 42, 22, 69, 94, 28, 27],\n",
       " [7503, 41, 22, 69, 94, 28, 27],\n",
       " [8507, 42, 22, 69, 95, 28, 27],\n",
       " [9511, 42, 22, 68, 95, 28, 27],\n",
       " [10515, 41, 22, 68, 95, 28, 27],\n",
       " [11518, 42, 22, 69, 95, 28, 27],\n",
       " [12523, 42, 21, 69, 95, 28, 27],\n",
       " [13527, 41, 22, 68, 95, 28, 27],\n",
       " [14531, 42, 21, 68, 95, 28, 27],\n",
       " [15534, 42, 22, 69, 95, 28, 27],\n",
       " [16536, 42, 22, 69, 94, 28, 27],\n",
       " [17539, 42, 22, 68, 94, 28, 27],\n",
       " [18541, 42, 21, 69, 95, 28, 27],\n",
       " [19549, 42, 21, 69, 95, 28, 27],\n",
       " [20553, 42, 21, 69, 95, 28, 27],\n",
       " [21557, 41, 22, 68, 95, 28, 27],\n",
       " [22559, 42, 21, 69, 94, 28, 27],\n",
       " [23564, 42, 22, 69, 95, 28, 27],\n",
       " [24568, 41, 22, 69, 95, 28, 27],\n",
       " [25571, 42, 22, 69, 95, 28, 27],\n",
       " [26575, 42, 22, 69, 95, 28, 27],\n",
       " [27579, 42, 22, 69, 95, 28, 27],\n",
       " [28582, 42, 21, 68, 95, 28, 27],\n",
       " [29586, 42, 22, 69, 95, 28, 27],\n",
       " [30590, 42, 22, 69, 95, 28, 27],\n",
       " [31593, 41, 22, 69, 95, 28, 27],\n",
       " [32597, 42, 22, 69, 95, 28, 27],\n",
       " [33601, 41, 21, 69, 95, 28, 27],\n",
       " [34606, 42, 21, 69, 95, 28, 27],\n",
       " [35609, 42, 22, 68, 95, 28, 27],\n",
       " [36613, 42, 22, 69, 95, 28, 27],\n",
       " [37617, 41, 21, 68, 95, 28, 27],\n",
       " [38620, 41, 21, 69, 95, 28, 27],\n",
       " [39622, 42, 22, 68, 95, 28, 27],\n",
       " [40625, 41, 21, 69, 95, 28, 27],\n",
       " [41628, 42, 22, 69, 95, 28, 27],\n",
       " [42631, 41, 21, 68, 95, 28, 27],\n",
       " [43634, 42, 21, 69, 95, 28, 27],\n",
       " [44637, 41, 21, 68, 95, 28, 27],\n",
       " [45640, 42, 21, 69, 95, 28, 27],\n",
       " [46643, 42, 22, 69, 95, 28, 27],\n",
       " [47645, 41, 22, 68, 95, 28, 27],\n",
       " [48648, 41, 22, 69, 95, 28, 27],\n",
       " [49651, 41, 21, 68, 95, 28, 27],\n",
       " [50655, 41, 22, 69, 95, 28, 27],\n",
       " [51658, 42, 22, 69, 95, 28, 27],\n",
       " [52662, 41, 22, 69, 95, 28, 27],\n",
       " [53666, 42, 22, 68, 95, 28, 27],\n",
       " [54669, 42, 22, 68, 95, 28, 27],\n",
       " [55672, 41, 21, 69, 95, 28, 27],\n",
       " [56676, 41, 22, 69, 95, 28, 27],\n",
       " [57680, 41, 22, 68, 95, 28, 27],\n",
       " [58683, 41, 21, 69, 95, 28, 27],\n",
       " [59687, 42, 21, 69, 95, 28, 27],\n",
       " [60691, 41, 21, 68, 95, 28, 27],\n",
       " [61696, 41, 21, 69, 95, 28, 27],\n",
       " [62700, 42, 22, 69, 95, 28, 27],\n",
       " [63703, 41, 22, 69, 95, 28, 27],\n",
       " [64705, 42, 22, 69, 95, 28, 27],\n",
       " [65709, 42, 21, 68, 94, 28, 27],\n",
       " [66713, 41, 22, 69, 95, 28, 27],\n",
       " [67717, 42, 21, 68, 95, 28, 27],\n",
       " [68721, 41, 22, 69, 95, 28, 27],\n",
       " [69723, 42, 22, 69, 95, 28, 27],\n",
       " [70726, 42, 22, 69, 95, 28, 27],\n",
       " [71730, 42, 22, 68, 95, 28, 27],\n",
       " [72734, 42, 21, 69, 95, 28, 27],\n",
       " [73738, 42, 21, 68, 94, 28, 27],\n",
       " [74743, 41, 22, 69, 95, 28, 27],\n",
       " [75746, 42, 22, 69, 95, 28, 27],\n",
       " [76747, 41, 22, 69, 94, 28, 27],\n",
       " [77751, 41, 22, 69, 95, 28, 27],\n",
       " [78754, 41, 22, 69, 95, 28, 27],\n",
       " [79757, 41, 22, 69, 95, 28, 27],\n",
       " [80761, 42, 22, 68, 95, 28, 27],\n",
       " [81764, 42, 22, 69, 95, 28, 27],\n",
       " [82768, 41, 22, 69, 95, 28, 27],\n",
       " [83773, 41, 22, 69, 95, 28, 27],\n",
       " [84776, 41, 22, 69, 95, 28, 27],\n",
       " [85779, 42, 22, 68, 95, 28, 27],\n",
       " [86781, 42, 22, 68, 94, 28, 27],\n",
       " [87784, 41, 22, 69, 95, 28, 27],\n",
       " [88788, 42, 22, 68, 95, 28, 27],\n",
       " [89791, 41, 22, 69, 95, 28, 27],\n",
       " [90796, 41, 22, 68, 95, 28, 27],\n",
       " [91801, 41, 22, 69, 94, 28, 27],\n",
       " [92804, 42, 22, 68, 95, 28, 27],\n",
       " [93807, 42, 22, 68, 94, 28, 27],\n",
       " [94811, 41, 21, 69, 95, 28, 27],\n",
       " [95814, 42, 22, 69, 95, 28, 27],\n",
       " [96817, 42, 21, 68, 95, 28, 27],\n",
       " [97821, 42, 21, 69, 95, 28, 27],\n",
       " [98824, 42, 22, 68, 94, 28, 27],\n",
       " [99827, 42, 22, 69, 94, 28, 27],\n",
       " [100831, 42, 21, 68, 94, 28, 27],\n",
       " [101835, 42, 22, 68, 95, 28, 27],\n",
       " [102839, 42, 22, 69, 95, 28, 27],\n",
       " [103842, 42, 21, 68, 95, 28, 27],\n",
       " [104845, 42, 21, 69, 95, 28, 27],\n",
       " [105849, 41, 22, 68, 95, 28, 27],\n",
       " [106851, 41, 21, 69, 95, 28, 27],\n",
       " [107854, 42, 22, 69, 95, 28, 27],\n",
       " [108857, 41, 22, 68, 95, 28, 27],\n",
       " [109860, 41, 21, 68, 95, 28, 27],\n",
       " [110864, 42, 22, 69, 95, 28, 27],\n",
       " [111868, 41, 22, 69, 95, 28, 27],\n",
       " [112871, 42, 22, 68, 95, 28, 27],\n",
       " [113873, 41, 21, 69, 94, 28, 27],\n",
       " [114877, 42, 22, 68, 94, 28, 27],\n",
       " [115879, 42, 22, 68, 94, 28, 27],\n",
       " [116881, 42, 21, 68, 94, 28, 27],\n",
       " [117883, 42, 21, 68, 95, 28, 27],\n",
       " [118886, 42, 22, 68, 95, 28, 27],\n",
       " [119889, 42, 22, 69, 94, 28, 27],\n",
       " [120893, 42, 21, 68, 95, 28, 27],\n",
       " [121897, 42, 22, 68, 95, 28, 27],\n",
       " [122900, 42, 22, 69, 95, 28, 27],\n",
       " [123904, 42, 21, 68, 95, 28, 27],\n",
       " [124908, 42, 22, 68, 94, 28, 27],\n",
       " [125912, 41, 22, 68, 95, 28, 27],\n",
       " [126915, 41, 21, 68, 95, 28, 27],\n",
       " [127919, 42, 22, 69, 95, 28, 27],\n",
       " [128923, 42, 22, 68, 95, 28, 27],\n",
       " [129926, 42, 22, 68, 95, 28, 27],\n",
       " [130929, 42, 22, 68, 94, 28, 27],\n",
       " [131931, 42, 22, 68, 95, 28, 27],\n",
       " [132938, 42, 22, 68, 95, 28, 27],\n",
       " [133941, 42, 22, 69, 94, 28, 27],\n",
       " [134944, 42, 21, 69, 95, 28, 27],\n",
       " [135949, 42, 22, 69, 95, 28, 27],\n",
       " [136953, 42, 22, 68, 95, 28, 27],\n",
       " [137957, 41, 22, 69, 94, 28, 27],\n",
       " [138959, 41, 22, 69, 95, 28, 27],\n",
       " [139963, 42, 21, 68, 95, 28, 27],\n",
       " [140967, 42, 22, 69, 95, 28, 27],\n",
       " [141970, 41, 22, 68, 95, 28, 27],\n",
       " [142974, 42, 22, 69, 95, 28, 27],\n",
       " [143977, 42, 22, 68, 94, 28, 27],\n",
       " [144980, 42, 22, 69, 95, 28, 27],\n",
       " [145984, 41, 22, 68, 94, 28, 27],\n",
       " [146987, 41, 22, 69, 95, 28, 27],\n",
       " [147989, 41, 22, 68, 95, 28, 27],\n",
       " [148992, 42, 21, 69, 95, 28, 27],\n",
       " [149994, 41, 22, 68, 95, 28, 27],\n",
       " [150998, 42, 22, 68, 95, 28, 27],\n",
       " [152001, 41, 21, 68, 95, 28, 27],\n",
       " [153005, 42, 22, 69, 95, 28, 27],\n",
       " [154007, 42, 21, 68, 95, 28, 27],\n",
       " [155010, 42, 22, 68, 95, 28, 27],\n",
       " [156014, 41, 21, 69, 95, 28, 27],\n",
       " [157017, 41, 21, 69, 94, 28, 27],\n",
       " [158021, 42, 22, 69, 95, 28, 27],\n",
       " [159023, 41, 22, 69, 95, 28, 27],\n",
       " [160027, 42, 21, 69, 95, 28, 27],\n",
       " [161031, 42, 22, 68, 95, 28, 27],\n",
       " [162034, 42, 22, 68, 95, 28, 27],\n",
       " [163037, 41, 21, 69, 95, 28, 27],\n",
       " [164040, 42, 22, 68, 95, 28, 27],\n",
       " [165042, 42, 21, 68, 95, 28, 27],\n",
       " [166047, 42, 22, 68, 94, 28, 27],\n",
       " [167051, 41, 22, 68, 95, 28, 27],\n",
       " [168054, 42, 22, 69, 95, 28, 27],\n",
       " [169058, 41, 21, 69, 95, 28, 27],\n",
       " [170061, 42, 22, 69, 95, 28, 27],\n",
       " [171063, 41, 21, 69, 95, 28, 27],\n",
       " [172067, 42, 22, 68, 94, 28, 27],\n",
       " [173071, 42, 22, 68, 95, 28, 27],\n",
       " [174074, 42, 22, 69, 95, 28, 27],\n",
       " [175077, 42, 21, 69, 95, 28, 27],\n",
       " [176081, 42, 21, 68, 95, 28, 27],\n",
       " [177085, 42, 21, 68, 95, 28, 27],\n",
       " [178089, 42, 22, 69, 94, 28, 27],\n",
       " [179093, 42, 21, 68, 94, 28, 27],\n",
       " [180097, 42, 22, 68, 94, 28, 27],\n",
       " [181100, 41, 22, 69, 95, 28, 27],\n",
       " [182104, 42, 21, 68, 94, 28, 27],\n",
       " [183107, 42, 22, 68, 95, 28, 27],\n",
       " [184111, 41, 21, 68, 95, 28, 27],\n",
       " [185115, 42, 21, 69, 95, 28, 27],\n",
       " [186118, 42, 21, 68, 95, 28, 27],\n",
       " [187122, 42, 22, 68, 95, 28, 27],\n",
       " [188124, 41, 21, 68, 95, 28, 27],\n",
       " [189128, 41, 22, 68, 95, 28, 27],\n",
       " [190131, 42, 22, 68, 95, 28, 27],\n",
       " [191134, 42, 22, 69, 94, 28, 27],\n",
       " [192138, 42, 21, 69, 95, 28, 27],\n",
       " [193141, 42, 21, 68, 95, 28, 27],\n",
       " [194144, 41, 21, 69, 94, 28, 27],\n",
       " [195148, 42, 22, 68, 95, 28, 27],\n",
       " [196151, 42, 21, 68, 96, 28, 27],\n",
       " [197155, 41, 21, 68, 95, 28, 27],\n",
       " [198158, 42, 22, 68, 95, 28, 27],\n",
       " [199161, 42, 21, 68, 96, 28, 27],\n",
       " [200164, 42, 22, 69, 95, 28, 27],\n",
       " [201167, 41, 21, 69, 95, 28, 27],\n",
       " [202170, 42, 21, 69, 95, 28, 27],\n",
       " [203174, 42, 22, 69, 95, 28, 27],\n",
       " [204178, 41, 22, 69, 95, 28, 27],\n",
       " [205183, 42, 22, 68, 96, 28, 27],\n",
       " [206186, 42, 22, 69, 95, 28, 27],\n",
       " [207189, 42, 21, 69, 95, 28, 27],\n",
       " [208192, 42, 22, 69, 95, 28, 27],\n",
       " [209197, 41, 22, 69, 95, 28, 27],\n",
       " [210200, 41, 22, 68, 95, 28, 27],\n",
       " [211202, 42, 22, 68, 95, 28, 27],\n",
       " [212204, 42, 22, 69, 95, 28, 27],\n",
       " [213206, 42, 22, 69, 95, 28, 27],\n",
       " [214209, 42, 22, 68, 95, 28, 27],\n",
       " [215213, 42, 22, 68, 95, 28, 27],\n",
       " [216216, 42, 22, 69, 95, 28, 27],\n",
       " [217220, 41, 22, 68, 96, 28, 27],\n",
       " [218223, 42, 22, 69, 94, 28, 27],\n",
       " [219225, 41, 21, 67, 95, 28, 27],\n",
       " [220228, 42, 22, 69, 95, 28, 27],\n",
       " [221232, 42, 21, 69, 95, 28, 27],\n",
       " [222236, 42, 22, 68, 95, 28, 27],\n",
       " [223239, 41, 21, 69, 95, 28, 27],\n",
       " [224241, 41, 22, 68, 95, 28, 27],\n",
       " [225244, 41, 22, 69, 95, 28, 27],\n",
       " [226248, 41, 22, 69, 95, 28, 27],\n",
       " [227252, 42, 22, 68, 95, 28, 27],\n",
       " [228255, 41, 22, 69, 95, 28, 27],\n",
       " [229258, 41, 22, 69, 95, 28, 27],\n",
       " [230261, 41, 21, 68, 95, 28, 27],\n",
       " [231263, 41, 22, 69, 96, 28, 27],\n",
       " [232268, 42, 22, 68, 96, 28, 27],\n",
       " [233271, 42, 22, 68, 95, 28, 27],\n",
       " [234275, 42, 21, 69, 96, 28, 27],\n",
       " [235278, 42, 22, 69, 96, 28, 27],\n",
       " [236281, 42, 22, 68, 96, 28, 27],\n",
       " [237284, 42, 21, 68, 96, 28, 27],\n",
       " [238288, 42, 22, 68, 96, 28, 27],\n",
       " [239292, 42, 21, 68, 96, 28, 27],\n",
       " [240296, 42, 22, 69, 96, 28, 27],\n",
       " [241299, 42, 22, 67, 95, 28, 27],\n",
       " [242302, 41, 22, 68, 95, 28, 27],\n",
       " [243304, 42, 21, 68, 95, 28, 27],\n",
       " [244308, 41, 22, 68, 95, 28, 27],\n",
       " [245313, 42, 21, 69, 96, 28, 27],\n",
       " [246317, 42, 21, 69, 96, 28, 27],\n",
       " [247318, 41, 22, 68, 96, 28, 27],\n",
       " [248321, 42, 21, 69, 95, 28, 27],\n",
       " [249325, 42, 22, 68, 95, 28, 27],\n",
       " [250329, 41, 22, 68, 96, 28, 27],\n",
       " [251333, 42, 21, 68, 95, 28, 27],\n",
       " [252335, 42, 21, 68, 95, 28, 27],\n",
       " [253338, 42, 21, 68, 96, 28, 27],\n",
       " [254341, 42, 22, 69, 95, 28, 27],\n",
       " [255344, 42, 21, 68, 96, 28, 27],\n",
       " [256348, 42, 21, 68, 96, 28, 27],\n",
       " [257351, 42, 22, 67, 96, 28, 27],\n",
       " [258354, 42, 21, 67, 95, 28, 27],\n",
       " [259358, 42, 22, 68, 96, 28, 27],\n",
       " [260361, 42, 22, 68, 95, 28, 27],\n",
       " [261363, 42, 21, 68, 96, 28, 27],\n",
       " [262366, 42, 21, 68, 96, 28, 27],\n",
       " [263369, 42, 21, 68, 96, 28, 27],\n",
       " [264372, 42, 22, 68, 96, 28, 27],\n",
       " [265375, 42, 22, 68, 96, 28, 27],\n",
       " [266379, 42, 22, 68, 96, 28, 27],\n",
       " [267381, 41, 22, 69, 97, 28, 27],\n",
       " [268383, 42, 21, 68, 95, 28, 27],\n",
       " [269387, 41, 22, 68, 96, 28, 27],\n",
       " [270391, 41, 21, 68, 96, 28, 27],\n",
       " [271396, 42, 22, 68, 95, 28, 27],\n",
       " [272399, 42, 21, 68, 96, 28, 27],\n",
       " [273402, 41, 21, 68, 96, 28, 27],\n",
       " [274405, 42, 22, 68, 95, 28, 27],\n",
       " [275408, 41, 22, 68, 95, 28, 27]]"
      ]
     },
     "execution_count": 41,
     "metadata": {},
     "output_type": "execute_result"
    }
   ],
   "source": [
    "GGS_list"
   ]
  },
  {
   "cell_type": "code",
   "execution_count": null,
   "id": "a0ad96d7",
   "metadata": {},
   "outputs": [],
   "source": [
    "GGS_list[1087][1] = 434\n",
    "GGS_list[1087]"
   ]
  },
  {
   "cell_type": "code",
   "execution_count": 43,
   "id": "82187ead",
   "metadata": {},
   "outputs": [],
   "source": [
    "GGS_df = pd.DataFrame(GGS_list, columns=[\"time_ms\", \"B102NO2\", \"B302C2H5OH\", \"B502VOC\", \"B702CO\", \"TdegC\", \"RH\"])\n"
   ]
  },
  {
   "cell_type": "code",
   "execution_count": null,
   "id": "6a5901a0",
   "metadata": {},
   "outputs": [],
   "source": [
    "# filename_to_save = \"./%s_%s_%s_%s.csv\" % (label, add_label, env_condition, datetime.now().strftime(\"%Y%m%d_%H%M%S\"))\n",
    "\n",
    "# with open(filename_to_save, 'w') as output_file:\n",
    "#     GGS_df.to_csv(output_file, index=False)\n",
    "#     print(\"Saved to file: \" + filename_to_save)\n",
    "#     print(\"Under the path: \" + pathW)"
   ]
  },
  {
   "cell_type": "code",
   "execution_count": 44,
   "id": "e5fc1b8e",
   "metadata": {},
   "outputs": [
    {
     "data": {
      "image/png": "[encoded data removed]",
      "text/plain": [
       "<Figure size 720x360 with 1 Axes>"
      ]
     },
     "metadata": {
      "needs_background": "light"
     },
     "output_type": "display_data"
    }
   ],
   "source": [
    "plt.figure(figsize=(10,5))\n",
    "plt.plot(GGS_df.time_ms, GGS_df.drop('time_ms', axis=1))\n",
    "plt.legend(GGS_df.drop('time_ms', axis=1).columns.to_list())\n",
    "plt.tick_params(axis='x', colors='red')\n",
    "plt.tick_params(axis='y', colors='red')\n",
    "plt.grid()"
   ]
  },
  {
   "cell_type": "code",
   "execution_count": null,
   "id": "c9b82456",
   "metadata": {},
   "outputs": [],
   "source": [
    "GGS_df"
   ]
  }
 ],
 "metadata": {
  "kernelspec": {
   "display_name": "pyAIsense_env",
   "language": "python",
   "name": "pyaisense"
  },
  "language_info": {
   "codemirror_mode": {
    "name": "ipython",
    "version": 3
   },
   "file_extension": ".py",
   "mimetype": "text/x-python",
   "name": "python",
   "nbconvert_exporter": "python",
   "pygments_lexer": "ipython3",
   "version": "3.9.7"
  }
 },
 "nbformat": 4,
 "nbformat_minor": 5
}
