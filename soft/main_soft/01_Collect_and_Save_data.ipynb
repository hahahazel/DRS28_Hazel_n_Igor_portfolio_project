{
 "cells": [
  {
   "cell_type": "code",
   "execution_count": 5,
   "id": "4bfe24eb",
   "metadata": {},
   "outputs": [],
   "source": [
    "## environment preparation\n",
    "##============================\n",
    "%reset -f\n",
    "# %connect_info #might be used for \"jupyter-console\""
   ]
  },
  {
   "cell_type": "code",
   "execution_count": 6,
   "id": "83555de5",
   "metadata": {},
   "outputs": [],
   "source": [
    "## Import libraries\n",
    "##============================\n",
    "import serial\n",
    "from datetime import datetime\n",
    "import time\n",
    "import os\n",
    "from tqdm import tqdm\n",
    "import numpy as np\n",
    "import pandas as pd\n",
    "import matplotlib.pyplot as plt"
   ]
  },
  {
   "cell_type": "code",
   "execution_count": 7,
   "id": "f92edcea",
   "metadata": {},
   "outputs": [],
   "source": [
    "## Parameters\n",
    "##============================\n",
    "N_of_readings = 10*60*10 #10Hz 60sec 10min\n",
    "plot_update_factor = 100 #every 10\n",
    "label = \"lemon\""
   ]
  },
  {
   "cell_type": "code",
   "execution_count": 8,
   "id": "bd36bf78",
   "metadata": {},
   "outputs": [],
   "source": [
    "## Settings\n",
    "##============================\n",
    "serial_port_ACM0 = '/dev/ttyACM0'\n",
    "baud_rate = 9600\n",
    "\n",
    "GGS_list_ggsI = []\n",
    "init_time = round(time.time(),3)*1000"
   ]
  },
  {
   "cell_type": "code",
   "execution_count": 9,
   "id": "5f65f583",
   "metadata": {},
   "outputs": [],
   "source": [
    "current_path0 = os.getcwd()\n",
    "os.chdir('../../data/readback')\n",
    "pathW = os.getcwd()"
   ]
  },
  {
   "cell_type": "code",
   "execution_count": 14,
   "id": "3937129b",
   "metadata": {},
   "outputs": [
    {
     "name": "stderr",
     "output_type": "stream",
     "text": [
      "100%|█████████████████████████████████████████████████████████████████████████| 10/10 [00:02<00:00,  3.71it/s]\n"
     ]
    },
    {
     "ename": "TypeError",
     "evalue": "'AxesSubplot' object is not subscriptable",
     "output_type": "error",
     "traceback": [
      "\u001b[0;31m---------------------------------------------------------------------------\u001b[0m",
      "\u001b[0;31mTypeError\u001b[0m                                 Traceback (most recent call last)",
      "\u001b[0;32m/tmp/ipykernel_10496/2359530789.py\u001b[0m in \u001b[0;36m<module>\u001b[0;34m\u001b[0m\n\u001b[1;32m     24\u001b[0m             \u001b[0;32mif\u001b[0m \u001b[0mlen\u001b[0m\u001b[0;34m(\u001b[0m\u001b[0mGGS_list_ggsI\u001b[0m\u001b[0;34m)\u001b[0m\u001b[0;34m%\u001b[0m\u001b[0mplot_update_factor\u001b[0m\u001b[0;34m==\u001b[0m\u001b[0;36m0\u001b[0m\u001b[0;34m:\u001b[0m\u001b[0;34m\u001b[0m\u001b[0;34m\u001b[0m\u001b[0m\n\u001b[1;32m     25\u001b[0m                 \u001b[0mGGS_df_ggsI_t\u001b[0m \u001b[0;34m=\u001b[0m \u001b[0mpd\u001b[0m\u001b[0;34m.\u001b[0m\u001b[0mDataFrame\u001b[0m\u001b[0;34m(\u001b[0m\u001b[0mGGS_list_ggsI\u001b[0m\u001b[0;34m)\u001b[0m\u001b[0;34m\u001b[0m\u001b[0;34m\u001b[0m\u001b[0m\n\u001b[0;32m---> 26\u001b[0;31m                 \u001b[0maxs\u001b[0m\u001b[0;34m[\u001b[0m\u001b[0;36m0\u001b[0m\u001b[0;34m]\u001b[0m\u001b[0;34m.\u001b[0m\u001b[0mplot\u001b[0m\u001b[0;34m(\u001b[0m\u001b[0mGGS_df_ggsI_t\u001b[0m\u001b[0;34m.\u001b[0m\u001b[0miloc\u001b[0m\u001b[0;34m[\u001b[0m\u001b[0;34m:\u001b[0m\u001b[0;34m,\u001b[0m\u001b[0;36m1\u001b[0m\u001b[0;34m:\u001b[0m\u001b[0;36m7\u001b[0m\u001b[0;34m]\u001b[0m\u001b[0;34m)\u001b[0m\u001b[0;34m\u001b[0m\u001b[0;34m\u001b[0m\u001b[0m\n\u001b[0m\u001b[1;32m     27\u001b[0m                 \u001b[0mplt\u001b[0m\u001b[0;34m.\u001b[0m\u001b[0mpause\u001b[0m\u001b[0;34m(\u001b[0m\u001b[0;36m0.000001\u001b[0m\u001b[0;34m)\u001b[0m\u001b[0;34m\u001b[0m\u001b[0;34m\u001b[0m\u001b[0m\n",
      "\u001b[0;31mTypeError\u001b[0m: 'AxesSubplot' object is not subscriptable"
     ]
    }
   ],
   "source": [
    "# plt.ion() \n",
    "# # fig=plt.figure()\n",
    "# fig, axs = plt.subplots(1, 1)\n",
    "# GGS_df_ggsI = pd.DataFrame(GGS_list_ggsI)\n",
    "# axs[0].plot(GGS_df_ggsI.iloc[:,1:7])\n",
    "# axs[0].grid()\n",
    "# axs[0].title.set_text('ggsI')\n",
    "# plt.show()\n",
    "\n",
    "with serial.Serial(serial_port_ACM0, baud_rate) as serACM0:\n",
    "    for cc1 in tqdm(range(10)):\n",
    "        line_z0 = serACM0.readline();\n",
    "        line_dec_z0 = line_z0.decode(\"utf-8\")\n",
    "        \n",
    "    while len(GGS_list_ggsI) < N_of_readings:\n",
    "        line0 = serACM0.readline();\n",
    "        line_dec0 = line0.decode(\"utf-8\") #serACM0.readline returns a binary, convert to string\n",
    "        lst00 = line_dec0.split(\",\")\n",
    "        lst10 = [int(x) for x in lst00]\n",
    "\n",
    "        if len(lst10)==6:\n",
    "            GGS_list_ggsI += [[int(round(time.time(),3)*1000-init_time)] + lst10]\n",
    "\n",
    "            if len(GGS_list_ggsI)%plot_update_factor==0:\n",
    "                GGS_df_ggsI_t = pd.DataFrame(GGS_list_ggsI)\n",
    "                axs[0].plot(GGS_df_ggsI_t.iloc[:,1:7])\n",
    "                plt.pause(0.000001)"
   ]
  },
  {
   "cell_type": "code",
   "execution_count": null,
   "id": "16e99042",
   "metadata": {},
   "outputs": [],
   "source": [
    "GGS_df_ggsI = pd.DataFrame(GGS_list_ggsI, columns=[\"time_ms\", \"B102NO2\", \"B302C2H5OH\", \"B502VOC\", \"B702CO\", \"TdegC\", \"RH\"])\n",
    "\n",
    "filename_to_save_ggsI = pathW+\"./ggsI_%s_%s.csv\" % (label, datetime.now().strftime(\"%Y%m%d_%H%M%S\"))\n",
    "\n",
    "with open(filename_to_save_ggsI, 'w') as output_file_ggsI:\n",
    "    GGS_df_ggsI.to_csv(output_file_ggsI, index=False)\n",
    "    print(\"Saved to file: \" + filename_to_save_ggsI)\n",
    "    print(\"Under the path: \" + pathW)\n",
    "\n",
    "\n",
    "\n",
    "plt.close()\n",
    "fig, axs = plt.subplots(2, 1)\n",
    "GGS_df_ggsI = pd.DataFrame(GGS_list_ggsI)\n",
    "GGS_df_ggsH = pd.DataFrame(GGS_list_ggsH)\n",
    "axs[0].plot(GGS_df_ggsI.iloc[:,1:7])\n",
    "axs[0].grid()\n",
    "axs[0].legend(GGS_df_ggsI.iloc[:,1:7].columns.to_list())\n",
    "axs[1].title.set_text('ggsI')\n",
    "axs[1].plot(GGS_df_ggsH.iloc[:,1:7])\n",
    "axs[1].grid()\n",
    "axs[1].legend(GGS_df_ggsH.iloc[:,1:7].columns.to_list())\n",
    "axs[1].title.set_text('ggsH')\n",
    "plt.show()\n",
    "plt.show(block=True)\n",
    "# plt.show()"
   ]
  }
 ],
 "metadata": {
  "kernelspec": {
   "display_name": "pyAIsense_env",
   "language": "python",
   "name": "pyaisense"
  },
  "language_info": {
   "codemirror_mode": {
    "name": "ipython",
    "version": 3
   },
   "file_extension": ".py",
   "mimetype": "text/x-python",
   "name": "python",
   "nbconvert_exporter": "python",
   "pygments_lexer": "ipython3",
   "version": "3.9.7"
  }
 },
 "nbformat": 4,
 "nbformat_minor": 5
}
