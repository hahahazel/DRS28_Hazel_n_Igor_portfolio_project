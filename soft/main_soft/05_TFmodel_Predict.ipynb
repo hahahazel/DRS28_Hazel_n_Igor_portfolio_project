{
 "cells": [
  {
   "cell_type": "code",
   "execution_count": null,
   "metadata": {},
   "outputs": [],
   "source": [
    "## environment preparation\n",
    "##============================\n",
    "\n",
    "%reset -f\n",
    "%connect_info #might be used for \"jupyter-console\""
   ]
  },
  {
   "cell_type": "code",
   "execution_count": null,
   "metadata": {},
   "outputs": [],
   "source": [
    "#########################\n",
    "## Load libraries\n",
    "#########################\n",
    "\n",
    "import numpy as np\n",
    "import tensorflow as tf\n",
    "import matplotlib.pyplot as plt\n",
    "import pandas as pd\n",
    "import serial\n",
    "import time\n",
    "from tqdm import tqdm # progressbar in for loop\n",
    "from collections import Counter # to sum dict values up\n",
    "from datetime import datetime\n",
    "import os"
   ]
  },
  {
   "cell_type": "code",
   "execution_count": null,
   "metadata": {},
   "outputs": [],
   "source": [
    "## Define the classes to be measured\n",
    "##=====================================\n",
    "## teh values can be found in 04_TF_Train.ipynb\" Cell 7\n",
    "\n",
    "classes_values = ['beer',\n",
    "                  'coffee',\n",
    "                  'orange'\n",
    "                  ]\n",
    "\n",
    "# classes_values = ['sampleX1',\n",
    "#                   'sampleX2',\n",
    "#                   'sampleX3'\n",
    "#                   ]"
   ]
  },
  {
   "cell_type": "code",
   "execution_count": null,
   "metadata": {},
   "outputs": [],
   "source": [
    "#########################\n",
    "## set the paths and load data\n",
    "#########################\n",
    "path_ipynb = os.getcwd()\n",
    "path_base = path_ipynb + '/../../data/'\n",
    "\n",
    "path_add_folder2readmodel = \"tf_models/\"\n",
    "model_filename = 'model_demo_run'"
   ]
  },
  {
   "cell_type": "code",
   "execution_count": null,
   "metadata": {},
   "outputs": [],
   "source": [
    "#########################\n",
    "## Load model\n",
    "#########################\n",
    "model_ff = tf.keras.models.load_model((path_base + path_add_folder2readmodel + model_filename))\n",
    "\n",
    "# Check its architecture\n",
    "model_ff.summary()"
   ]
  },
  {
   "cell_type": "code",
   "execution_count": null,
   "metadata": {},
   "outputs": [],
   "source": [
    "#########################\n",
    "## Manual predict\n",
    "#########################\n",
    "#### The values are taken from \"04_TF_Train.ipynb\"\n",
    "\n",
    "# Values_Train: [[64. 15. 64. 93. 15. 66.]]\n",
    "# Label_Train:  [[0. 0. 0. 0. 1. 0. 0. 0. 0. 0. 0. 0. 0.]]\n",
    "# Label_Text:   [['cheese']]\n",
    "data2predictArr = np.array([[64, 15, 64, 93, 15, 66]])\n",
    "\n",
    "# Values_Train: [[ 82.  27.  70. 106.  22.  56.]]\n",
    "# Label_Train:  [[0. 0. 0. 1. 0. 0. 0. 0. 0. 0. 0. 0. 0.]]\n",
    "# Label_Text:   [['carrot']]\n",
    "# data2predictArr = np.array([[ 82,  27,  70, 106,  22,  56]])\n",
    "    \n",
    "# Values_Test: [[ 60.  32. 154. 288.  25.  45.]]\n",
    "# Label_Test:  [[0. 1. 0. 0. 0. 0. 0. 0. 0. 0. 0. 0. 0.]]\n",
    "# Label_Text:   [['beer']]    \n",
    "# data2predictArr = np.array([[ 60,  32, 154, 288,  25,  45]])    \n",
    "\n",
    "# Values_Test: [[62. 33. 90. 91. 22. 60.]]\n",
    "# Label_Test:  [[0. 0. 0. 0. 0. 0. 0. 0. 0. 0. 0. 1. 0.]]\n",
    "# Label_Text:   [['sprite']]\n",
    "# data2predictArr = np.array([[62, 33, 90, 91, 22, 60]])\n",
    "\n",
    "predictionN = model_ff.predict(data2predictArr)\n",
    "predictionN"
   ]
  },
  {
   "cell_type": "code",
   "execution_count": null,
   "metadata": {},
   "outputs": [],
   "source": [
    "#########################\n",
    "## Plot Manual predict\n",
    "#########################\n",
    "# fig = plt.figure(figsize=(6, 5))\n",
    "# plt.barh(classes_values, predictionN.tolist()[0])\n",
    "# for index, value in zip(classes_values, predictionN.tolist()[0]):\n",
    "#     plt.text(0.7, index, str(round(value, 5)))\n",
    "#     # plt.text(value, index, str(value))\n",
    "# plt.tick_params(axis='x', colors='red')\n",
    "# plt.tick_params(axis='y', colors='red')\n",
    "# plt.grid()\n",
    "# plt.show()"
   ]
  },
  {
   "cell_type": "code",
   "execution_count": null,
   "metadata": {
    "scrolled": true
   },
   "outputs": [],
   "source": [
    "#########################\n",
    "## Live predict\n",
    "#########################\n",
    "N_of_readings = 50 #10Hz=100ms : 10 -> 1sec\n",
    "\n",
    "serial_port = '/dev/ttyACM0'\n",
    "baud_rate = 9600\n",
    "\n",
    "\n",
    "pbar = tqdm(total=N_of_readings)\n",
    "GGS_list = []\n",
    "init_time = round(time.time(),3)*1000\n",
    "\n",
    "with serial.Serial(serial_port, baud_rate) as ser:\n",
    "    for cc1 in tqdm(range(10)):\n",
    "        line_z = ser.readline();\n",
    "        line_dec_z = line_z.decode(\"utf-8\")\n",
    "        \n",
    "    while len(GGS_list) < N_of_readings:\n",
    "        line = ser.readline();\n",
    "        line_dec = line.decode(\"utf-8\") #ser.readline returns a binary, convert to string\n",
    "        lst0 = line_dec.split(\",\")\n",
    "        lst1 = [int(x) for x in lst0]\n",
    "        if len(lst1)==6:\n",
    "            GGS_list += [[int(round(time.time(),3)*1000-init_time)] + lst1]\n",
    "            pbar.update(1)\n",
    "#             print(line_dec);\n",
    "\n",
    "GGS_df = pd.DataFrame(GGS_list, columns=[\"time_ms\", \"B102NO2\", \"B302C2H5OH\", \"B502VOC\", \"B702CO\", \"TdegC\", \"RH\"])\n",
    "GGS_df"
   ]
  },
  {
   "cell_type": "code",
   "execution_count": null,
   "metadata": {},
   "outputs": [],
   "source": [
    "##################################################\n",
    "## Plot the collected data\n",
    "##################################################\n",
    "plt.plot(GGS_df.time_ms, GGS_df.iloc[:,1:7])\n",
    "plt.legend(GGS_df.iloc[:,1:7].columns.to_list())\n",
    "plt.tick_params(axis='x', colors='red')\n",
    "plt.tick_params(axis='y', colors='red')\n",
    "plt.grid()"
   ]
  },
  {
   "cell_type": "code",
   "execution_count": null,
   "metadata": {
    "scrolled": true
   },
   "outputs": [],
   "source": [
    "##################################################\n",
    "## Predict the live data\n",
    "##################################################\n",
    "data2predictArr = GGS_df.iloc[:,1:].to_numpy()\n",
    "data2predictArr.shape=(data2predictArr.shape[0],6)\n",
    "predictionN = model_ff.predict(data2predictArr)\n",
    "print(predictionN)\n",
    "data2predictArrAver = predictionN.mean(axis=0)\n",
    "print(data2predictArrAver)"
   ]
  },
  {
   "cell_type": "code",
   "execution_count": null,
   "metadata": {
    "scrolled": false
   },
   "outputs": [],
   "source": [
    "##################################################\n",
    "## Plot the prediction of the live data\n",
    "##################################################\n",
    "fig = plt.figure(figsize=(6, 5))\n",
    "plt.barh(classes_values, data2predictArrAver.tolist())\n",
    "for index, value in zip(classes_values, predictionN.tolist()[0]):\n",
    "    plt.text(0.7, index, str(round(value, 5)))\n",
    "    # plt.text(value, index, str(value))\n",
    "plt.tick_params(axis='x', colors='red')\n",
    "plt.tick_params(axis='y', colors='red')\n",
    "plt.grid()\n",
    "plt.show()"
   ]
  }
 ],
 "metadata": {
  "kernelspec": {
   "display_name": "pyAIsense_env",
   "language": "python",
   "name": "pyaisense"
  },
  "language_info": {
   "codemirror_mode": {
    "name": "ipython",
    "version": 3
   },
   "file_extension": ".py",
   "mimetype": "text/x-python",
   "name": "python",
   "nbconvert_exporter": "python",
   "pygments_lexer": "ipython3",
   "version": "3.9.7"
  }
 },
 "nbformat": 4,
 "nbformat_minor": 4
}
